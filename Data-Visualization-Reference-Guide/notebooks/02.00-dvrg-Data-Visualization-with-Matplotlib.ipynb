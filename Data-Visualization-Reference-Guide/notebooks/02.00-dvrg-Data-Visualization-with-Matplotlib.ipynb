{
 "cells": [
  {
   "cell_type": "markdown",
   "id": "8d69fdc3-dfe4-4e63-b61f-38f5ee25643f",
   "metadata": {},
   "source": [
    "<!--BOOK_INFORMATION-->\n",
    "<img align=\"left\" style=\"padding-right:10px;\" src=\"figures/DVRG-Book-Cover-Small.png\"><br>\n",
    "\n",
    "This notebook contains an excerpt from the **`Data Visualization Reference Guide - For Beginners`** book written by *Balasubramanian Chandran*; the content is available [on GitHub](https://github.com/BalaChandranGH/Books/Data-Visualization-Reference-Guide)."
   ]
  },
  {
   "cell_type": "markdown",
   "id": "ed4b74ab-5df5-4269-b537-8da2c81e9508",
   "metadata": {},
   "source": [
    "<br>\n",
    "<!--NAVIGATION-->\n",
    "\n",
    "<[ [Introduction to Visualizations](01.00-dvrg-Introduction-to-Visualizations.ipynb) | [Contents and Acronyms](00.00-dvrg-Contents-and-Acronyms.ipynb) | [Data Visualization with Seaborn](03.00-dvrg-Data-Visualization-with-Seaborn.ipynb) ]>"
   ]
  },
  {
   "cell_type": "markdown",
   "id": "3a3760e4-98b9-43d6-9af3-c3e9228a617f",
   "metadata": {},
   "source": [
    "# 2. Data Visualization with Matplotlib"
   ]
  },
  {
   "cell_type": "markdown",
   "id": "ff15f388-7b49-42a9-bf36-b5a469c1397c",
   "metadata": {},
   "source": [
    "## 2.1. Introduction\n",
    "* Data visualization makes complex data more accessible and easily understandable\n",
    "* The goal of any data visualization is to communicate information clearly and efficiently\n",
    "* Matplotlib is the basic data visualization tool (plotting library) of the Python programming language\n",
    "* Python has different data visualization tools available that are suitable for different purposes\n",
    "* Matplotlib can produce publication-quality figures in a variety of formats\n",
    "* It can export visualizations to all of the common formats like PDF, SVG, JPG, PNG, BMP, and GIF\n",
    "* It can create popular visualization types – line plot, scatter plot, histogram, bar chart, error charts, pie chart, box plot, and many more types of plots including 3D plotting\n",
    "* Many Python libraries are built on top of Matplotlib (e.g., Pandas and Seaborn)\n",
    "* Viewing the Matplotlib plot is context-based and they are:\n",
    "  - Plotting from a script (`plt.show()` – _should be used only once and at the end of the script_)\n",
    "  - Plotting from an IPython shell (use `%matplotlib` magic command for interactivity at the beginning)\n",
    "  - Plotting from a Jupyter notebook (use `%matplotlib` for interactivity at the beginning)\n",
    "  - There are two possible options to work with graphics in Jupyter Notebook and they are:\n",
    "    - `%matplotlib notebook`: Will produce interactive plots embedded within the notebook\n",
    "    - `%matplotlib inline`: Will produce static images of the plot embedded in the notebook"
   ]
  },
  {
   "cell_type": "markdown",
   "id": "7c3d3f7d-4567-4988-9973-d73d4379ae79",
   "metadata": {},
   "source": [
    "## 2.2. Python Data Visualization libraries\n",
    "Python has multiple tools for data visualization. They are as follows:\n",
    "* Matplotlib\n",
    "* Seaborn\n",
    "* Pandas\n",
    "* Bokeh\n",
    "* Plotly\n",
    "* ggplot\n",
    "* Pygal"
   ]
  },
  {
   "cell_type": "markdown",
   "id": "d5d0b59b-a65f-4f09-be5b-7b1b661211ff",
   "metadata": {},
   "source": [
    "## 2.3. Introduction to Matplotlib\n",
    "Matplotlib can produce publication-quality figures in a variety of formats. It can export visualizations to all of the common formats like PDF, SVG, JPG, PNG, BMP, and GIF. It can create popular visualization types – line plot, scatter plot, histogram, bar chart, error charts, pie chart, box plot, and many more types of plot. Matplotlib also supports 3D plotting. Many Python libraries are built on top of Matplotlib. For example, pandas and Seaborn are built on Matplotlib. They allow us to access Matplotlib’s methods with less code."
   ]
  },
  {
   "cell_type": "markdown",
   "id": "3f2330d4-c8e4-4b41-b826-812d3ad1f10f",
   "metadata": {},
   "source": [
    "## 2.4. Displaying plots in Matplotlib\n",
    "Viewing the Matplotlib plot is context-based. The best usage of Matplotlib differs depending on how we are using it. There are three applicable contexts for viewing the plots. The three applicable contexts are using plotting from a _**script**_, _**plotting from an IPython shell**_, or _**plotting from a Jupyter notebook**_.\n",
    "\n",
    "**Plotting from a script:**<br>\n",
    "If we use Matplotlib from within a script, then the **`plt.show()`** command is of great use. It starts an event loop, looks for all currently active figure objects, and opens one or more interactive windows that display the figure. The **`plt.show()`** command should be used only once per Python session. It should be used only at the end of the script. Multiple **`plt.show()`** commands can lead to unpredictable results and should mostly be avoided.\n",
    "\n",
    "**Plotting from an IPython shell:**<br>\n",
    "We can use Matplotlib interactively within the IPython shell. IPython works well with Matplotlib if we specify Matplotlib mode. To enable this mode, use the **`%matplotlib`** `magic command` after starting IPython. Any **`plt.plot`** command will cause a figure window to open and further commands can be run to update the plot.\n",
    "\n",
    "**Plotting from a Jupyter notebook:**<br>\n",
    "The Jupyter Notebook (formerly known as the IPython Notebook) is a data analysis and visualization tool that provides multiple tools under one roof. It provides code execution, graphical plots, rich text and media display, mathematics formula, and much more facilities into a single executable document.\n",
    "Interactive plotting within a Jupyter Notebook can be done with the **`%matplotlib`** command. There are two possible options to work with graphics in Jupyter Notebook. These are as follows:\n",
    "* `%matplotlib notebook`: Will produce interactive plots embedded within the notebook\n",
    "* `%matplotlib inline`: It will output static images of the plot embedded in the notebook\n",
    "\n",
    "After this command (it needs to be done only once per kernel per session), any cell within the notebook that creates a plot will embed a PNG image of the graphic."
   ]
  },
  {
   "cell_type": "markdown",
   "id": "9753fa7d-1ab6-4a78-aa79-23484776a79b",
   "metadata": {},
   "source": [
    "## 2.5. Matplotlib Object Hierarchy\n",
    "* In Matplotlib, a plot is a hierarchy of nested Python objects\n",
    "* A **hierarchy** means that there is a tree-like structure of Matplotlib objects underlying each plot\n",
    "* A **Figure** object is an outermost container for a Matplotlib plot. The **Figure** object contains multiple **Axes** objects. So, the **Figure** is the final graphic that may contain one or more **Axes**\n",
    "* The **Axes** represent an individual plot\n",
    "* So, we can think of the Figure object as a box-like container containing one or more Axes. The Axes object contain smaller objects such as tick marks, lines, legends, title, and text-boxes"
   ]
  },
  {
   "cell_type": "markdown",
   "id": "3fa884c6-c83f-4ffb-9dbb-1a0db54c1679",
   "metadata": {},
   "source": [
    "## 2.6 Matplotlib API Overview\n",
    "Matplotlib has two APIs to work with. \n",
    "* **Pyplot** interface: A MATLAB-style state-based interface\n",
    "* **Object-Oriented** (OO) interface \n",
    "\n",
    "There is a third interface also called the **pylab** interface. It merges pyplot (for plotting) and NumPy (for mathematical functions) in an environment closer to MATLAB. This is considered bad practice nowadays. So, the use of **pylab** is strongly discouraged."
   ]
  },
  {
   "cell_type": "markdown",
   "id": "ad79cdb0-eec3-48a8-840c-6cb6a83a8952",
   "metadata": {},
   "source": [
    "## 2.7. Pyplot API\n",
    "**`Matplotlib.pyplot`** provides a MATLAB-style, procedural, state-machine interface to the underlying object-oriented library in Matplotlib. **Pyplot** is a collection of command style functions that make Matplotlib work like MATLAB. The **Pyplot** function makes changes to a figure - e.g., creates a figure or a plotting area in a figure."
   ]
  },
  {
   "cell_type": "markdown",
   "id": "1c96bd86-9432-4983-afa7-600d587ef71f",
   "metadata": {},
   "source": [
    "**`Matplotlib.pyplot`** is stateful because the underlying engine keeps track of the current figure and plotting area information and plotting functions change that information. To make it clearer, we do not use any object references during our plotting we just issue a **pyplot** command, and the changes appeared in the figure.\n",
    "We can get a reference to the current figure and axes using the following commands:\n",
    "```\n",
    "* plt.gcf()    # get current figure\n",
    "* plt.gca()    # get current axes\n",
    "```"
   ]
  },
  {
   "cell_type": "markdown",
   "id": "d59446c7-3108-41fe-92bd-8f07f5bc0994",
   "metadata": {},
   "source": [
    "**Visualizing with Pyplot:**\n",
    "Generating visualization with Pyplot is very easy. The x-axis values range and the y-axis range are taken from the data. If we provide a single list or array to the `plot()` command, matplotlib assumes it is a sequence of y values, and automatically generates the x values. Since python ranges start with 0, the default x vector has the same length as y but starts with 0. For example:\n",
    "```\n",
    "plt.plot([1, 2, 3, 4])\n",
    "plt.ylabel('Numbers')\n",
    "plt.show()\n",
    "```"
   ]
  },
  {
   "cell_type": "markdown",
   "id": "712a1f41-1345-41d7-b36e-968a2f637eaf",
   "metadata": {},
   "source": [
    "**`plot()` – A versatile command:** \n",
    "It will take an arbitrary number of arguments. For example:\n",
    "```\n",
    "plt.plot([1, 2, 3, 4], [1, 4, 9, 16])\n",
    "plt.show()\n",
    "```\n",
    "**State-machine interface:** \n",
    "Pyplot provides the state-machine interface to the underlying object-oriented plotting library. The state-machine implicitly and automatically creates figures and axes to achieve the desired plot. For example:\n",
    "```\n",
    "x = np.linspace(0, 2, 100)\n",
    "plt.plot(x, x, label='linear')\n",
    "plt.plot(x, x**2, label='quadratic')\n",
    "plt.plot(x, x**3, label='cubic')\n",
    "plt.xlabel('x label')\n",
    "plt.ylabel('y label')\n",
    "plt.title(\"Simple Plot\")\n",
    "plt.legend()\n",
    "plt.show()\n",
    "```"
   ]
  },
  {
   "cell_type": "markdown",
   "id": "7dc589ee-e1db-4ecd-8459-afa5c27640de",
   "metadata": {},
   "source": [
    "**Formatting the style of the plot:**\n",
    "For every x, y pair of arguments, there is an optional third argument which is the format string that indicates the color and line type of the plot. The letters and symbols of the format string are from MATLAB. We can concatenate a color string with a line-style string. The default format string is 'b-', which is a solid blue line. For example, to plot the above line with red circles, we would issue the following command:\n",
    "```\n",
    "plt.plot([1, 2, 3, 4], [1, 4, 9, 16], 'ro')\n",
    "plt.axis([0, 6, 0, 20])\n",
    "plt.show()\n",
    "```\n",
    "The **`axis()`** command takes a list of [xmin, xmax, ymin, ymax] and specifies the viewport of the axes."
   ]
  },
  {
   "cell_type": "markdown",
   "id": "a3652744-138b-46ff-a3c6-fc3fe7836b8b",
   "metadata": {},
   "source": [
    "**Working with NumPy arrays:**\n",
    "Generally, we have to work with NumPy arrays. All sequences are converted to NumPy arrays internally. The below example illustrates plotting several lines with different format styles in one command using arrays.\n",
    "```\n",
    "# evenly sampled time at 200ms intervals\n",
    "t = np.arange(0., 5., 0.2)\n",
    "# red dashes, blue squares, and green triangles\n",
    "plt.plot(t, t, 'r--', t, t**2, 'bs', t, t**3, 'g^')\n",
    "plt.show()\n",
    "```"
   ]
  },
  {
   "cell_type": "markdown",
   "id": "19e7c19a-093d-405e-9cad-3afe7b0928d2",
   "metadata": {},
   "source": [
    "## 2.8. Object-Oriented API\n",
    "The **Object-Oriented API** is available for more complex plotting situations. It allows us to exercise more control over the figure. In Pyplot API, we depend on some notion of an \"active\" figure or axes. But, in the **Object-Oriented API**, the plotting functions are methods of explicit Figure and Axes objects.\n",
    "* The **Figure** is the top-level container for all the plot elements. We can think of the **Figure** object as a box-like container containing one or more **Axes**. \n",
    "* The **Axes** represent an individual plot. The **Axes** object contains smaller objects such as axis, tick marks, lines, legends, title, and text-boxes.\n",
    "\n",
    "**Objects and Reference:**\n",
    "The main idea with the Object-Oriented API is to have objects that one can apply functions and actions on. The real advantage of this approach becomes apparent when more than one figure is created or when a figure contains more than one subplot. We create a reference to the figure instance in the fig variable. Then, we create a new axis instance axes using the add_axes method in the Figure class instance fig. \n",
    "\n",
    "**Figure and Axes:**\n",
    "A figure and axes can be created as follows:\n",
    "```\n",
    "fig = plt.figure()\n",
    "ax = plt.axes()\n",
    "```\n",
    "\n",
    "In Matplotlib, the **figure** (an instance of the class plt.figure) is a single container that contains all the objects representing axes, graphics, text, and labels. The **axes** (an instance of the class plt.axes) is bounding box with ticks and labels. It will contain the plot elements that make up the visualization."
   ]
  },
  {
   "cell_type": "markdown",
   "id": "b59b77b8-5059-484c-9d9e-1cf4f5a78856",
   "metadata": {},
   "source": [
    "## 2.9. Figures and Subplots\n",
    "Plots in Matplotlib reside within a Figure object. We can create a new figure with `plt.figure()` as follows:\n",
    "```\n",
    "fig = plt.figure()\n",
    "```\n",
    "Now, create one or more subplots using `fig.add_subplot()` as follows:\n",
    "```\n",
    "ax1 = fig.add_subplot(2, 2, 1)\n",
    "```\n",
    "The above command means that there are four plots in total (2 * 2 = 4). \n",
    "Create the next three subplots using the `fig.add_subplot()` commands as follows:\n",
    "```\n",
    "ax2 = fig.add_subplot(2, 2, 2)\n",
    "ax3 = fig.add_subplot(2, 2, 3)\n",
    "ax4 = fig.add_subplot(2, 2, 4)\n",
    "```\n",
    "The above command results in the creation of subplots as follows:<br>\n",
    "![](figures/DVRG-Subplots.png)\n",
    "\n",
    "**Concise representation of Subplots:**\n",
    "There is a concise form by which we can represent Subplots. Matplotlib includes a convenience method `plt.subplots()` that creates a new figure and returns the subplot objects. We can create subplots as follows:\n",
    "```\n",
    "fig, axes = plt.subplots()\n",
    "```\n",
    "is equivalent to:\n",
    "```\n",
    "fig = plt.figure()\n",
    "ax1 = fig.add_subplot(1, 1, 1)\n",
    "```\n",
    "**More than one Subplot:**\n",
    "We can use the following command to create four Subplots with a grid(2, 2) in one figure object.\n",
    "```\n",
    "fig, axes = plt.subplots(nrows = 2, ncols = 2)\n",
    "```"
   ]
  },
  {
   "cell_type": "markdown",
   "id": "61c4ecc1-3da4-4da7-82be-b83b3c42d7d4",
   "metadata": {},
   "source": [
    "## 2.10. First plot with Matplotlib\n",
    "Create a simple plot:\n",
    "```\n",
    "plt.plot([1, 3, 2, 4])\n",
    "plt.show()\n",
    "```\n",
    "This code line is the actual plotting command. Only a list of values has been plotted that represents the vertical coordinates of the points to be plotted. Matplotlib will use an implicit horizontal values list, from 0 (the first value) to N-1 (where N is the number of items in the list). Also, we can explicitly specify both the lists as:\n",
    "```\n",
    "x = np.arange(0.0, 6.0, 0.01)\n",
    "plt.plot(x, [xi**2 for xi in x])\n",
    "plt.show()\n",
    "```"
   ]
  },
  {
   "cell_type": "markdown",
   "id": "c5e7b0e9-1571-440f-a10b-2f0eba1d4dd5",
   "metadata": {},
   "source": [
    "## 2.11. Multiline Plots\n",
    "Multiline Plots mean plotting more than one plot on the same figure. We can plot more than one plot on the same figure. It can be achieved by plotting all the lines before calling `show()` as follows:\n",
    "```\n",
    "x = range(1, 5)\n",
    "plt.plot(x, [xi*1.5 for xi in x])\n",
    "plt.plot(x, [xi*3 for xi in x])\n",
    "plt.plot(x, [xi/3.0 for xi in x])\n",
    "```"
   ]
  },
  {
   "cell_type": "markdown",
   "id": "9c5022df-2b9f-4656-b757-e14b5bf71d02",
   "metadata": {},
   "source": [
    "## 2.12. Parts of a Plot\n",
    "There are different parts of a plot, such as a title, legend, grid, axis, and labels, etc. as shown below:\n",
    "<img align=\"left\" style=\"padding-right:10px;\" src=\"figures/DVRG-PartsofaPlot.png\"><br>\n",
    "<br><br><br><br><br><br><br><br><br><br><br><br><br><br>\n",
    "Image credit [ (Source) ](https://matplotlib.org/)"
   ]
  },
  {
   "cell_type": "markdown",
   "id": "e69c8fb5-6076-49f9-8769-2af087bc077e",
   "metadata": {},
   "source": [
    "## 2.13. Saving a Plot\n",
    "We can save the figures in a variety of formats. We can save them using the `savefig()` command as follows:\n",
    "```\n",
    "fig.savefig(‘fig1.png’)\n",
    "```\n",
    "We can explore the contents of the file using the IPython Image object.\n",
    "```\n",
    "from IPython.display import Image\n",
    "Image(‘fig1.png’)\n",
    "```\n",
    "In the `savefig()` command, the file format is inferred from the extension of the given filename. Depending on our backend, many different file formats are available. The list of supported file types can be found by using the `get_supported_filetypes()` method of the figure canvas object as follows:\n",
    "```\n",
    "fig.canvas.get_supported_filetypes()\n",
    "```"
   ]
  },
  {
   "cell_type": "markdown",
   "id": "2d5eecbc-0dc7-40aa-880c-27f712963922",
   "metadata": {},
   "source": [
    "## 2.14. Line Plot\n",
    "We can use the following commands to draw the simple sinusoid line plot:\n",
    "```\n",
    "x = np.linspace(0, 10, 1000)\n",
    "ax.plot(x, np.sin(x));\n",
    "```\n",
    "Alternatively, we can use the Pyplot interface and let the figure and axes be created for us in the background.\n",
    "```\n",
    "plt.plot(x, np.sin(x));\n",
    "```\n",
    "Similarly, if we want to create a single figure with multiple lines, we can call the plot function multiple times.\n",
    "```\n",
    "plt.plot(x, np.sin(x), ‘b-‘)\n",
    "plt.plot(x, np.cos(x), ‘r-‘)\n",
    "```"
   ]
  },
  {
   "cell_type": "markdown",
   "id": "4f953f77-88c0-4725-88c9-f04450c0962f",
   "metadata": {
    "tags": []
   },
   "source": [
    "## 2.15. Scatter Plot\n",
    "Another commonly used plot is the scatter plot; the points are represented individually with a dot or a circle.\n",
    "\n",
    "**Scatter Plot with `plt.plot()`**:<br>\n",
    "We used **plt.plot/ax.plot** to produce line plots. We can use the same functions to produce the scatter plots:\n",
    "```\n",
    "x = np.linspace(0, 10, 100)\n",
    "y = np.sin(x)\n",
    "plt.plot(x, y, ‘o’, color = ‘black’)\n",
    "```\n",
    "We can customize the plot by combining the character codes with line and color codes to plot points along with a line connecting them as follows:\n",
    "```\n",
    "plt.plot(x, y, ‘-ok’)\n",
    "```\n",
    "**Scatter Plot with `plt.scatter()`**:<br>\n",
    "An alternative approach to creating a scatter plot is to use `plt.scatter()` function. It is a more powerful method of creating scatter plots than using the `plt.plot()` function. For example:\n",
    "```\n",
    "plt.scatter(x, y)\n",
    "```\n",
    "The primary difference of the `plt.scatter()` function from `plt.plot()` is that it can be used to create scatter plots where the properties of each point (size, face color, edge color, etc.) can be individually mapped to the data.\n",
    "\n",
    "**`plt.plot()`** vs **`plt.scatter()` functions**:<br>\n",
    "* For smaller datasets, we can use either `plt.plot()` or `plt.scatter()` functions to create scatter-plots\n",
    "* For larger datasets, `plt.plot()` function is more efficient than `plt.scatter()` function\n",
    "  - In the `plt.plot()` function, the points are clones of each other, so, the work of determining the appearance of the points is done only once for the entire set of data\n",
    "  - In the `plt.scatter()` function, the renderer must do the extra work of constructing each point individually\n",
    "* For large datasets, these two functions can lead to vast differences in **performance**, hence, `plt.plot()` function is preferred over `plt.scatter()` function for large datasets"
   ]
  },
  {
   "cell_type": "markdown",
   "id": "17b6dd73-acec-4c82-b961-07bfd90c6273",
   "metadata": {},
   "source": [
    "## 2.16. Histogram\n",
    "Histograms are a graphical display of frequencies. They are represented as bars. They show what portion of the dataset falls into each category, usually specified as non-overlapping intervals called **bins**.\n",
    "The `hist()` function can be used to plot a simple histogram as follows:\n",
    "```\n",
    "data = np.random.randn(1000)\n",
    "plt.hist(data)\n",
    "```\n",
    "The `plt.hist()` function has many parameters to tune both the calculation and the plot display. \n",
    "```\n",
    "plt.hist(data, bins=30, density=True, alpha=0.5, histtype='stepfilled', color='steelblue')\n",
    "```\n",
    "\n",
    "**Compare Histograms of several distributions:**<br>\n",
    "We can use the combination of `histtype=’stepfilled’` along with transparency level alpha to compare histograms of several distributions.\n",
    "```\n",
    "x1 = np.random.normal(0, 1, 1000)\n",
    "x2 = np.random.normal(-1, 1, 1000)\n",
    "x3 = np.random.normal(1, 4, 1000)\n",
    "kwargs = dict(histtype=’stepfilled’, alpha=0.2, density=True, bins=30)\n",
    "plt.hist(x1, **kwargs)\n",
    "plt.hist(x2, **kwargs)\n",
    "plt.hist(x3, **kwargs)\n",
    "```\n",
    "\n",
    "**Two-Dimensional Histograms:**<br>\n",
    "Just as we create histograms in 1D, we can also create histograms in 2D by dividing points among 2D bins. We can use Matplotlib’s `hist2d()` function to plot a 2D histogram as follows:\n",
    "```\n",
    "mean = [0, 0]\n",
    "cov = [[1, 1], [1, 2]]\n",
    "x, y = np.random.multivariate_normal(mean, cov, 10000).T\n",
    "plt.hist2d(x, y, bins = 30, cmap = 'Blues')\n",
    "cb = plt.colorbar()\n",
    "cb.set_label('counts in bin')\n",
    "```"
   ]
  },
  {
   "cell_type": "markdown",
   "id": "c9c5b291-33e1-4996-a3e2-f6c619b06648",
   "metadata": {},
   "source": [
    "## 2.17. Bar Chart\n",
    "Bar charts display rectangular bars either in a vertical or horizontal form. Their length is proportional to the values they represent. They are used to compare two or more values. \n",
    "\n",
    "**Vertical Bar chart:**<br>\n",
    "We can plot a vertical bar chart using the `bar()` function.\n",
    "```\n",
    "data = [5., 25., 50., 20.]\n",
    "plt.bar(range(len(data)), data)\n",
    "```\n",
    "\n",
    "**Horizontal Bar chart:**<br>\n",
    "We can produce Horizontal Bar Chart using the `barh()` function. \n",
    "```\n",
    "data = [5., 25., 50., 20.]\n",
    "plt.barh(range(len(data)), data)\n",
    "```\n",
    "\n",
    "**The thickness of the Bar chart:**<br>\n",
    "By default, a bar will have a thickness of 0.8 units. If we draw a bar of unit length, we have a gap of 0.2 between them. We can change the thickness of the bar chart by setting the width parameter to 1.\n",
    "```\n",
    "plt.bar(range(len(data)), data, width=1)     # ‘width’ for vertical bar chart\n",
    "plt.bar(range(len(data)), data, height=1)    # ‘height’ for vertical bar chart\n",
    "```"
   ]
  },
  {
   "cell_type": "markdown",
   "id": "b255a893-294f-44a3-96d2-4629378dbcb5",
   "metadata": {},
   "source": [
    "## 2.18. Error Bar Chart\n",
    "In experimental design, the measurements lack perfect precision. So, we have to repeat the measurements. It results in obtaining a set of values. The representation of the distribution of data values is done by plotting a single data point (known as the mean value of the dataset) and an error bar to represent the overall distribution of data. We can use Matplotlib's `errorbar()` function to represent the distribution of data values.\n",
    "\n",
    "**Asymmetrical Error Bars:**<br>\n",
    "The error bars described in the previous section, are called **symmetrical error bars**. Their negative error is equal in value to the positive error. So, the error bar is symmetrical to the point where it is drawn.<br>\n",
    "There is another type of error bar, which is **asymmetrical error bar**. To draw **asymmetrical error bars**, we have to pass two lists (or a 2D array) of values to `yerr` and/or `xerr` - the first list is for negative errors while the second list is for positive errors. It can be done as follows:\n",
    "```\n",
    "x = np.arange(0, 4, 0.2)\n",
    "y = np.exp(-x)\n",
    "e = 0.1 * np.abs(np.random.randn(len(y)))\n",
    "plt.errorbar(x, y, yerr=e, fmt='.-')\n",
    "```"
   ]
  },
  {
   "cell_type": "markdown",
   "id": "5e9a6bdb-b177-4435-9e38-25039a041398",
   "metadata": {},
   "source": [
    "## 2.19. Stacked Bar Chart\n",
    "We can draw a stacked bar chart by using a special parameter called **bottom** from the `plt.bar()` function as:\n",
    "```\n",
    "A = [15., 30., 45., 22.]\n",
    "B = [15., 25., 50., 20.]\n",
    "z = range(4)\n",
    "plt.bar(z, A, color='b')\n",
    "plt.bar(z, B, color='r', bottom=A)\n",
    "```"
   ]
  },
  {
   "cell_type": "markdown",
   "id": "02c3fce5-9eda-48af-96d1-f4aa9a851df0",
   "metadata": {},
   "source": [
    "## 2.20. Pie Chart\n",
    "Pie charts are circular representations, divided into sectors. The sectors are also called **wedges**. The arc length of each sector is proportional to the quantity we are describing. It is an effective way to represent information when we are interested mainly in comparing the wedge against the whole pie, instead of wedges against each other. Matplotlib provides the pie() function to plot pie charts from an array X. Wedges are created proportionally so that each value x of array X generates a wedge proportional to x/sum(X). Example:\n",
    "```\n",
    "plt.figure(figsize=(7,7))\n",
    "x = [35, 25, 20, 20]\n",
    "labels = ['Computer', 'Electronics', 'Mechanical', 'Chemical']\n",
    "plt.pie(x, labels=labels);\n",
    "```\n",
    "**Exploded Pie Chart:**<br>\n",
    "We can plot an exploded Pie chart with the addition of keyword argument `explode`. It is an array of the same length as that of X. Each of its values specifies the radius fraction with which to offset the wedge from the center of the pie."
   ]
  },
  {
   "cell_type": "markdown",
   "id": "11483d24-da9c-4fc6-960b-eba6efd46d5e",
   "metadata": {},
   "source": [
    "## 2.21. Boxplot\n",
    "Boxplot allows us to compare distributions of values by showing the median, quartiles, maximum, and minimum of a set of values. We can plot a boxplot with the `boxplot()` function as follows. The `boxplot()` function takes a set of values and computes the mean, median, and other statistical quantities.\n",
    "```\n",
    "data = np.random.randn(100)\n",
    "plt.boxplot(data)\n",
    "```"
   ]
  },
  {
   "cell_type": "markdown",
   "id": "8d5f693e-90c5-4f9a-bb48-2835e76625cf",
   "metadata": {},
   "source": [
    "## 2.22. Area chart\n",
    "An **Area Chart** is very similar to a **Line Chart**. The area between the x-axis and the line is filled in with color or shading. It represents the evolution of a numerical variable following another numerical variable. Example:\n",
    "```\n",
    "x = range(1, 6)\n",
    "y = [1, 4, 6, 8, 4]\n",
    "plt.fill_between(x, y)\n",
    "plt.show()\n",
    "plt.stackplot(x, y)\t\t# same as plt.fill_between(x, y)\n",
    "```\n",
    "**NOTE**: `fill_between` is more convenient for future customizations."
   ]
  },
  {
   "cell_type": "markdown",
   "id": "73e07de0-1139-4777-b237-ea7100832dfd",
   "metadata": {},
   "source": [
    "## 2.23. Contour Plot\n",
    "**Contour plots** are useful to display 3D data in 2D using contours or color-coded regions. **Contour lines** are also known as **level lines** or **isolines**. **Contour lines** for a function of two variables are curves where the function has constant values. They have specific names beginning with iso- according to the nature of the variables being mapped. There are a lot of applications of **Contour lines** in several fields such as meteorology (for temperature, pressure, rain, wind speed), geography, magnetism, engineering, social sciences, and so on.\n",
    "\n",
    "The density of the lines indicates the **slope** of the function. The **gradient** of the function is always perpendicular to the contour lines. When the lines are close together, the length of the gradient is large and the variation is steep.\n",
    "A **Contour plot** can be created with the `plt.contour()` function.\n",
    "```\n",
    "matrix = np.random.rand(10, 20)\n",
    "n = 10\n",
    "cp = plt.contour(matrix, n)\t# No. of level lines, automatically chosen if not given\n",
    "```"
   ]
  },
  {
   "cell_type": "markdown",
   "id": "9f0b5283-fda5-43a8-a3b5-57084eaa4084",
   "metadata": {
    "tags": []
   },
   "source": [
    "## 2.24. Styles with Matplotlib\n",
    "The **style** module includes several new default stylesheets, as well as the ability to create and package own styles. We can view the list of all available styles by the following command.\n",
    "```\n",
    "print(plt.style.available)\n",
    "```\n",
    "We can set the Styles for Matplotlib plots as follows:\n",
    "```\n",
    "plt.style.use('seaborn-bright')\n",
    "```"
   ]
  },
  {
   "cell_type": "markdown",
   "id": "bf3bb867-ab3d-4c6e-a1c6-8d7729c45f6b",
   "metadata": {},
   "source": [
    "## 2.25. Adding a Grid\n",
    "In some cases, the background of a plot was completely blank. We can get more information if there is a reference system in the plot. The reference system would improve the comprehension of the plot. An example of a reference system is adding a **grid**. We can add a grid to the plot by calling the `grid()` function. It takes one parameter, a Boolean value, to enable (if True) or disable (if False) the grid. Example:\n",
    "```\n",
    "x = np.arange(1, 5)\n",
    "plt.plot(x, x*1.5, x, x*3.0, x, x/3.0)\n",
    "plt.grid(True)\n",
    "```"
   ]
  },
  {
   "cell_type": "markdown",
   "id": "ee310e74-29f7-4aea-ba48-be018432ea84",
   "metadata": {},
   "source": [
    "## 2.26. Handling Axes\n",
    "Matplotlib automatically sets the limits of the plot to precisely contain the plotted datasets. Sometimes, we want to set the axes limits ourselves. We can set the axes limits with the `axis()` function as follows.\n",
    "```\n",
    "x = np.arange(1, 5)\n",
    "plt.plot(x, x*1.5, x, x*3.0, x, x/3.0)\n",
    "plt.axis()   # shows the current axis limits values\n",
    "plt.axis([0, 5, -1, 13])\n",
    "```\n",
    "If we execute `axis()` without parameters, it returns the actual axis limits. We can set parameters to `axis()` by a list of four values. The list of four values is the keyword argument [`xmin, xmax, ymin, ymax`] allows the minimum and maximum limits for the X and Y-axis respectively. We can control the limits for each axis separately using the `xlim()` and `ylim()` functions as follows.\n",
    "```\n",
    "x = np.arange(1, 5)\n",
    "plt.plot(x, x*1.5, x, x*3.0, x, x/3.0)\n",
    "plt.xlim([1.0, 4.0])\n",
    "plt.ylim([0.0, 12.0])\n",
    "```"
   ]
  },
  {
   "cell_type": "markdown",
   "id": "13b72e9e-1afa-407b-8ecc-0b8597c45cd0",
   "metadata": {},
   "source": [
    "## 2.27. Handling X and Y ticks\n",
    "Vertical and horizontal ticks are those little segments on the axes, coupled with axes labels, used to give a reference system on the graph. So, they form the origin and the grid lines. Matplotlib provides two basic functions to manage them - `xticks()` and `yticks()`. Executing with no arguments, the tick function returns the current ticks' locations and the labels corresponding to each of them. We can pass arguments (in the form of lists) to the ticks functions. The arguments are:\n",
    "* Locations of the ticks\n",
    "* Labels to draw at these locations\n",
    "\n",
    "For example:\n",
    "```\n",
    "u = [5, 4, 9, 7, 8, 9, 6, 5, 7, 8]\n",
    "plt.plot(u)\n",
    "plt.xticks([2, 4, 6, 8, 10])\n",
    "plt.yticks([2, 4, 6, 8, 10])\n",
    "```"
   ]
  },
  {
   "cell_type": "markdown",
   "id": "9fd66032-17df-4b68-8e61-d872922b025b",
   "metadata": {},
   "source": [
    "## 2.28. Adding Axis Labels\n",
    "Another important piece of information to add to a plot is the axes labels, since they specify the type of data we are plotting.\n",
    "```\n",
    "plt.plot([1, 3, 2, 4])\n",
    "plt.xlabel('This is the X-axis')\n",
    "plt.ylabel('This is the Y-axis')\n",
    "```"
   ]
  },
  {
   "cell_type": "markdown",
   "id": "10872168-5c5d-4ae4-80d1-396f59d08485",
   "metadata": {},
   "source": [
    "## 2.29. Adding a Title\n",
    "The title of a plot describes the plot. Matplotlib provides a simple function `title()` to add a title to an image.\n",
    "```\n",
    "plt.plot([1, 3, 2, 4])\n",
    "plt.title('First Plot')\n",
    "```"
   ]
  },
  {
   "cell_type": "markdown",
   "id": "e23fc3ff-8fc1-49ba-81d1-d4c4ec54244f",
   "metadata": {},
   "source": [
    "## 2.30. Adding a Legend\n",
    "Legends are used to describe what each line/curve means in a plot. Legends for curves in a figure can be added in two ways. One method is to use the **legend** method of the axis object and pass a list/tuple of legend texts.\n",
    "```\n",
    "x = np.arange(1, 5)\n",
    "fig, ax = plt.subplots()\n",
    "ax.plot(x, x*1.5)\n",
    "ax.plot(x, x*3.0)\n",
    "ax.plot(x, x/3.0)\n",
    "ax.legend(['Normal','Fast','Slow']);\n",
    "```\n",
    "The above method follows the MATLAB API. It is prone to errors and inflexible if curves are added to or removed from the plot. It resulted in a wrongly labeled curve.\n",
    "\n",
    "A better method is to use the label keyword argument when plots are added to the figure. Then we use the legend method without arguments to add the legend to the figure. The advantage of this method is that if curves are added or removed from the figure, the legend is automatically updated accordingly.\n",
    "```\n",
    "x = np.arange(1, 5)\n",
    "fig, ax = plt.subplots()\n",
    "ax.plot(x, x*1.5, label='Normal')\n",
    "ax.plot(x, x*3.0, label='Fast')\n",
    "ax.plot(x, x/3.0, label='Slow')\n",
    "ax.legend();\n",
    "```\n",
    "The **legend** function takes an optional keyword argument **loc**. It specifies the location of the legend to be drawn. The **loc** takes numerical codes for the various places the legend can be drawn. The most common **loc** values are:\n",
    "```\n",
    "ax.legend(loc=0)     # let Matplotlib decide the optimal location\n",
    "ax.legend(loc=1)     # upper right corner\n",
    "ax.legend(loc=2)     # upper left corner\n",
    "ax.legend(loc=3)     # lower left corner\n",
    "ax.legend(loc=4)     # lower right corner\n",
    "ax.legend(loc=5)     # right\n",
    "ax.legend(loc=6)     # center left\n",
    "ax.legend(loc=7)     # center right\n",
    "ax.legend(loc=8)     # lower center\n",
    "ax.legend(loc=9)     # upper center\n",
    "ax.legend(loc=10)    # center\n",
    "```"
   ]
  },
  {
   "cell_type": "markdown",
   "id": "5615f6a6-96d0-4716-bb6d-7c61038bb629",
   "metadata": {},
   "source": [
    "## 2.31. Controlling Colors\n",
    "We can draw different lines or curves in a plot with different colors. The color names and color abbreviations are given in the following table:\n",
    "**Colour abbreviation Colour name:**\n",
    "```\n",
    "b - blue\n",
    "c - cyan\n",
    "g - green\n",
    "k - black\n",
    "m - magenta\n",
    "r - red\n",
    "w - white\n",
    "y - yellow\n",
    "```\n",
    "There are several ways to specify colors, other than by color abbreviations:\n",
    "* The full-color name, such as yellow\n",
    "* Hexadecimal string such as ##FF00FF\n",
    "* RGB tuples, for example (1, 0, 1)\n",
    "* Grayscale intensity, in string format such as ‘0.7’.\n",
    "\n",
    "Example:\n",
    "```\n",
    "x = np.arange(1, 5)\n",
    "plt.plot(x, 'r')\n",
    "plt.plot(x+1, 'g')\n",
    "plt.plot(x+2, 'b')\n",
    "```"
   ]
  },
  {
   "cell_type": "markdown",
   "id": "26213e24-24f6-479f-843f-295e3c2262df",
   "metadata": {},
   "source": [
    "## 2.32. Controlling Line Styles\n",
    "Matplotlib provides us different line style options to draw curves or plots. Example:\n",
    "```\n",
    "x = np.arange(1, 5)\n",
    "plt.plot(x, '--', x+1, '-.', x+2, ':')\n",
    "```\n",
    "The available line styles are:\n",
    "```\n",
    "•     solid line\n",
    "--    dashed line\n",
    "-.    dash-dot line\n",
    ":     dotted line\n",
    "```"
   ]
  },
  {
   "cell_type": "markdown",
   "id": "6e05ad00-249c-4b40-8f7d-917332ed9ec3",
   "metadata": {},
   "source": [
    "<!--NAVIGATION-->\n",
    "<br>\n",
    "\n",
    "<[ [Introduction to Visualizations](01.00-dvrg-Introduction-to-Visualizations.ipynb) | [Contents and Acronyms](00.00-dvrg-Contents-and-Acronyms.ipynb) | [Data Visualization with Seaborn](03.00-dvrg-Data-Visualization-with-Seaborn.ipynb) ]>"
   ]
  }
 ],
 "metadata": {
  "kernelspec": {
   "display_name": "Python 3",
   "language": "python",
   "name": "python3"
  },
  "language_info": {
   "codemirror_mode": {
    "name": "ipython",
    "version": 3
   },
   "file_extension": ".py",
   "mimetype": "text/x-python",
   "name": "python",
   "nbconvert_exporter": "python",
   "pygments_lexer": "ipython3",
   "version": "3.8.8"
  }
 },
 "nbformat": 4,
 "nbformat_minor": 5
}
