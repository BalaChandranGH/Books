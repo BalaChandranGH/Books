{
 "cells": [
  {
   "cell_type": "markdown",
   "id": "46a75ec2-18da-47e8-be35-8c09c11f3c95",
   "metadata": {},
   "source": [
    "<!--BOOK_INFORMATION-->\n",
    "<img align=\"left\" style=\"padding-right:10px;\" src=\"figures/DVRG-Book-Cover-Small.png\"><br>\n",
    "\n",
    "This notebook contains an excerpt from the **`Data Visualization Reference Guide - For Beginners`** book written by *Balasubramanian Chandran*; the content is available [on GitHub](https://github.com/BalaChandranGH/Books/Data-Visualization-Reference-Guide)."
   ]
  },
  {
   "cell_type": "markdown",
   "id": "94ab3a6d-7ef1-4fd7-8790-854b667dd9b7",
   "metadata": {},
   "source": [
    "<br>\n",
    "<!--NAVIGATION-->\n",
    "\n",
    "<[ [Data Visualization with Matplotlib](02.00-dvrg-Data-Visualization-with-Matplotlib.ipynb) | [Contents and Acronyms](00.00-dvrg-Contents-and-Acronyms.ipynb) | [References](04.00-dvrg-References.ipynb) ]>"
   ]
  },
  {
   "cell_type": "markdown",
   "id": "4db5efc1-ba18-453e-8922-6faa1a0983d8",
   "metadata": {},
   "source": [
    "# 3. Data Visualization with Seaborn"
   ]
  },
  {
   "cell_type": "markdown",
   "id": "fe0ff58e-1720-4849-ba04-68097d105341",
   "metadata": {},
   "source": [
    "## 3.1. Introduction\n",
    "* Seaborn is built on top of Matplotlib\n",
    "* Seaborn also **supports NumPy** and **Pandas** data structures and statistical units from **SciPy**\n",
    "* Seaborn provides a high-level interface to produce high-quality statistical graphics\n",
    "* The customizability and backend options for Matplotlib make it easy to generate high-quality figures\n",
    "* **Seaborn is not an alternative to Matplotlib**, but we can think of it as a complement to Matplotlib\n",
    "* In summary, **“If Matplotlib tries to make easy things easy and hard things possible, Seaborn tries to make a well-defined set of hard things easy too in a well-defined way.”**\n",
    "* Seaborn helps to resolve two major problems faced by Matplotlib. The problems are:\n",
    "  - Working with Matplotlib’s default parameters\n",
    "  - Working with data frames"
   ]
  },
  {
   "cell_type": "markdown",
   "id": "11528797-c533-4b80-b7f1-65f55fa7da19",
   "metadata": {},
   "source": [
    "## 3.2. Comparison of Seaborn with Matplotlib\n",
    "Seaborn uses Matplotlib to draw plots. Many actions can be accomplished with only Seaborn functions. Further customization options might require using Matplotlib directly. Seaborn is not an alternative to Matplotlib. We can think of it as a complement to Matplotlib. As it is built on top of Matplotlib, we can call Matplotlib functions directly for creating simple plots. In summary, “If Matplotlib tries to make easy things easy and hard things possible, Seaborn tries to make a well-defined set of hard things easy too in a well-defined way.”\n",
    "Seaborn helps to resolve two major problems faced by Matplotlib. The problems are:\n",
    "* Working with Matplotlib’s default parameters\n",
    "* Working with data frames"
   ]
  },
  {
   "cell_type": "markdown",
   "id": "21ebac89-2d3a-4c69-9364-1e3896b6cde4",
   "metadata": {},
   "source": [
    "## 3.3. Seaborn APIs\n",
    "Seaborn has various types of plots that can be categorized into six categories:\n",
    "* Relational plots\n",
    "* Categorical plots\n",
    "* Distribution plots\n",
    "* Regression plots\n",
    "* Matrix plots\n",
    "* Multi-plot grids"
   ]
  },
  {
   "cell_type": "markdown",
   "id": "8e024c33-2630-49db-944a-0ca505623c6c",
   "metadata": {},
   "source": [
    "### 3.3.1. Relational Plots \n",
    "Used to visualize statistical relationships such as trends and patterns that indicate a relationship. There are three types of plotting functions in relational plots:\n",
    "```\n",
    "* relplot()\n",
    "* scatterplot()\n",
    "* lineplot()\n",
    "```"
   ]
  },
  {
   "cell_type": "markdown",
   "id": "f3c4d2a2-1481-4b08-961c-7aadabe4c589",
   "metadata": {},
   "source": [
    "### 3.3.2. Categorical Plots \n",
    "Used to visualize the relationship involving categorical data. Commonly used functions are:\n",
    "```\n",
    "* stripplot()      - categorical scatterplots\n",
    "* swarmplot()      - categorical scatterplots\n",
    "* boxplot()        - categorical distribution plots \n",
    "* violinplot()     - categorical distribution plots \n",
    "* boxenplot()      - categorical distribution plots\n",
    "* pointplot()      - categorical estimate plots \n",
    "* barplot()        - categorical estimate plots \n",
    "* countplot()      - categorical estimate plots\n",
    "```"
   ]
  },
  {
   "cell_type": "markdown",
   "id": "a3b4896f-9a64-42fa-b72a-b7ae85de0fbb",
   "metadata": {},
   "source": [
    "### 3.3.3. Distribution Plots \n",
    "Used to visualize the distribution of a dataset with the distribution plotting functions, and they are:\n",
    "```\n",
    "* distplot()      - plot univariate distribution (histogram and fit a KDE)\n",
    "* kdeplot()       - plot shape of a distribution \n",
    "* rugplot()       - plot data points in an array as sticks on an axis\n",
    "* jointplot()     - plot of two variables with bivariate and univariate graphs\n",
    "* pairplot()      - visualize pairwise relationships in a dataset\n",
    "```"
   ]
  },
  {
   "cell_type": "markdown",
   "id": "2f7cd5c3-2634-420b-b6bd-6b2dcbe536ff",
   "metadata": {},
   "source": [
    "### 3.3.4. Regression Plots\n",
    "Used to visualize linear relationship between variables. These plotting functions are:\n",
    "```\n",
    "* regplot()       - visualize linear relationship between variables\n",
    "* lmplot()        - visualize linear relationship between variables\n",
    "* residplot()     - plot the residuals of a linear regression model\n",
    "```"
   ]
  },
  {
   "cell_type": "markdown",
   "id": "d1aa2aaa-6eb1-4060-8c5d-feea60ee3b4b",
   "metadata": {},
   "source": [
    "### 3.3.5. Matrix Plots\n",
    "Used to visualize plots of matrix type and they are:\n",
    "```\n",
    "* heatmap()       - plot rectangular data as a colour-encoded matrix\n",
    "* clustermap()    - plot a matrix dataset as a hierarchically clustered heatmap\n",
    "```"
   ]
  },
  {
   "cell_type": "markdown",
   "id": "c0c09e24-3fc3-4977-96c6-366bf1f5ebc4",
   "metadata": {},
   "source": [
    "### 3.3.6. Multi-Plot Grids\n",
    "* While exploring medium-dimensional data, a useful technique is to draw multiple instances of the same plot on different subsets of the dataset which allows us to extract a large amount of information about the complex data\n",
    "* Seaborn provides plotting functions to link the structure of the plot to the structure of the dataset and draw multi-plot grids\n",
    "* To use these features, the dataset has to be in a Pandas dataframe and it must be in a **tidy data format** which means that the dataframe should be structured such that each column is a feature/variable and each row is an observation/sample\n",
    "* Multi-plot grids are further divided into three categories:\n",
    "  - Facet grids\n",
    "  - Pair grids\n",
    "  - Joint grids\n",
    "\n",
    "**1) Facet grids:**\n",
    "* Facet grids provide three functions. These functions are used to visualize the distribution of a variable or the relationship between multiple variables separately within subsets of the dataset\n",
    "\n",
    "```\n",
    "* FacetGrid() \n",
    "* FacetGrid.map() \n",
    "* FacetGrid.map_dataframe()\n",
    "```\n",
    "\n",
    "**2) Pair grids:**\n",
    "* Pair grids provide plotting functions to visualize pairwise data relationships. The basic plotting function is `PairGrid()`. It allows us to draw a grid of small subplots using the same plot type to visualize data. In a `PairGrid()`, each row and column is assigned to a different variable. So, the resulting plot shows each pairwise relationship in the dataset\n",
    "\n",
    "**3) Joint grids:**\n",
    "* Joint grids provide plotting functions to draw Joint plots. There are 4 types of Joint grid functions:\n",
    "\n",
    "```\n",
    "* JointGrid()                  - draw a bivariate plot with marginal univariate plots\n",
    "* JointGrid.plot()             - shortcut to draw the full plot\n",
    "* JointGrid.plot_joint()       - draw a bivariate plot of x and y\n",
    "* JointGrid.plot_marginals()   - draw univariate plots for x and y separately\n",
    "```"
   ]
  },
  {
   "cell_type": "markdown",
   "id": "c153cb09-1f45-41b8-9597-0f2727c74493",
   "metadata": {},
   "source": [
    "## 3.4. \tSeaborn Functionality\n",
    "Seaborn offers a lot of functionality data visualization tasks. They are:\n",
    "* Seaborn provides a dataset-oriented API to examine relationships between variables\n",
    "* It provides functions to fit and visualize linear regression models for different types of independent and dependent variables\n",
    "* Seaborn provides functions for visualizing univariate and bivariate distributions and for comparing them between subsets of data\n",
    "* It provides plotting functions for using categorical variables to show observations or aggregate statistics\n",
    "* It helps to visualize matrices of data and use clustering algorithms to discover structure in those matrices\n",
    "* Seaborn provides a plotting function to plot statistical time series data. The function provides flexible estimation and representation of uncertainty around the estimate\n",
    "* It provides tools for choosing styles, color palettes, palette widgets, and utility functions. These tools help us to make beautiful plots that reveal patterns in the data\n",
    "* It provides several built-in themes for producing stylish-looking Matplotlib graphics"
   ]
  },
  {
   "cell_type": "markdown",
   "id": "e78257fe-c8a7-4adf-a449-867a060a8f51",
   "metadata": {},
   "source": [
    "## 3.5. Set aesthetic parameters with the set() method\n",
    "We can set the aesthetic parameters of Seaborn plots with the `set()` method. The aesthetic parameters are `context, style, palette, font, font_scale, color_codes`, dictionary of `rc` parameters. Example:\n",
    "```\n",
    "sns.set()\n",
    "```"
   ]
  },
  {
   "cell_type": "markdown",
   "id": "36aa0561-1c66-4503-9ed1-482dacb5159f",
   "metadata": {},
   "source": [
    "## 3.6. Seaborn Color Palette\n",
    "Color plays a very important role in data visualization. Colors add various dimensions to a plot when used effectively. A palette means a flat surface on which a painter mixes paint. Seaborn provides a function called `color_palette()`. It can be used to give colors to plots and adding aesthetic value to them. It returns a list of colors defining a color palette. There are several readily available Seaborn palettes. These are:\n",
    "* Deep\n",
    "* Muted\n",
    "* Bright\n",
    "* Pastel\n",
    "* Dark\n",
    "* Colorblind\n",
    "\n",
    "Besides these, we can also create new palettes. There is another function `seaborn.palplot()` which deals with color palettes. This function plots the color palette as a horizontal array."
   ]
  },
  {
   "cell_type": "markdown",
   "id": "3f2be5ee-9e90-4a72-ad3a-d85dd2aa9a3b",
   "metadata": {},
   "source": [
    "**Qualitative or Categorical colour palettes**: are best suitable to plot the categorical data as follows.\n",
    "```\n",
    "current_palette1 = sns.color_palette()\n",
    "sns.palplot(current_palette1)\n",
    "```\n",
    "**Sequential Color Palettes**: Sequential plots are suitable to express the distribution of data ranging from relatively lower values to higher values within a range. Appending an additional character “s” to the color passed to the color parameter will plot the Sequential plot. We need to append ‘s’ to the parameter like ‘Greens’ as follows:\n",
    "```\n",
    "current_palette2 = sns.color_palette()\n",
    "sns.palplot(sns.color_palette(“Greens”))\n",
    "```"
   ]
  },
  {
   "cell_type": "markdown",
   "id": "e4ae5227-7e71-4da4-9daf-846e0dc12437",
   "metadata": {},
   "source": [
    "**Diverging Color Palette**: Diverging palettes use two different colors. Each color represents variation in the value ranging from a common point in either direction. We assume plotting the data ranging from -1 to 1. The values from -1 to 0 take one color and 0 to +1 take another color. By default, the values are centered from zero. We can control it with parameter center by passing a value as follows:\n",
    "```\n",
    "current_palette3 = sns.color_palette()\n",
    "sns.palplot(sns.color_palette(“BrBG”, 7))\n",
    "```\n",
    "**Default Color Palette**: We can set the default color palette of a Seaborn plot using `set_palette()` function. The arguments are same for both `set_palette()` and `color_palette()` functions, but the default Matplotlib parameters are changed so that the palette is used for all plots.\n",
    "```\n",
    "def sinplot(flip=1):\n",
    "   x = np.linspace(0, 15, 100)\n",
    "   for i in range(1, 5):\n",
    "      plt.plot(x, np.sin(x + i * .5) * (7 - i) * flip)\n",
    "sns.set_style(\"white\")\n",
    "sns.set_palette(\"husl\")\n",
    "sinplot()\n",
    "```"
   ]
  },
  {
   "cell_type": "markdown",
   "id": "98145755-6880-4e57-8791-2b45b0a909b2",
   "metadata": {},
   "source": [
    "## 3.7. Plotting Univariate Distribution with `distplot()`\n",
    "The most important thing to do while analyzing the data is to understand its distribution. Seaborn helps us to understand the univariate distribution of data. The `distplot()` function provides a quick look at univariate distribution. This function will plot a histogram that fits the kernel density estimate of the data. Example:\n",
    "```\n",
    "tips = sns.load_dataset('tips')     # load dataset\n",
    "sns.distplot(tips['total_bill'])\n",
    "```"
   ]
  },
  {
   "cell_type": "markdown",
   "id": "b1d0b2db-8d94-4891-bd9c-404d684ee73a",
   "metadata": {},
   "source": [
    "### 3.7.1. Seaborn – Histogram\n",
    "Histograms represent the data distribution by forming bins along with a range of the data and then drawing bars to show the number of observations that fall in each bin. We can use the same `distplot()` function to plot a histogram:\n",
    "```\n",
    "sns.distplot(tips['total_bill'], kde=False)\n",
    "```\n",
    "The kde parameter is set to false. As a result, the representation of the kernel estimation plot will be removed and only the histogram is plotted."
   ]
  },
  {
   "cell_type": "markdown",
   "id": "e57a2b6d-1bf4-4cb0-a567-22889ca06d22",
   "metadata": {},
   "source": [
    "### 3.7.2. Seaborn – Kernel Density Estimation (KDE)\n",
    "Kernel Density Estimation (KDE) is a way to estimate the probability density function of a continuous random variable. It is used for non-parametric analysis. Setting the hist parameter to false in the `distplot()` function will yield the kernel density estimation plot.\n",
    "```\n",
    "sns.distplot(tips['total_bill'], hist=False)\n",
    "```"
   ]
  },
  {
   "cell_type": "markdown",
   "id": "a2202d88-501b-42ee-b913-3b769c168fae",
   "metadata": {},
   "source": [
    "## 3.8. Plotting Bivariate distribution with `jontplot()`\n",
    "Bivariate Distribution is used to determine the relation between two variables. This mainly deals with the relationship between two variables and how one variable is behaving with respect to the other. The best way to analyze Bivariate Distribution in seaborn is by using the `jointplot()` function. `Jointplot()` creates a multi-panel figure that projects the bivariate relationship between two variables and also the univariate distribution of each variable on separate axes.\n",
    "```\n",
    "sns.jointplot(x=\"total_bill\", y=\"tip\", data=tips)\n",
    "```"
   ]
  },
  {
   "cell_type": "markdown",
   "id": "1df394d5-7ad5-4db8-b554-6cf7ffdd4f3e",
   "metadata": {},
   "source": [
    "## 3.9. Seaborn – `scatterplot()`\n",
    "A scatter plot can be used to demonstrate the relationship between two variables x and y. A simple scatter plot can be drawn as follows:\n",
    "```\n",
    "sns.scatterplot(x=\"total_bill\", y=\"tip\", data=tips)\n",
    "```\n",
    "The relationship between the variables can be shown for different subsets of the data using the hue, size, and style parameters."
   ]
  },
  {
   "cell_type": "markdown",
   "id": "17cb49f1-e38b-4923-9196-ed11e0c4bcc1",
   "metadata": {},
   "source": [
    "## 3.10. Visualizing Pairwise relationship with `pairplot()`\n",
    "Some datasets contain many variables. In such cases, the relationship between variables should be analyzed. So, we need to plot pairwise relationships in a dataset. To plot multiple pairwise bivariate distributions, we can use the `pairplot()` function. This shows the relationship for (n,2) combination of the variable in a dataframe as a matrix of plots, and the diagonal plots are the univariate plots. We can plot a pairplot as:\n",
    "```\n",
    "sns.set_style(\"ticks\")\n",
    "sns.pairplot(tips)\n",
    "```"
   ]
  },
  {
   "cell_type": "markdown",
   "id": "b5152752-e20a-475b-9f51-915bfa6413af",
   "metadata": {},
   "source": [
    "## 3.11. Plotting Categorical data\n",
    "The histograms, scatter plots, and kde plots are used to analyze the continuous variables under study. These plots are not suitable when the variable under study is categorical. When one or both the variables under study are categorical, we can use plots like\n",
    "```\n",
    "* striplot()       - to plot categorical data\n",
    "* swarmplot()      - to plot categorical data\n",
    "```"
   ]
  },
  {
   "cell_type": "markdown",
   "id": "ee3e8e4b-16e6-449c-8537-ba9ff993b575",
   "metadata": {},
   "source": [
    "## 3.11.1. Seaborn – `striplot()`\n",
    "A `stripplot()` is used to draw a scatterplot where one variable is categorical. It represents the data in sorted order along with any one of the axis. We can plot a stripplot as follows:\n",
    "```\n",
    "sns.stripplot(x=\"day\", y=\"total_bill\", data=tips)\n",
    "```\n",
    "We can add jitter to bring out the distribution of values as follows:\n",
    "```\n",
    "sns.stripplot(x=\"day\", y=\"total_bill\", data=tips, jitter=True)\n",
    "```"
   ]
  },
  {
   "cell_type": "markdown",
   "id": "7965f3d4-3dc7-425a-80fd-5269c7d228f0",
   "metadata": {},
   "source": [
    "## 3.11.2. Seaborn – `swarmplot()`\n",
    "Another option that can be used as an alternate to ‘jitter’ is to use function `swarmplot()`. This function positions each point of the scatter plot on the categorical axis and thereby avoids overlapping points. So `swarmplot()` can be used to draw categorical scatterplots with non-overlapping points. We can plot a swarmplot as follows:\n",
    "```\n",
    "sns.swarmplot(x=\"day\", y=\"total_bill\", data=tips)\n",
    "```"
   ]
  },
  {
   "cell_type": "markdown",
   "id": "f02eeac8-a1ed-46cb-b9e6-7b736d064dc3",
   "metadata": {},
   "source": [
    "## 3.12. Distribution of Observations\n",
    "When dealing with a dataset, the first thing that we want to do is get a sense of how the variables are distributed. We can use the following plots to plot the data distribution.\n",
    "```\n",
    "* boxplot()\n",
    "* violinplot()\n",
    "```"
   ]
  },
  {
   "cell_type": "markdown",
   "id": "bff96adb-52b9-4b72-bf8c-2c3e34aa53ca",
   "metadata": {},
   "source": [
    "### 3.12.1. Seaborn – `boxplot()`\n",
    "We can draw a box plot to show distributions for categories. Boxplot is a convenient way to visualize the distribution of data through their quartiles. Box plots usually have vertical lines extending from the boxes which are termed as whiskers. These whiskers indicate variability outside the upper and lower quartiles; hence Box Plots are also termed a box-and-whisker plot. Any Outliers in the data are plotted as individual points.\n",
    "We can plot a box-plot as follows:\n",
    "```\n",
    "sns.boxplot(x=tips[\"total_bill\"])\n",
    "```\n",
    "We can draw a vertical boxplot grouped by a categorical variable as follows:\n",
    "```\n",
    "sns.boxplot(x=\"day\", y=\"total_bill\", data=tips)\n",
    "```"
   ]
  },
  {
   "cell_type": "markdown",
   "id": "62e580d6-8b55-4a56-98c0-94c45fe98244",
   "metadata": {},
   "source": [
    "### 3.12.2. Seaborn – `violinplot()`\n",
    "Violin Plots are combinations of the box plot with the kernel density estimates. So, these plots are easier to analyze and understand the distribution of the data. We can draw a single horizontal violin plot as follows:\n",
    "```\n",
    "sns.violinplot(x=tips[\"total_bill\"])\n",
    "```\n",
    "We can draw a vertical violinplot grouped by a categorical variable as follows:\n",
    "```\n",
    "sns.violinplot(x=\"day\", y=\"total_bill\", data=tips)\n",
    "```"
   ]
  },
  {
   "cell_type": "markdown",
   "id": "020cd000-488d-4b70-8ff5-c4232faf525b",
   "metadata": {},
   "source": [
    "## 3.13. Statistical estimation with Seaborn\n",
    "Sometimes, we need to estimate the central tendency of a distribution. Mean and median are the very often used techniques for this. The following plots are used to measure the central tendency of a distribution.\n",
    "```\n",
    "* barplot()\n",
    "* pointplot()\n",
    "```"
   ]
  },
  {
   "cell_type": "markdown",
   "id": "60a5680f-3098-445c-8389-aac13596342b",
   "metadata": {},
   "source": [
    "### 3.13.1. Seaborn – `barplot()`\n",
    "A **barplot** shows the relation between a categorical variable and a continuous variable. The data is represented in rectangular bars where the length of the bar represents the proportion of the data in that category. A barplot show point estimates and confidence intervals as rectangular bars. So, it represents the estimate of central tendency. We can draw a set of vertical bar plots grouped by a categorical variable as follows:\n",
    "```\n",
    "sns.barplot(x=\"day\", y=\"total_bill\", data=tips)\n",
    "```"
   ]
  },
  {
   "cell_type": "markdown",
   "id": "532a151d-36c9-4c2a-ac4c-21a2658a228c",
   "metadata": {},
   "source": [
    "### 3.13.2. Seaborn – `pointplot()`\n",
    "Point plots serve the same as bar plots but in a different style. Rather than the full bar, the value of the estimate is represented by the point at a certain height on the other axis. The Point plot shows point estimates and confidence intervals using scatter plot glyphs. We can draw a set of vertical point plots grouped by a categorical variable as follows:\n",
    "```\n",
    "sns.pointplot(x=\"time\", y=\"total_bill\", data=tips)\n",
    "sns.pointplot(x=\"time\", y=\"total_bill\", hue=\"smoker\", data=tips)\n",
    "```"
   ]
  },
  {
   "cell_type": "markdown",
   "id": "e2deac2a-d9c3-4a51-9d78-6dce267a9a35",
   "metadata": {},
   "source": [
    "## 3.14. Linear relationships with Seaborn\n",
    "Many datasets contain multiple quantitative variables, and the goal of an analysis is often to relate those variables to each other. We can use statistical models to estimate a simple relationship between two sets of observations. These are termed, **regression models**. While building the regression models, we often check for multicollinearity, where we had to see the correlation between all the combinations of continuous variables and will take necessary action to remove multicollinearity if exists. There are two main functions in Seaborn to visualize a linear relationship determined through regression. These functions are:\n",
    "```\n",
    "* regplot() \n",
    "* lmplot()\n",
    "* residplot()\n",
    "```"
   ]
  },
  {
   "cell_type": "markdown",
   "id": "f88ea8a9-6b4b-4334-a6b1-7f6ae5b485f4",
   "metadata": {},
   "source": [
    "### 3.14.1. Seaborn – `regplot()`\n",
    "The function `regplot()` plots data and fits the linear regression model. It draws a scatterplot of two variables x and y, and then fit the regression model y ~ x and plot the resulting regression line and a 95% confidence interval for that regression. We can draw the scatterplot and regression line using regplot() as follows:\n",
    "```\n",
    "sns.regplot(x=\"total_bill\", y=\"tip\", data=tips)\n",
    "```"
   ]
  },
  {
   "cell_type": "markdown",
   "id": "2b268b08-8e85-4b63-9305-344dbfa0c553",
   "metadata": {},
   "source": [
    "### 3.14.2. Seaborn – `lmplot()`\n",
    "The function `lmplot()` plots data and fits the regression model across a `FacetGrid`. This function combines `regplot()` and `FacetGrid`. It is intended as a convenient interface to fit regression models across conditional subsets of a dataset.\n",
    "We can plot a simple linear relationship between two variables using `lmplot()` as follows:\n",
    "```\n",
    "sns.lmplot(x=\"total_bill\", y=\"tip\", data=tips)\n",
    "```\n",
    "The `regplot()` and `lmplot()` functions are closely related, but the former is an axes-level function while the latter is a figure-level function that combines `regplot()` and `FacetGrid`"
   ]
  },
  {
   "cell_type": "markdown",
   "id": "a647a5cc-1e58-44f4-8110-cacd08e89b74",
   "metadata": {},
   "source": [
    "### 3.14.3. Seaborn – `residplot()`\n",
    "The function `residplot()` plot the residuals of a linear regression. We can plot the residuals as follows:\n",
    "```\n",
    "sns.residplot(x=\"total_bill\", y=\"tip\", data=tips)\n",
    "```"
   ]
  },
  {
   "cell_type": "markdown",
   "id": "b406eaa7-3a9a-4a83-a957-6a762f3f066c",
   "metadata": {},
   "source": [
    "## 3.15. Matrix plots with Seaborn\n",
    "Two functions enable us to plot data in the form of a matrix. These are:\n",
    "```\n",
    "* heatmap()\n",
    "* clustermap()\n",
    "```"
   ]
  },
  {
   "cell_type": "markdown",
   "id": "00d7056e-4d74-431c-b0b4-4f8b8c4f7759",
   "metadata": {},
   "source": [
    "### 3.15.1. Seaborn – `heatmap()`\n",
    "Seaborn `heatmap()` function plots rectangular data as a color-encoded matrix. We can plot a heatmap for a numpy array as follows:\n",
    "```\n",
    "uniform_data = np.random.rand(10, 12)\n",
    "sns.heatmap(uniform_data)\n",
    "```"
   ]
  },
  {
   "cell_type": "markdown",
   "id": "2460b759-d624-4066-8377-cec38bf3190c",
   "metadata": {},
   "source": [
    "### 3.15.2. Seaborn – `clustermap()`\n",
    "Seaborn `clustermap()` function plot a matrix dataset as a hierarchically-clustered heatmap. We can plot a clustered heatmap of tips dataset as follows:\n",
    "```\n",
    "df1 = tips[['total_bill', 'tip', 'size']]\n",
    "sns.clustermap(df1)\n",
    "```"
   ]
  },
  {
   "cell_type": "markdown",
   "id": "4d1b78ac-31ac-4a3a-8a7b-2fea9d92672f",
   "metadata": {},
   "source": [
    "## 3.16. Multi-plot grids with Seaborn\n",
    "When exploring medium-dimensional data, a useful approach is to draw multiple instances of the same plot on different subsets of the dataset. This technique is sometimes called either `“lattice”`, or `“trellis”` plotting, and it is related to the idea of drawing multiple instances of the same plot. It allows us to quickly extract a large amount of information about complex data. Seaborn provides three types of grids:\n",
    "```\n",
    "* FacetGrid\n",
    "* PairGrid \n",
    "* JointGrid\n",
    "```"
   ]
  },
  {
   "cell_type": "markdown",
   "id": "d7d48498-bf04-47ad-85ea-b494ac6526bf",
   "metadata": {},
   "source": [
    "### 3.16.1. Seaborn – `FacetGrid()`\n",
    "Seaborn `Facetgrid()` function enables us to draw multi-plot grid for plotting conditional relationships. Let’s initialize a 2x2 grid of facets using the tips dataset as follows:\n",
    "```\n",
    "sns.FacetGrid(tips, col=\"time\", row=\"smoker\")\n",
    "```\n",
    "Initializing the grid-like this sets up the matplotlib figure and axes but doesn’t draw anything on them.\n",
    "The main approach for visualizing data on this grid is with the `FacetGrid.map()` method. We need to provide it with a plotting function and the name(s) of variable(s) in the dataframe to plot. We can draw a univariate plot on each facet as follows:\n",
    "```\n",
    "g = sns.FacetGrid(tips, col=\"time\", row=\"smoker\")\n",
    "g = g.map(plt.hist, \"total_bill\")\n",
    "```"
   ]
  },
  {
   "cell_type": "markdown",
   "id": "8323b175-b9ba-4615-ae36-77a6712b56f9",
   "metadata": {},
   "source": [
    "### 3.16.2. Seaborn – `PairGrid()`\n",
    "Seaborn `PairGrid()` function draws subplot grid for plotting pairwise relationships in a dataset. We can draw a scatterplot for each pairwise relationship using `PairGrid()` function as follows:\n",
    "```\n",
    "g = sns.PairGrid(tips)\n",
    "g = g.map(plt.scatter)\n",
    "```\n",
    "We can show a univariate distribution on the diagonal as follows:\n",
    "```\n",
    "g = sns.PairGrid(tips)\n",
    "g = g.map_diag(plt.hist)\n",
    "g = g.map_offdiag(plt.scatter)\n",
    "```"
   ]
  },
  {
   "cell_type": "markdown",
   "id": "066e4296-289c-452a-92b7-f0d0699635a0",
   "metadata": {},
   "source": [
    "### 3.16.3. Seaborn – `JointGrid()`\n",
    "Seaborn `JointGrid()` function help us to set up the grid of subplots. We can initialize the figure but don’t draw any plots onto it as follows:\n",
    "```\n",
    "g = sns.JointGrid(x=\"total_bill\", y=\"tip\", data=tips)\n",
    "```\n",
    "We can add plots using default parameters as follows:\n",
    "```\n",
    "g = sns.JointGrid(x=\"total_bill\", y=\"tip\", data=tips)\n",
    "g = g.plot(sns.regplot, sns.distplot)\n",
    "```"
   ]
  },
  {
   "cell_type": "markdown",
   "id": "2508b671-edf7-42c3-8f1e-3df858aeaf4b",
   "metadata": {},
   "source": [
    "<!--NAVIGATION-->\n",
    "<br>\n",
    "\n",
    "<[ [Data Visualization with Matplotlib](02.00-dvrg-Data-Visualization-with-Matplotlib.ipynb) | [Contents and Acronyms](00.00-dvrg-Contents-and-Acronyms.ipynb) | [References](04.00-dvrg-References.ipynb) ]>"
   ]
  }
 ],
 "metadata": {
  "kernelspec": {
   "display_name": "Python 3",
   "language": "python",
   "name": "python3"
  },
  "language_info": {
   "codemirror_mode": {
    "name": "ipython",
    "version": 3
   },
   "file_extension": ".py",
   "mimetype": "text/x-python",
   "name": "python",
   "nbconvert_exporter": "python",
   "pygments_lexer": "ipython3",
   "version": "3.8.8"
  }
 },
 "nbformat": 4,
 "nbformat_minor": 5
}
