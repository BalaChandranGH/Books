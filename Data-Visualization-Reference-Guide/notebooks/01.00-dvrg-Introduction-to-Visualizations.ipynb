{
 "cells": [
  {
   "cell_type": "markdown",
   "id": "21ea46b3-a741-4636-832f-a997c8ed9719",
   "metadata": {},
   "source": [
    "<!--BOOK_INFORMATION-->\n",
    "<img align=\"left\" style=\"padding-right:10px;\" src=\"figures/DVRG-Book-Cover-Small.png\"><br>\n",
    "\n",
    "This notebook contains an excerpt from the **`Data Visualization Reference Guide - For Beginners`** book written by *Balasubramanian Chandran*; the content is available [on GitHub](https://github.com/BalaChandranGH/Books/Data-Visualization-Reference-Guide)."
   ]
  },
  {
   "cell_type": "markdown",
   "id": "5b4f979f-1679-4b29-b838-b8eac641d2a6",
   "metadata": {},
   "source": [
    "<br>\n",
    "<!--NAVIGATION-->\n",
    "\n",
    "<[ [Contents and Acronyms](00.00-dvrg-Contents-and-Acronyms.ipynb) | [Data Visualization with Matplotlib](02.00-dvrg-Data-Visualization-with-Matplotlib.ipynb) ]>"
   ]
  },
  {
   "cell_type": "markdown",
   "id": "246d5551-a6fe-4015-bc44-fd8c46560203",
   "metadata": {},
   "source": [
    "# 1. Introduction to Visualizations"
   ]
  },
  {
   "cell_type": "markdown",
   "id": "90d26ec4-e52f-40c0-aecb-494f3b694a71",
   "metadata": {},
   "source": [
    "## 1.1. What is data visualization?\n",
    "* The process of conveying/presenting the data with the help of plots and graphics\n",
    "* The plots and graphics take numerical data as input and display output in the form of charts, figures, and tables that help to analyze and visualize the data clearly, and make decisions\n",
    "* Matplotlib is the basic data visualization tool (plotting library) of the Python programming language\n",
    "* Python, R, etc. have different data visualization tools available that are suitable for different purposes"
   ]
  },
  {
   "cell_type": "markdown",
   "id": "5bfd4142-ee18-43e0-8bc6-0b530a58ac60",
   "metadata": {},
   "source": [
    "## 1.2. Why do we build visuals?\n",
    "* A way to summarize the findings and display them in a form that facilitates interpretations and help in identifying trends and patterns\n",
    "* For Exploratory Data Analysis (EDA)\n",
    "* Use them to support recommendations to different stakeholders"
   ]
  },
  {
   "cell_type": "markdown",
   "id": "788cc99b-e3a2-42a3-8a6a-6a4e059c2fd5",
   "metadata": {},
   "source": [
    "## 1.3. Goals of data visualizations\n",
    "* To communicate data clearly and efficiently \n",
    "* To share unbiased representation of data\n",
    "* To make complex data more accessible and easily understandable\n",
    "* Must comply with the **“CEO rule”**\n",
    "  - If the CEO of the company attends your presentation, you should hook him/her into the presentation within the first 5 min so that he/she does not leave or return for the rest of the presentation if he/she goes out for an urgent phone call\n",
    "* Must pass the **“so what?”** test\n",
    "![](figures/DVRG-SoWhatTest.png)\n",
    "&emsp;&emsp;&emsp;&emsp;&emsp;&emsp;&emsp;&emsp;&emsp;&emsp;&emsp; Image Credit [ (Source) ](https://cognitiveclass.ai/)"
   ]
  },
  {
   "cell_type": "markdown",
   "id": "5c8e990a-b708-434a-80c7-fc5e806e1822",
   "metadata": {},
   "source": [
    "## 1.4. Best practice in data visualizations\n",
    "_**`“Less is more Effective, more Attractive and more Impactive.”`**_\n",
    "\n",
    "_**`“The results of our findings need to tell an appealing story and their representations should be easy to interpret and understand for non-technical audiences.\"`**_"
   ]
  },
  {
   "cell_type": "markdown",
   "id": "44130bd6-3977-4925-8cc4-c2bb840ea833",
   "metadata": {},
   "source": [
    "## 1.5. Qualitative vs Quantitative data\n",
    "* One thing to always keep in mind is the type of data we are trying to create graphs for\n",
    "* In general, we categorize data into two big groups:\n",
    "  - `Qualitative` data is also called `Categorical` or `Nominal` data\n",
    "  - `Quantitative` data is also called `Numerical` or `Continuous` or `Ordinal` data"
   ]
  },
  {
   "cell_type": "markdown",
   "id": "59fed905-8241-45a7-af7e-ceb7a932a297",
   "metadata": {},
   "source": [
    "## 1.6. Rules for better visualization\n",
    "There are **Ten Simple Rules for Better Figures** introduced by Nicolas P. Rougier, Michael Droettboom, Philip E. Bourne, and they are:\n",
    "```\n",
    "* Rule  1: Know your audience\n",
    "* Rule  2: Identify your message\n",
    "* Rule  3: Adapt the figure to support the medium\n",
    "* Rule  4: Captions are not optional\n",
    "* Rule  5: Do not trust the defaults\n",
    "* Rule  6: Use colors effectively\n",
    "* Rule  7: Do not mislead the reader\n",
    "* Rule  8: Avoid “chart-junk”\n",
    "* Rule  9: Message trumps beauty\n",
    "* Rule 10: Get the right tool\n",
    "```"
   ]
  },
  {
   "cell_type": "markdown",
   "id": "f7879d43-41f1-4bbd-acf8-0ada9d6a40ff",
   "metadata": {},
   "source": [
    "## 1.7. Qualities of a great visualization\n",
    "* **Truthful**\n",
    "  - Be aware of your actions when cleaning, summarizing, and manipulating data and ensure you are not\n",
    "    - Misleading yourself (self-deception)\n",
    "    - Misleading your audience\n",
    "* **Functionality**\n",
    "* **Beauty**\n",
    "* **Insightful**\n",
    "* **Enlightening**\n",
    "  - A combination of the previous four, but with a social-ethical responsibility"
   ]
  },
  {
   "cell_type": "markdown",
   "id": "68c35b15-cc82-4833-bb28-d28060407c5a",
   "metadata": {},
   "source": [
    "## 1.8. Visualization wheel\n",
    "The visualization wheel was created by Alberto Cairo as shown below.\n",
    "![](figures/DVRG-VizWheelDims.png)<br>"
   ]
  },
  {
   "cell_type": "markdown",
   "id": "95a5659a-9586-4d82-b80c-72e02a72b96b",
   "metadata": {},
   "source": [
    "<img align=\"left\" style=\"padding-right:10px;\" src=\"figures/DVRG-VizWheel1.png\"><br>\n",
    "<br><br><br><br><br><br><br><br><br>\n",
    "Image credit [ (Source) ](https://www.coursera.org/in)<br>"
   ]
  },
  {
   "cell_type": "markdown",
   "id": "c44d3cdb-4ecc-428f-b5f2-cbafb4ba201c",
   "metadata": {},
   "source": [
    "<img align=\"left\" style=\"padding-right:10px;\" src=\"figures/DVRG-VizWheel2.png\"><br>\n",
    "<br><br><br><br><br><br><br>\n",
    "Image credit [ (Source) ](https://www.coursera.org/in)"
   ]
  },
  {
   "cell_type": "markdown",
   "id": "251f2f28-4cfa-43c8-b5e0-5afbe6454ea3",
   "metadata": {},
   "source": [
    "## 1.9. Edward Tufte’s graphical heuristics\n",
    "* Edward Tufte introduced 2 graphical heuristics for the visual display of information, and they are:\n",
    "  - The data-ink-ratio\n",
    "  - Chart-junk"
   ]
  },
  {
   "cell_type": "markdown",
   "id": "2a17df0f-29c8-4c3a-97ef-f0d6f274abf0",
   "metadata": {},
   "source": [
    "* **The data-ink-ratio:** _**`Remove to improve`**_\n",
    "  - Remove backgrounds\n",
    "  - Remove redundant labels\n",
    "  - Remove borders\n",
    "  - Reduce colors\n",
    "  - Remove special effects\n",
    "  - Lighten labels\n",
    "  - Direct label\n",
    "\n",
    "<img align=\"left\" style=\"padding-right:10px;\" src=\"figures/DVRG-DataInkRatio.png\"><br>\n",
    "<br><br><br>\n",
    "Image credit [ (Source) ](https://www.darkhorseanalytics.com/)"
   ]
  },
  {
   "cell_type": "markdown",
   "id": "f2802277-53a7-447d-9850-ef556a952773",
   "metadata": {},
   "source": [
    "* **The chart-junk:** _**`3 types`**_\n",
    "  - Unintended optical art - excessive shading, patterning, coloring, etc. \n",
    "  - The grid - most of the time it is unnecessary and introduces competition to the data being shared\n",
    "  - The duck\n",
    "  \n",
    "![](figures/DVRG-ChartJunk1.png) ![](figures/DVRG-ChartJunk2.png)<br>\n",
    "&emsp;&emsp;&emsp;&emsp;&emsp;&emsp;&emsp;&emsp;&emsp;&emsp;&emsp;&emsp;&emsp;&emsp;&emsp;&emsp;&emsp;&emsp;&emsp;&emsp;&emsp;&emsp;&emsp; Images credit [ (Source) ](https://www.coursera.org/in)"
   ]
  },
  {
   "cell_type": "markdown",
   "id": "ec4cd809-df82-4b13-9c85-819a8da01025",
   "metadata": {},
   "source": [
    "* **`Overall, follow simplicity and minimalism in data visualization`**"
   ]
  },
  {
   "cell_type": "markdown",
   "id": "b432713e-079d-498b-b48f-3a2fea83daeb",
   "metadata": {},
   "source": [
    "## 1.10. Basic visualization tools\n",
    "* `Bar charts`\n",
    "  - Displays the **frequencies of qualitative** variables\n",
    "  - Representation of grouped data (e.g., counts by group, averages by group)\n",
    "* `Histograms`\n",
    "  - Displays the **frequencies of quantitative** variables\n",
    "  - Looks like Bar charts, but displays quantitative/numerical data\n",
    "  - Graphical visualization of data counts\n",
    "  - A particular type of Bar chart\n",
    "  - Shows the distribution of a quantitative variable\n",
    "* `Pie charts`\n",
    "  - A representation of counts of qualitative data\n",
    "  - A circular graph that shows proportions of data to an overall total\n",
    "* `Scatter plots`\n",
    "  - A plot that shows the relationship between two variables (Predictor X & Target Y)\n",
    "* `Bubble plots`\n",
    "  - A variation of the Scatter plot that displays 3 dimensions of data X, Y & Z where Z represents the sizes of data-points\n",
    "* `Line plots/charts/graphs`\n",
    "  - A graph that uses lines to connect individual data points\n",
    "  - Displays quantitative values over a specified time interval\n",
    "* `World clouds`\n",
    "  - An image composed of words that occur in a particular text or subject\n",
    "  - The size of a word indicates its frequency or importance in a body of text\n",
    "* `Radar charts`\n",
    "  - A way to display multivariate data within one plot\n",
    "  - They are circular plots with spokes that represent an axis for each variable.\n",
    "* `Waffle charts`\n",
    "  - A great way to visualize data in relation to a whole\n",
    "  - Provide a fine-grained view of the proportions of different categories\n",
    "  - Can be used as an addition to other visualization tools, such as a Pie chart\n",
    "* `Box plots`\n",
    "  - A plot that summarizes the distribution of sorted numerical data\n",
    "  - A convenient way to represent the degree of dispersion (spread) and skewness in the data, and show outliers without making any assumption of the underlying statistical distribution\n",
    "* `Leaflet maps`\n",
    "  - Displays spatial information"
   ]
  },
  {
   "cell_type": "markdown",
   "id": "19a1e22d-71bb-4549-899c-148900da540d",
   "metadata": {},
   "source": [
    "## 1.11. How to choose the right chart type for a visualization?\n",
    "* Numbers don't lie, but a bad chart decision makes it extremely difficult to understand what those numbers mean\n",
    "* Before putting together a presentation, make sure your pick the right type of chart to clearly communicate the information you want to share\n",
    "* Working with and collecting huge amounts of data is rewarding, but that data is only as good as how well you can communicate what it means\n",
    "* It's easy to throw your data up on a scatter or bar chart, slip it into a presentation, and convince yourself you'll do the explaining, but that's a terrible shortcut\n",
    "* When the presentation is over and the only thing left behind is your slides, no one will have a clue what your chart was trying to communicate\n",
    "* The problem is that there are so many chart types, styles, and methods of presenting data that it can be confusing and difficult to pick the right one\n",
    "* Follow the following 3-points rule:\n",
    "  1) Understand the message you are trying to present with the data\n",
    "  2) Select the best arrangement\n",
    "  3) Format the chart"
   ]
  },
  {
   "cell_type": "markdown",
   "id": "51403f17-d190-4691-90e4-48d183a4b7f7",
   "metadata": {},
   "source": [
    "**1) Understand the message you are trying to present with the data:**\n",
    "* When you're putting together a chart, you're trying to show one of four things: \n",
    "  - `Relationship` between data points\n",
    "  - `Comparison` of data points\n",
    "  - `Composition` of data\n",
    "  - `Distribution` of data\n",
    "  - A `relationship` tries to show a connection or correlation between two or more variables through the data presented, like the market cap of given stock overtime versus the overall market trend\n",
    "  - A `comparison` tries to set one set of variables apart from another, and display how those two variables interact, like the number of visitors to five competing websites in a single month\n",
    "  - A `composition` tries to collect different types of information that make up a whole and display them together, like the search terms that those visitors used to land on your site, or how many of them came from links, search engines, or direct traffic.\n",
    "  - A `distribution` tries to lay out a collection of related or unrelated information simple to see how it correlates, if at all, and to understand if there's any interaction between the variables, like the number of bugs reported during each month of a beta."
   ]
  },
  {
   "cell_type": "markdown",
   "id": "360d2a5f-f631-4be8-8383-2c4e34d45d90",
   "metadata": {},
   "source": [
    "**2) Select the best arrangement:**\n",
    "* Once you understand what message you're trying to send with the data you have, it's time to select the best method for displaying that information\n",
    "* Different chart types cater best to different methods. For example, \n",
    "  - `Scatter plots` are best used to show distributions\n",
    "  - `Line charts` (essentially, Scatter plots with a defined trend) are better suited for relationships\n",
    "  - `Pie charts` do well when you're trying to communicate a composition, but make for poor comparisons or distributions"
   ]
  },
  {
   "cell_type": "markdown",
   "id": "73bdcbef-343f-4673-993b-911430489ecf",
   "metadata": {},
   "source": [
    "**3) Format the chart:**\n",
    "* Once you've selected the right type of chart for your data, make sure you don't do your data a disservice by forgetting some basic design tips\n",
    "* Kill the grid lines unless they're absolutely necessary, or at least make them subtle so they don't distract from the information you're trying to present\n",
    "* Make sure your chart is centered on the data you want to present, your axes are clearly labeled, and your axes have units on them where necessary, so no one has to guess or infer what you're trying to say\n",
    "* Remember, your goal is that anyone can pick up your chart, whether you're there to talk about it or not, and understand what information the data is trying to communicate\n"
   ]
  },
  {
   "cell_type": "markdown",
   "id": "94297e0b-e237-4c21-9038-bc8a06ef5342",
   "metadata": {},
   "source": [
    "<img align=\"left\" style=\"padding-right:10px;\" src=\"figures/DVRG-ChartSuggestions.png\"><br>\n",
    "&emsp;&emsp;&emsp;&emsp;&emsp;&emsp;&emsp;&emsp;&emsp;&emsp;&emsp;&emsp;&emsp;&emsp;&emsp;&emsp; Image credit [ (Source) ](https://www.coursera.org/in)"
   ]
  },
  {
   "cell_type": "markdown",
   "id": "2a8bad25-273d-4dd6-8661-f0358d573f20",
   "metadata": {},
   "source": [
    "## 1.12. Similarities & differences between histograms and boxplots\n",
    "**Similarities between Histograms and Boxplots:**\n",
    "* Both are graphical representations for the frequency of numeric data values\n",
    "* Both allow to visually assess the central tendency, the amount of variation in the data as well as the distributions, presence of gaps, outliers, or unusual data points\n",
    "* Both are used to explore and present the data in an easy and understandable manner\n",
    "* Both are used to verify whether an improvement has been achieved by exploring the data before and after the improvement initiative\n",
    "* Both are ideal to represent a moderate to large amount of data. They may not accurately display the distribution shape if the data size is too small. In practice, a sample size of at least 30 data values would be sufficient for both tools\n",
    "\n",
    "<img align=\"left\" style=\"padding-right:10px;\" src=\"figures/DVRG-HistBoxSimilarities.png\"><br>\n",
    "<br><br><br>\n",
    "Image credit [ (Source) ](https://citoolkit.com/articles/histograms-and-boxplots/)"
   ]
  },
  {
   "cell_type": "markdown",
   "id": "fa3d336f-9ef5-4d87-9a1f-00e868371dfe",
   "metadata": {},
   "source": [
    "**Differences between Histograms and Boxplots:**\n",
    "* While Boxplots and Histograms are visualizations used to show the distributions of the data, they communicate information differently\n",
    "\n",
    "<img align=\"left\" style=\"padding-right:10px;\" src=\"figures/DVRG-HistBoxDifferences1.png\"><br>\n",
    "<br><br>\n",
    "Image credit [ (Source) ](https://citoolkit.com/articles/histograms-and-boxplots/)"
   ]
  },
  {
   "cell_type": "markdown",
   "id": "c75b4d86-c16b-46fd-bdf7-24992be65aa2",
   "metadata": {},
   "source": [
    "<img align=\"left\" style=\"padding-right:10px;\" src=\"figures/DVRG-HistBoxDifferences2.png\"><br>\n",
    "<br><br>\n",
    "Image credit [ (Source) ](https://citoolkit.com/articles/histograms-and-boxplots/)"
   ]
  },
  {
   "cell_type": "markdown",
   "id": "7267dff4-0cc2-4d19-a0b7-39cac2c71ff0",
   "metadata": {},
   "source": [
    "In symmetric distribution, the mean and median are nearly the same, and the two whiskers have almost the same length.\n",
    "\n",
    "![](figures/DVRG-HistBoxDifferences3.png)"
   ]
  },
  {
   "cell_type": "markdown",
   "id": "44768e6c-bac1-4db4-be0c-dbfc02f00d6d",
   "metadata": {},
   "source": [
    "## 1.13. Different types of charts/plots/graphs\n",
    "![](figures/DVRG-DifferentTypesofCharts.png)"
   ]
  },
  {
   "cell_type": "markdown",
   "id": "b2219dc6-e8dc-4d24-a30d-8166bec16c8f",
   "metadata": {},
   "source": [
    "<!--NAVIGATION-->\n",
    "<br>\n",
    "\n",
    "<[ [Contents and Acronyms](00.00-dvrg-Contents-and-Acronyms.ipynb) | [Data Visualization with Matplotlib](02.00-dvrg-Data-Visualization-with-Matplotlib.ipynb) ]>"
   ]
  }
 ],
 "metadata": {
  "kernelspec": {
   "display_name": "Python 3",
   "language": "python",
   "name": "python3"
  },
  "language_info": {
   "codemirror_mode": {
    "name": "ipython",
    "version": 3
   },
   "file_extension": ".py",
   "mimetype": "text/x-python",
   "name": "python",
   "nbconvert_exporter": "python",
   "pygments_lexer": "ipython3",
   "version": "3.8.8"
  }
 },
 "nbformat": 4,
 "nbformat_minor": 5
}
