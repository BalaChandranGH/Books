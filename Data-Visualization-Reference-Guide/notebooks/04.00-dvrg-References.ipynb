{
 "cells": [
  {
   "cell_type": "markdown",
   "id": "74307782-2cfd-4e93-9c9d-345e9e17278e",
   "metadata": {},
   "source": [
    "<!--BOOK_INFORMATION-->\n",
    "<img align=\"left\" style=\"padding-right:10px;\" src=\"figures/DVRG-Book-Cover-Small.png\"><br>\n",
    "\n",
    "This notebook contains an excerpt from the **`Data Visualization Reference Guide - For Beginners`** book written by *Balasubramanian Chandran*; the content is available [on GitHub](https://github.com/BalaChandranGH/Books/Data-Visualization-Reference-Guide)."
   ]
  },
  {
   "cell_type": "markdown",
   "id": "3af80a19-407d-4042-a923-914f134b9b29",
   "metadata": {},
   "source": [
    "<br>\n",
    "<!--NAVIGATION-->\n",
    "\n",
    "<[ [Data Visualization with Seaborn](03.00-dvrg-Data-Visualization-with-Seaborn.ipynb) | [Contents and Acronyms](00.00-dvrg-Contents-and-Acronyms.ipynb) ]>"
   ]
  },
  {
   "cell_type": "markdown",
   "id": "8bcbe2ab-8fa1-4a0f-bbd0-9fa113ac5419",
   "metadata": {},
   "source": [
    "# 4. References"
   ]
  },
  {
   "cell_type": "markdown",
   "id": "dc592557-76fd-4bd1-a4c4-d251f29e4456",
   "metadata": {},
   "source": [
    "1. [1.1 – 1.11.] Introduction to Visualizations<br>\n",
    "   (https://www.coursera.org/) - Applied Plotting, Charting & Data Representation in Python course<br>\n",
    "   (https://cognitiveclass.ai/) - Data Visualization with R course<br>\n",
    "   (https://cognitiveclass.ai/) - Data Visualization with Python course\n",
    "\n",
    "2. [1.12.] Similarities & differences between histograms and boxplots<br>\n",
    "   (https://citoolkit.com/articles/histograms-and-boxplots/)\n",
    "\n",
    "3. [1.13.] Different types of charts/plots/graphs<br>\n",
    "   (https://matplotlib.org/)\n",
    "\n",
    "4. [2.] Data Visualization with Matplotlib<br>\n",
    "   (https://matplotlib.org/)\n",
    "\n",
    "5. [3.] Data Visualization with Seaborn<br>\n",
    "   (https://seaborn.pydata.org/)"
   ]
  },
  {
   "cell_type": "markdown",
   "id": "fdcd084a-bbd6-4742-a964-08fb4b7bab58",
   "metadata": {},
   "source": [
    "<!--NAVIGATION-->\n",
    "<br>\n",
    "\n",
    "<[ [Data Visualization with Seaborn](03.00-dvrg-Data-Visualization-with-Seaborn.ipynb) | [Contents and Acronyms](00.00-dvrg-Contents-and-Acronyms.ipynb) ]>"
   ]
  }
 ],
 "metadata": {
  "kernelspec": {
   "display_name": "Python 3",
   "language": "python",
   "name": "python3"
  },
  "language_info": {
   "codemirror_mode": {
    "name": "ipython",
    "version": 3
   },
   "file_extension": ".py",
   "mimetype": "text/x-python",
   "name": "python",
   "nbconvert_exporter": "python",
   "pygments_lexer": "ipython3",
   "version": "3.8.8"
  }
 },
 "nbformat": 4,
 "nbformat_minor": 5
}
