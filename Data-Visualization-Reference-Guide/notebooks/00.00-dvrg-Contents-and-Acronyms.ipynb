{
 "cells": [
  {
   "cell_type": "markdown",
   "id": "b19cd261-32c0-45a0-ba3e-c7adc3dca69d",
   "metadata": {},
   "source": [
    "# Data Visualization Reference Guide - For Beginners \n",
    "#### Book by *Balasubramanian Chandran*"
   ]
  },
  {
   "cell_type": "markdown",
   "id": "2c719ab6-4cd6-448d-a19a-31ba65ad28d8",
   "metadata": {},
   "source": [
    "<br>\n",
    "<img align=\"left\" style=\"padding-right:10px;\" src=\"figures/DVRG-Book-Cover.png\">"
   ]
  },
  {
   "cell_type": "markdown",
   "id": "a4defb0c-d7ff-4179-a753-27b28ed9f644",
   "metadata": {},
   "source": [
    "This is the Jupyter notebook version of the **`Data Visualization Reference Guide - For Beginners`** book written by *Balasubramanian Chandran*; the content is available [on GitHub](https://github.com/BalaChandranGH/Books/Data-Visualization-Reference-Guide)."
   ]
  },
  {
   "cell_type": "markdown",
   "id": "73c85874-9399-4d24-934e-5a62bfadcc4b",
   "metadata": {},
   "source": [
    "# Table of Contents"
   ]
  },
  {
   "cell_type": "markdown",
   "id": "79a9ff73-b3fc-41ec-817b-d81140a08b53",
   "metadata": {},
   "source": [
    "#### [0. Contents and Acronyms](00.00-dvrg-Contents-and-Acronyms.ipynb)\n",
    "#### [1. Introduction to Visualizations](01.00-dvrg-Introduction-to-Visualizations.ipynb)\n",
    "- What is data visualization?\n",
    "- Why do we build visuals?\n",
    "- Goals of data visualizations\n",
    "- Best practice in data visualizations\n",
    "- Qualitative vs Quantitative data\n",
    "- Rules for better visualization\n",
    "- Qualities of a great visualization\n",
    "- Visualization wheel\n",
    "- Edward Tufte’s graphical heuristics\n",
    "- Basic visualization tools\n",
    "- How to choose the right chart type for a visualization?\n",
    "- Similarities & differences between histograms and boxplots\n",
    "- Different types of charts/plots/graphs\n",
    "\n",
    "#### [2. Data Visualization with Matplotlib](02.00-dvrg-Data-Visualization-with-Matplotlib.ipynb)\n",
    "- Introduction\n",
    "- Python Data Visualization libraries\n",
    "- Introduction to Matplotlib\n",
    "- Displaying plots in Matplotlib\n",
    "- Matplotlib Object Hierarchy\n",
    "- Matplotlib API Overview\n",
    "- Pyplot API\n",
    "- Object-Oriented API\n",
    "- Figures and Subplots\n",
    "- First plot with Matplotlib\n",
    "- Multiline Plots\n",
    "- Parts of a Plot\n",
    "- Saving a Plot\n",
    "- Line Plot\n",
    "- Scatter Plot\n",
    "- Histogram\n",
    "- Bar Chart\n",
    "- Error Bar Chart\n",
    "- Stacked Bar Chart\n",
    "- Pie Chart\n",
    "- Boxplot\n",
    "- Area chart\n",
    "- Contour Plot\n",
    "- Styles with Matplotlib\n",
    "- Adding a Grid\n",
    "- Handling Axes\n",
    "- Handling X and Y ticks\n",
    "- Adding Axis Labels\n",
    "- Adding a Title\n",
    "- Adding a Legend\n",
    "- Controlling Colors\n",
    "- Controlling Line Styles\n",
    "\n",
    "#### [3. Data Visualization with Seaborn](03.00-dvrg-Data-Visualization-with-Seaborn.ipynb)\n",
    "- Introduction\n",
    "- Comparison of Seaborn with Matplotlib\n",
    "- Seaborn APIs\n",
    "  - Relational plots\n",
    "  - Categorical plots\n",
    "  - Distribution plots\n",
    "  - Regression plots\n",
    "  - Matrix plots\n",
    "  - Multi-plot grids\n",
    "- Seaborn Functionality\n",
    "- Set aesthetic parameters with the `set()` method\n",
    "- Seaborn Color Palette\n",
    "- Plotting Univariate Distribution with `distplot()`\n",
    "  - Seaborn – Histogram\n",
    "  - Seaborn – Kernel Density Estimation (KDE)\n",
    "- Plotting Bivariate distribution with `jontplot()`\n",
    "- Seaborn – `scatterplot()`\n",
    "- Visualizing Pairwise relationship with `pairplot()`\n",
    "- Plotting Categorical data\n",
    "  - Seaborn – `striplot()`\n",
    "  - Seaborn – `swarmplot()`\n",
    "- Distribution of Observations\n",
    "  - Seaborn – `boxplot()`\n",
    "  - Seaborn – `violinplot()`\n",
    "- Statistical estimation with Seaborn\n",
    "  - Seaborn – `barplot()`\n",
    "  - Seaborn – `pointplot()`\n",
    "- Linear relationships with Seaborn\n",
    "  - Seaborn – `regplot()`\n",
    "  - Seaborn – `lmplot()`\n",
    "  - Seaborn – `residplot()`\n",
    "- Matrix plots with Seaborn\n",
    "  - Seaborn – `heatmap()`\n",
    "  - Seaborn – `clustermap()`\n",
    "- Multi-plot grids with Seaborn\n",
    "  - Seaborn – `FacetGrid()`\n",
    "  - Seaborn – `PairGrid()`\n",
    "  - Seaborn – `JointGrid()`\n",
    "\n",
    "#### [4. References](04.00-dvrg-References.ipynb)"
   ]
  },
  {
   "cell_type": "markdown",
   "id": "e127e5c1-e360-4992-a2db-6b7a511cdd46",
   "metadata": {},
   "source": [
    "# Acronyms\n",
    "```\n",
    "API  - Application Programming Interface\n",
    "BMP  - Bitmap Image file\n",
    "DS   - Data Science\n",
    "DSPM - Data Science Project Management\n",
    "EDA  - Exploratory Data Analysis\n",
    "GIF  - Graphics Interchange Format\n",
    "JPG  - Joint Photographic Experts Group (aka JPEG)\n",
    "KDE  - Kernel Density Estimation \n",
    "ML   - Machine Learning\n",
    "PDF  - Portable Document Format\n",
    "PNG  - Portable Network Graphic\n",
    "SVG  - Scalable Vector Graphics\n",
    "```"
   ]
  }
 ],
 "metadata": {
  "kernelspec": {
   "display_name": "Python 3",
   "language": "python",
   "name": "python3"
  },
  "language_info": {
   "codemirror_mode": {
    "name": "ipython",
    "version": 3
   },
   "file_extension": ".py",
   "mimetype": "text/x-python",
   "name": "python",
   "nbconvert_exporter": "python",
   "pygments_lexer": "ipython3",
   "version": "3.8.8"
  }
 },
 "nbformat": 4,
 "nbformat_minor": 5
}
