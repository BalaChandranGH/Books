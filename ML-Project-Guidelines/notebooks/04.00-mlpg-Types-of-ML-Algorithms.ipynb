{
 "cells": [
  {
   "cell_type": "markdown",
   "id": "3038eab3-c04a-4541-89bd-a05e593d3d20",
   "metadata": {},
   "source": [
    "<!--BOOK_INFORMATION-->\n",
    "<img align=\"left\" style=\"padding-right:10px;\" src=\"figures/MLPG-Book-Cover-Small.png\"><br>\n",
    "\n",
    "This notebook contains an excerpt from the **`Machine Learning Project Guidelines - For Beginners`** book written by *Balasubramanian Chandran*; the content is available [on GitHub](https://github.com/BalaChandranGH/Books/ML-Project-Guidelines)."
   ]
  },
  {
   "cell_type": "markdown",
   "id": "e93e809e-adfb-4211-a25c-30990a6448a2",
   "metadata": {},
   "source": [
    "<br>\n",
    "<!--NAVIGATION-->\n",
    "\n",
    "<[ [Pros and Cons of ML Algorithms](03.00-mlpg-Pros-and-Cons-of-ML-Algorithms.ipynb) | [Contents and Acronyms](00.00-mlpg-Contents-and-Acronyms.ipynb) | [Machine Learning Project – Stages](05.00-mlpg-Machine-Learning-Project–Stages.ipynb) ]>"
   ]
  },
  {
   "cell_type": "markdown",
   "id": "c1dd2e07-d521-4268-8a2f-48e14054cf0b",
   "metadata": {},
   "source": [
    "# 4. Types of ML Algorithms"
   ]
  },
  {
   "cell_type": "markdown",
   "id": "793c4557-f049-481f-9d1b-2614a1943716",
   "metadata": {},
   "source": [
    "![](figures/MLPG-AlgorithmTypes.png)"
   ]
  },
  {
   "cell_type": "markdown",
   "id": "3e8c0152-8762-45c7-ab9d-d3ace6d8f27c",
   "metadata": {},
   "source": [
    "**Linear Discriminant Analysis (LDA)** is a predictive modeling algorithm for multi-class classification. It can also be used as a dimensionality reduction technique.\n",
    "\n",
    "**Types of Logistic Regression**: The logistic regression model can be classified into three groups based on the target variable categories. \n",
    "1. **Binary** Logistic Regression: The target variable has two possible categories. The common `examples` of categories are _`yes or no, good or bad, true or false, spam or not spam, and pass or fail`_.\n",
    "2. **Multinomial** Logistic Regression: The target variable has three or more categories that are not in any particular order. So, there are three or more nominal categories. The `examples` include the type of categories of fruits - _`apple, mango, orange, or banana`_.\n",
    "3. **Ordinal** Logistic Regression: The target variable has three or more ordinal categories. So, there is intrinsic order involved with the categories. For `example`, student performance can be categorized as _`poor, average, good, or excellent`_."
   ]
  },
  {
   "cell_type": "markdown",
   "id": "c441f2c0-b117-47ec-b690-052041212183",
   "metadata": {},
   "source": [
    "<!--NAVIGATION-->\n",
    "<br>\n",
    "\n",
    "<[ [Pros and Cons of ML Algorithms](03.00-mlpg-Pros-and-Cons-of-ML-Algorithms.ipynb) | [Contents and Acronyms](00.00-mlpg-Contents-and-Acronyms.ipynb) | [Machine Learning Project – Stages](05.00-mlpg-Machine-Learning-Project–Stages.ipynb) ]>"
   ]
  }
 ],
 "metadata": {
  "kernelspec": {
   "display_name": "Python 3",
   "language": "python",
   "name": "python3"
  },
  "language_info": {
   "codemirror_mode": {
    "name": "ipython",
    "version": 3
   },
   "file_extension": ".py",
   "mimetype": "text/x-python",
   "name": "python",
   "nbconvert_exporter": "python",
   "pygments_lexer": "ipython3",
   "version": "3.8.8"
  }
 },
 "nbformat": 4,
 "nbformat_minor": 5
}
