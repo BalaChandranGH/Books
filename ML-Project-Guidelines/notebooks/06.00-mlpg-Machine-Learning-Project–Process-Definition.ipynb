{
 "cells": [
  {
   "cell_type": "markdown",
   "id": "15fc1000-fff3-48d5-b3ff-2c9523d9bfb3",
   "metadata": {},
   "source": [
    "<!--BOOK_INFORMATION-->\n",
    "<img align=\"left\" style=\"padding-right:10px;\" src=\"figures/MLPG-Book-Cover-Small.png\"><br>\n",
    "\n",
    "This notebook contains an excerpt from the **`Machine Learning Project Guidelines - For Beginners`** book written by *Balasubramanian Chandran*; the content is available [on GitHub](https://github.com/BalaChandranGH/Books/ML-Project-Guidelines)."
   ]
  },
  {
   "cell_type": "markdown",
   "id": "618cac68-e54e-46e8-9dda-f54b0e14b6f0",
   "metadata": {},
   "source": [
    "<br>\n",
    "<!--NAVIGATION-->\n",
    "\n",
    "<[ [Machine Learning Project – Stages](05.00-mlpg-Machine-Learning-Project–Stages.ipynb) | [Contents and Acronyms](00.00-mlpg-Contents-and-Acronyms.ipynb) | [Stage-1: Business Understanding](07.00-mlpg-Stage-1-Business-Understanding.ipynb) ]>"
   ]
  },
  {
   "cell_type": "markdown",
   "id": "abd2849b-7eba-4e61-8035-8ed1654d568f",
   "metadata": {},
   "source": [
    "# 6. Machine Learning Project – Process Definition"
   ]
  },
  {
   "cell_type": "markdown",
   "id": "01e28b4a-bcfc-472b-a02e-4485de07c4b8",
   "metadata": {},
   "source": [
    "![](figures/MLPG-ProcessDefinition.png)"
   ]
  },
  {
   "cell_type": "markdown",
   "id": "1fe05da6-505a-4e34-8410-c74d47bf7c87",
   "metadata": {},
   "source": [
    "## 6.1. Machine Learning projects vs Data Science projects\n",
    "ML projects are part of DS projects; however, all data science projects need not use ML. The usage of ML in DS projects depends on the volume and the complexity of the data, and the type of problem it’s trying to solve. Most of today’s DS projects use ML to find answers to problems. In this section, it’s assumed that ML projects are part of DS projects and are not delivered as stand-alone projects. The ML team does not involve fully in all the stages of DSPM. ML projects center around EDA, data preprocessing, and modeling only while they are partially involved in other stages as well. It should be noted that if the ML team is expected to involve in all the stages of the DS project, then it becomes a DS project! With this in mind, a guideline has been given below on various stages of an ML project."
   ]
  },
  {
   "cell_type": "markdown",
   "id": "9a14092b-7b31-4657-8fea-f0aae1c9caf5",
   "metadata": {},
   "source": [
    "## 6.2. Role Definitions\n",
    "The roles mentioned in the “Machine Learning Project - Process Definition” and “Machine Learning Project – Stages” sections are indicative only. Depending on the size and the complexity of the projects, additional roles can be defined such as Data Architect, Data Analyst, Business Analyst, Business User, Project Lead, etc. If the size of the project/organization is small or the complexity is low, then the Data Scientist may play the unicorn role with the combined roles of ML Engineer, Data Engineer, Data Architect, Data Analyst, Project Manager, Project Lead & Solution Architect. Given below are the role definitions for a small to intermediate project size/complexity."
   ]
  },
  {
   "cell_type": "markdown",
   "id": "9ff8e503-4c33-4b54-8697-0ebd4a360cf8",
   "metadata": {},
   "source": [
    "**Project Manager:**\n",
    "* Lead the project from inception to a successful deployment\n",
    "* Project planning and execution, management of scope, budget, schedule, quality, communication, risk, and resource (people, h/w, s/w, etc.) \n",
    "* Produce project charter, training & monitoring plans, monitoring dashboard, project end report\n",
    "* Obtain business sign-off before deployment\n",
    "\n",
    "**Solution Architect:**\n",
    "* Produce End-to-End solution architecture\n",
    "* Develop data pipelines\n",
    "* Deploy the validated model and the developed data pipelines into production\n",
    "\n",
    "**Data Scientist:**\n",
    "* Clearly define the business problems \n",
    "* Convert business problems into analytical problems that the ML team can solve\n",
    "* Select the project methodology and lead the overall research stage\n",
    "* Select the evaluation metrics with reasons\n",
    "* Review the evaluation metrics produced by the ML Engineer at all stages and take actions\n",
    "* Involve in all the stages of the project and ensure the overall success of the project\n",
    "* Produce deployment plan\n",
    "\n",
    "**Data Engineer:**\n",
    "* Identify data sources and data environments\n",
    "* Collect raw datasets and their metadata\n",
    "* Produce raw data summary report\n",
    "* Perform Exploratory Data Analysis (EDA)\n",
    "* Produce an EDA report\n",
    "\n",
    "**ML Engineer:**\n",
    "* Perform data preprocessing activities such as data cleaning and formatting, data transformations, feature selection, feature engineering, and splitting datasets into train-test datasets\n",
    "* Produce preprocessed datasets and their metadata\n",
    "* Produce preprocessed data summary report\n",
    "* Develop, train, refine, evaluate, and select the final model\n",
    "* Produce evaluation metrics at all stages of the model development\n",
    "\n",
    "**Business Team:**\n",
    "* This team involves the business sponsor, business users, and business analysts\n",
    "* Identify business problems\n",
    "* Perform UAT (and A/B test) and validate the final model\n",
    "* Produce UAT (and A/B test) reports"
   ]
  },
  {
   "cell_type": "markdown",
   "id": "67cccfac-e88a-44a0-b48c-f97249417fdb",
   "metadata": {},
   "source": [
    "<!--NAVIGATION-->\n",
    "<br>\n",
    "\n",
    "<[ [Machine Learning Project – Stages](05.00-mlpg-Machine-Learning-Project–Stages.ipynb) | [Contents and Acronyms](00.00-mlpg-Contents-and-Acronyms.ipynb) | [Stage-1: Business Understanding](07.00-mlpg-Stage-1-Business-Understanding.ipynb) ]>"
   ]
  }
 ],
 "metadata": {
  "kernelspec": {
   "display_name": "Python 3",
   "language": "python",
   "name": "python3"
  },
  "language_info": {
   "codemirror_mode": {
    "name": "ipython",
    "version": 3
   },
   "file_extension": ".py",
   "mimetype": "text/x-python",
   "name": "python",
   "nbconvert_exporter": "python",
   "pygments_lexer": "ipython3",
   "version": "3.8.8"
  }
 },
 "nbformat": 4,
 "nbformat_minor": 5
}
