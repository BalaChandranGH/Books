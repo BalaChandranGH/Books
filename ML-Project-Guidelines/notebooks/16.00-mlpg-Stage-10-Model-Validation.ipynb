{
 "cells": [
  {
   "cell_type": "markdown",
   "id": "ed508ce6-f5ee-46f7-8f88-a20d52beea4d",
   "metadata": {},
   "source": [
    "<!--BOOK_INFORMATION-->\n",
    "<img align=\"left\" style=\"padding-right:10px;\" src=\"figures/MLPG-Book-Cover-Small.png\"><br>\n",
    "\n",
    "This notebook contains an excerpt from the **`Machine Learning Project Guidelines - For Beginners`** book written by *Balasubramanian Chandran*; the content is available [on GitHub](https://github.com/BalaChandranGH/Books/ML-Project-Guidelines)."
   ]
  },
  {
   "cell_type": "markdown",
   "id": "141f4f03-173e-4340-ac4e-4e01011a937a",
   "metadata": {},
   "source": [
    "<br>\n",
    "<!--NAVIGATION-->\n",
    "\n",
    "<[ [Stage-9: Final Model Selection](15.00-mlpg-Stage-9-Final-Model-Selection.ipynb) | [Contents and Acronyms](00.00-mlpg-Contents-and-Acronyms.ipynb) | [Stage-11: Model Deployment](17.00-mlpg-Stage-11-Model-Deployment.ipynb) ]>"
   ]
  },
  {
   "cell_type": "markdown",
   "id": "69b6ff79-46f8-42bd-8826-78d5b113edb7",
   "metadata": {},
   "source": [
    "# 16. Stage-10: Model Validation"
   ]
  },
  {
   "cell_type": "markdown",
   "id": "4cb477f6-2b8c-469b-9dbf-9d62ec490875",
   "metadata": {},
   "source": [
    "The business users perform the validations using the _`unseen UAT datasets`_.\n",
    "\n",
    "**NOTE:**\n",
    "* The Evaluation Metrics and Testing metrics should be the same"
   ]
  },
  {
   "cell_type": "markdown",
   "id": "3eaa1b69-a4c8-4bbf-bad2-1b159be68de2",
   "metadata": {},
   "source": [
    "## 16.1. Deliverables from Stage-10\n",
    "* Validated final model ready for production deployment\n",
    "* User Acceptance Test (UAT) report\n",
    "* A/B test report\n",
    "* Business sign-off"
   ]
  },
  {
   "cell_type": "markdown",
   "id": "8fb5ab75-0171-4696-be3d-8d97d2392500",
   "metadata": {},
   "source": [
    "## 16.2. Notebook development tips"
   ]
  },
  {
   "cell_type": "code",
   "execution_count": null,
   "id": "e3ab142a-dca5-4ab4-a607-2864ea990365",
   "metadata": {},
   "outputs": [],
   "source": [
    "###   MODEL VALIDATION   ###\n",
    "\n",
    "# Run the final model from Stage-9 with the unseen UAT data and generate final reports and visualization for presentation"
   ]
  },
  {
   "cell_type": "markdown",
   "id": "f64870ea-672d-45b1-ad07-cacbe5b19955",
   "metadata": {},
   "source": [
    "<!--NAVIGATION-->\n",
    "<br>\n",
    "\n",
    "<[ [Stage-9: Final Model Selection](15.00-mlpg-Stage-9-Final-Model-Selection.ipynb) | [Contents and Acronyms](00.00-mlpg-Contents-and-Acronyms.ipynb) | [Stage-11: Model Deployment](17.00-mlpg-Stage-11-Model-Deployment.ipynb) ]>"
   ]
  }
 ],
 "metadata": {
  "kernelspec": {
   "display_name": "Python 3",
   "language": "python",
   "name": "python3"
  },
  "language_info": {
   "codemirror_mode": {
    "name": "ipython",
    "version": 3
   },
   "file_extension": ".py",
   "mimetype": "text/x-python",
   "name": "python",
   "nbconvert_exporter": "python",
   "pygments_lexer": "ipython3",
   "version": "3.8.8"
  }
 },
 "nbformat": 4,
 "nbformat_minor": 5
}
