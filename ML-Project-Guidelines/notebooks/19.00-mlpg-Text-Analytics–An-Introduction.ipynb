{
 "cells": [
  {
   "cell_type": "markdown",
   "id": "f28168a5-e1b4-4a14-ad53-f1bb54e9de17",
   "metadata": {},
   "source": [
    "<!--BOOK_INFORMATION-->\n",
    "<img align=\"left\" style=\"padding-right:10px;\" src=\"figures/MLPG-Book-Cover-Small.png\"><br>\n",
    "\n",
    "This notebook contains an excerpt from the **`Machine Learning Project Guidelines - For Beginners`** book written by *Balasubramanian Chandran*; the content is available [on GitHub](https://github.com/BalaChandranGH/Books/ML-Project-Guidelines)."
   ]
  },
  {
   "cell_type": "markdown",
   "id": "03326189-6bb5-4b21-bd17-7f12bb311da7",
   "metadata": {},
   "source": [
    "<br>\n",
    "<!--NAVIGATION-->\n",
    "\n",
    "<[ [Other Considerations - Miscellaneous](18.15-mlpg-Other-Considerations-Miscellaneous.ipynb) | [Contents and Acronyms](00.00-mlpg-Contents-and-Acronyms.ipynb) | [Social Network Analysis – An Introduction](20.00-mlpg-Social-Network-Analysis–An-Introduction.ipynb) ]>"
   ]
  },
  {
   "cell_type": "markdown",
   "id": "1e9066ac-75f4-46af-952d-d48598ce00d4",
   "metadata": {},
   "source": [
    "# 19. Text Analytics – An Introduction"
   ]
  },
  {
   "cell_type": "markdown",
   "id": "4a70a28c-57fa-4b0f-b16d-5a183d4a0f06",
   "metadata": {},
   "source": [
    "## 19.1. What can be done with text data?\n",
    "* `Information Extraction`: Parse text and find/identify/extract relevant information from it\n",
    "* `Sentiment Analysis`: Is this movie review positive or negative?\n",
    "* `Topic Identification`: Is this news article about Politics, Sports, or Technology?\n",
    "* `Spam Detection`: Is this email spam or not?\n",
    "* `Spelling corrections`: Weather or Whether?    Color or Colour?"
   ]
  },
  {
   "cell_type": "markdown",
   "id": "187ffa6d-bb9a-4baa-888b-7e109fa8a26d",
   "metadata": {},
   "source": [
    "## 19.2. Basic functions to handle texts in Python\n",
    "Following are some of the basic text handling functions in Python.\n",
    "* Finding unique words:\n",
    "  - `set()` function\n",
    "* Word comparison functions:\n",
    "  - `s.startswith(t)`; `s.endswith(t)`\n",
    "  - `t in s`\n",
    "  - `s.isupper()`; `s.islower()`; `s.istitle()`\n",
    "  - `s.isalpha()`; `s.isdigit()`; `s.isalnum()`\n",
    "* String Operations:\n",
    "  - `s.lower()`; `s.upper()`; `s.titlecase()`\n",
    "  - `s.split(t)`; `s.splitlines()`\n",
    "  - `s.joint(t)`\n",
    "  - `s.strip()`; `s.rstrip()`\n",
    "  - `s.find(t)`; `s.rfind(t)`\n",
    "  - `s.replace(u, v)`\n",
    "* File Operations:\n",
    "  - `f = open(filename, mode)`\n",
    "  - `f.readline()`; `f.read()`; `f.read(n)`\n",
    "  - `for line in f: doSomething(line)`\n",
    "  - `f.seek(n)`\n",
    "  - `f.write(message)`\n",
    "  - `f.close()`\n",
    "  - `f.closed`"
   ]
  },
  {
   "cell_type": "markdown",
   "id": "1963f257-1434-4712-8c68-86fdfd266dd7",
   "metadata": {},
   "source": [
    "## 19.3. NLP and Basic NLTK tasks\n",
    "**Natural Language Processing (NLP):**\n",
    "* `Natural language`: Language used by humans for communication\n",
    "* `NLP` (Natural Language Processing): Any computation or manipulation of natural language\n",
    "* It’s a branch of AI that focuses on text and speech\n",
    "* NLP is a collective term referring to the automatic computational processing of human languages. This includes both algorithms that take human-produced text as input and algorithms that produce natural-looking text as outputs\n",
    "* Use-case examples:\n",
    "  - **`Sentiment analysis`**: Analyze how people feel about a business or product(s) of a business\n",
    "  - **`Monitoring system`**: Monitor the positive and negative comments about a company on social media\n",
    "  - **`Chatbots and Visual assistants`**: Can be used as a core to build chatbots and visual assistants\n",
    "  - **`Text extraction`**: This can be used to extract texts from documents"
   ]
  },
  {
   "cell_type": "markdown",
   "id": "96b7ec7e-f3be-4771-9064-6175993a3cb7",
   "metadata": {},
   "source": [
    "**Natural Language ToolKit (NLTK):**\n",
    "* An open-source library in Python which is a widely-used toolkit for text and NLP tasks\n",
    "* It gives access to many corpora and handy tools\n",
    "* Sentence splitting, tokenization, and lemmatization are important, non-trivial preprocessing tasks\n",
    "* Some of the simple NLTK tasks are:\n",
    "  - Count the number of words\n",
    "    - `len(t)`\n",
    "  - Count the number of unique words\n",
    "    - `len(set(t))`\n",
    "  - Frequency of words\n",
    "    - `len(FreqDist(t))`\n",
    "  - Return a list of the words in t, separating by `' '`\n",
    "    - `t.split(' ')`\n",
    "List comprehension examples:\n",
    "  - Words that are greater than 3 letters long in `t`\n",
    "    - `[w for w in t if len(w) > 3]`\n",
    "  - Capitalized words in t\n",
    "    - `[w for w in t if w.istitle()]`\n",
    "  - Words in t that end in 's'\n",
    "    - `[w for w in t if w.endswith('s')]`\n",
    "  - Finding hashtags example\n",
    "    - `[w for w in t if w.startswith('#')]`\n",
    "  - Finding callouts example\n",
    "    - `[w for w in t if w.startswith('@')]`\n",
    "  - Regular expression example\n",
    "    - `[w for w in t if re.search('@[A-Za-z0-9_]+', w)]`"
   ]
  },
  {
   "cell_type": "markdown",
   "id": "dce97f42-fa77-4e50-8351-0e842b7733ff",
   "metadata": {},
   "source": [
    "## 19.4. Components of NLP and the techniques used in NLP\n",
    "**NLP Components:**\n",
    "* NLP does not apply only to English; it works for other languages as well\n",
    "* Some of the examples where NLP is used are:\n",
    "  - Chatbots, Recommender systems, Sentiment analysis\n",
    "  - Cybersecurity (spam detection, etc)\n",
    "  - Voice assistant from Google\n",
    "  - Siri from Apple\n",
    "  - Alexa from Amazon\n",
    "* The components of NLP are:\n",
    "  1) **`NL Generation (NLG)`**: generates meaningful language using NLP\n",
    "  2) **`NL Understanding (NLU)`**: extracts the meaning of a language and it is more complex than NLG"
   ]
  },
  {
   "cell_type": "markdown",
   "id": "81b5e6dd-9dee-4889-ad09-8e83024f7205",
   "metadata": {},
   "source": [
    "**NLP techniques:**\n",
    "* **Tokenization:**\n",
    "  - Dividing a sentence into unique units and it’s the first step of NLP, for example:<br>\n",
    "    The lion killed the deer 🠊 `The` `lion` `killed` `the` `deer`"
   ]
  },
  {
   "cell_type": "markdown",
   "id": "0a6ff337-5036-48f5-91a2-43a2f3139715",
   "metadata": {},
   "source": [
    "* **Stemming:**\n",
    "  - The process of trimming down the words (prefixes & suffixes) to find their root words, for example:<br>\n",
    "    Careful 🠊 `Care`<br>\n",
    "    Doing 🠊 `Do`<br>\n",
    "    Helping 🠊 `Help`<br>\n",
    "    Unhappy 🠊 `happy`<br>\n",
    "  - Less accurate, less computational cost, fast"
   ]
  },
  {
   "cell_type": "markdown",
   "id": "807dd871-a237-4426-aa84-4a07e701daed",
   "metadata": {},
   "source": [
    "* **Lemmatization:**\n",
    "  - Finds the root word from different forms of the same word and unified the synonyms, for example:<br>\n",
    "    `Affected` 🠊 `affect`<br>\n",
    "    `Good` 🠊 `good`, `Better` 🠊 `good`, `Best` 🠊 `good`<br>\n",
    "    `Bad` 🠊 `bad`, `Worse` 🠊 `bad`, `Worst` 🠊 `bad`<br>\n",
    "  - More accurate, more computational cost, slow"
   ]
  },
  {
   "cell_type": "markdown",
   "id": "e29b944c-dd19-476c-ae3e-8b2c6faa5d06",
   "metadata": {},
   "source": [
    "* **Stop Word:**\n",
    "  - Words that have no or minimal value, for example:<br>\n",
    "    “`a`”, ”`an`”, “`the`”, “`.`”, “`,`”, “`;`”, “` `“"
   ]
  },
  {
   "cell_type": "markdown",
   "id": "103cc4db-e950-4259-a4d6-99ce4332b98b",
   "metadata": {},
   "source": [
    "* **POS (Parts Of Speech) tagging:**\n",
    "  - The process of tagging the parts of speech of the words of a particular sentence, for example:<br>\n",
    "    `The lion killed the deer` &emsp;&emsp;&nbsp; `lion`, `deer` 🠊 `noun`<br>\n",
    "    &nbsp; ↓ &emsp;&emsp; ↓ &emsp;&emsp; ↓ &emsp;&emsp; ↓ &emsp;&emsp; ↓ &emsp;&emsp;&emsp; `the`, `a`     🠊 `determinant`<br>\n",
    "    `DT` &nbsp;&nbsp; `NN` &nbsp;&nbsp; `VB` &nbsp;&nbsp;&nbsp; `DT` &nbsp;&nbsp;&nbsp; `NN`   &emsp;&emsp; `killed`     🠊 `verb`<br>"
   ]
  },
  {
   "cell_type": "markdown",
   "id": "f1e6282b-6099-4b39-b41d-75f7420f6626",
   "metadata": {},
   "source": [
    "* **Named Entity Recognition:**\n",
    "  - Classifies the noun of a sentence into different categories such as persons, organizations, locations, expressions of times, quantities, monetary values, percentages, etc., for example:<br>\n",
    "  `Bala joined Microsoft as a Manager at the Chicago branch`<br>\n",
    "  `Bala` 🠊 **`person`**, `Microsoft` 🠊 **`organization`**, `Chicago` 🠊 **`location`**"
   ]
  },
  {
   "cell_type": "markdown",
   "id": "4a011c54-b9dc-46ce-86b9-4d4ab4cc40ca",
   "metadata": {},
   "source": [
    "## 19.5. Differences between `Stemming` and `Lemmatization`\n",
    "* `Lemmatization` and `stemming` are special cases of **normalization** \n",
    "* They identify a canonical representative for a set of related word forms\n",
    "* `Lemmatization` is closely related to `stemming`, however, there are some differences\n",
    "* `Stemmer` operates on a single word **`without`** knowledge of the context\n",
    "* `Stemmer` cannot discriminate between words that have different meanings depending on the POS \n",
    "* Stemmers are typically easier to implement and run faster\n",
    "* When used within information retrieval systems, `stemming improves` query **`recall accuracy`**, or **`true positive rate`**, when compared to `lemmatization`, nonetheless, `stemming reduces` **`precision`**, or **`true negative rate`**, for such systems, for instance:\n",
    "  - The word \"better\" has \"good\" as its lemma. This link is missed by stemming, as it requires a dictionary look-up\n",
    "  - The word \"walk\" is the base form for the word \"walking\", and hence this is matched in both stemming and lemmatization\n",
    "  - The word \"meeting\" can be either the base form of a noun or a form of a verb (\"to meet\") depending on the context; e.g., \"in our last meeting\" or \"We are meeting again tomorrow\". Unlike stemming, lemmatization attempts to select the correct lemma depending on the context\n",
    "* A `stemmer` will return the stem of a word, which needn't be identical to the morphological root of the word. It is usually sufficient that related words map to the same stem, even if the stem is not in itself a valid root, while in `lemmatization`, it will return the dictionary form of a word, which must be valid\n",
    "* In `lemmatization`, the part of speech of a word should be first determined and the normalization rules will be different for a different part of speech, while the `stemmer` operates on a single word without knowledge of the context, and therefore cannot discriminate between words which have different meanings depending on part of speech\n",
    "* An example-driven explanation of the differences between lemmatization and stemming:\n",
    "  - `Lemmatization` handles matching “**car**” to “**cars**” along with matching “**car**” to “**automobile**”\n",
    "  - `Stemming` handles matching “**car**” to “**cars**” only\n",
    "* `Stemming` just removes or stems the last few characters of a word, often leading to incorrect meanings and spelling. `Lemmatization` considers the context and converts the word to its meaningful base form, which is called Lemma. Sometimes, the same word can have multiple different Lemmas. We should identify the Part of Speech (POS) tag for the word in that specific context. Here are the examples to illustrate all the differences and use cases:\n",
    "  - If you `lemmatize` the word '**Caring**', it would return '**Care**'. If you `stem`, it would return '**Car**' and this is erroneous\n",
    "  - If you `lemmatize` the word '**Stripes**' in `verb context`, it would return '**Strip**'. If you `lemmatize` it in `noun context`, it would return '**Stripe**'. If you just `stem` it, it would just return '**Strip**'\n",
    "  - You would get the same results whether you `lemmatize or stem` words such as **walking**, **running**, **swimming**... to **walk**, **run**, **swim**, etc.\n",
    "  - `Lemmatization` is _**computationally expensive**_ since it involves look-up tables and whatnot. \n",
    "    - If you have a `large dataset and performance is an issue`, go with **`Stemming`**. You can also add your rules to Stemming. \n",
    "    - If `accuracy is paramount and the dataset isn't humongous`, go with **`Lemmatization`**"
   ]
  },
  {
   "cell_type": "markdown",
   "id": "ec4c9682-af00-41e8-aa8e-b3b678cf8a1a",
   "metadata": {},
   "source": [
    "## 19.6. Information Extraction (IE)\n",
    "* Most of the world's data is in unstructured or semi-structured text, examples are:\n",
    "  - Social media analytics -> What are customers saying about my products? Is my marketing campaign successful?\n",
    "  - Machine log analysis -> Why is my server failing?\n",
    "  - Call center logs -> Why are customers leaving the company?\n",
    "  - Email analysis -> Which emails are related to a merger/financial trade?\n",
    "  - Financial services -> Automatically buy/sell shares based on news\n",
    "* **Information Extraction (IE)**: Distill structured data from unstructured and semi-structured text\n",
    "* **Goals of IE:**\n",
    "  - Enable humans to shift through information faster\n",
    "  - Enable the computer algorithms to exploit the text\n",
    "* **Streaming**: Continuous ingestion and continuous analysis of data (**`Note:`** `streaming is not real-time`)"
   ]
  },
  {
   "cell_type": "markdown",
   "id": "0774da7e-7fa1-4b2c-8de3-11d6a98c87bb",
   "metadata": {},
   "source": [
    "## 19.7. How does IE solve business problems?\n",
    "* **Named Entity Recognition (NER):**\n",
    "  - Extracts proper names of persons, organizations, places, and so on\n",
    "* **Relation Extraction:**\n",
    "  - Uncovers relationships between different entities mentioned in the text, for example, \n",
    "`the relationship between a company and the location where the company is headquartered at`\n",
    "* **Event Extraction:**\n",
    "  - Like Relation Extraction, Event Extraction finds the relation between the same entities, but it also implies a change of state, for example, `who beat whom in the Australian Open`\n",
    "* **Sentiment Extraction:**\n",
    "  - Extracts opinion towards a particular entity or a particular aspect of an entity, along with the polarity of that sentiment (`whether it is positive or negative`)\n",
    "* **Co-reference Resolution:**\n",
    "  - Attempts to link different references in the text to the same entity, for example, \n",
    "`Co-reference Resolution indicates that the pronoun ‘he’ refers to ‘President Obama’; \n",
    "‘the president’ also refers to ‘President Obama’; but ‘it’ refers to ‘Russia’.`\n",
    "* **Table Extraction:**\n",
    "  - A lot of information is available on the web and public records, in HTML format, that may or may not be formatted as tables. The Table Extraction associates apparent cells with table boundaries, titles, row and column headings, and so on"
   ]
  },
  {
   "cell_type": "markdown",
   "id": "ab47a532-38b5-4364-841e-87aa02d0730d",
   "metadata": {},
   "source": [
    "## 19.8. Challenges and requirements for IE\n",
    "* **Accuracy:**\n",
    "  - The quality of extracted information drives the quality of an entire application; an accurate system produces high-quality extraction results, with very few false positives and false negatives\n",
    "  - In practice, obtaining high accuracy for real-world data requires complex extraction programs that can express the nuances of human-readable data\n",
    "* **Usability:**\n",
    "  - The system should be easy to program; it shouldn’t take months of programming to get results\n",
    "  - Every extraction task and data set has its particular quirks, so usability is key to efficiently analyzing a particular data set or customer need\n",
    "* **Scalability:**\n",
    "  - Scalability requires that the system can turn unstructured text into structured data at a high rate with relatively modest computational resources\n",
    "  - Scalability determines whether our solution will be economical and practical\n",
    "* **Expressivity:**\n",
    "  - Expressivity means that the system can accurately capture the nuances of human-readable data, which is essential for high-quality analysis\n",
    "* **Transparency:**\n",
    "  - Transparency means that it’s easy to understand why the system produces a particular result and to change the behavior of the system if that result isn’t satisfactory"
   ]
  },
  {
   "cell_type": "markdown",
   "id": "386a46b6-d0cc-4d25-9255-0b297496808c",
   "metadata": {},
   "source": [
    "<!--NAVIGATION-->\n",
    "<br>\n",
    "\n",
    "<[ [Other Considerations - Miscellaneous](18.15-mlpg-Other-Considerations-Miscellaneous.ipynb) | [Contents and Acronyms](00.00-mlpg-Contents-and-Acronyms.ipynb) | [Social Network Analysis – An Introduction](20.00-mlpg-Social-Network-Analysis–An-Introduction.ipynb) ]>"
   ]
  }
 ],
 "metadata": {
  "kernelspec": {
   "display_name": "Python 3",
   "language": "python",
   "name": "python3"
  },
  "language_info": {
   "codemirror_mode": {
    "name": "ipython",
    "version": 3
   },
   "file_extension": ".py",
   "mimetype": "text/x-python",
   "name": "python",
   "nbconvert_exporter": "python",
   "pygments_lexer": "ipython3",
   "version": "3.8.8"
  }
 },
 "nbformat": 4,
 "nbformat_minor": 5
}
