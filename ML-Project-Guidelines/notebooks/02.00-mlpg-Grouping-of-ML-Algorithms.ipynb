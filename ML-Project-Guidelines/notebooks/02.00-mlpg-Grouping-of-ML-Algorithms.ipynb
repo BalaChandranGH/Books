{
 "cells": [
  {
   "cell_type": "markdown",
   "id": "4feda7d6-3aca-450e-8fc8-e3b771b64c86",
   "metadata": {},
   "source": [
    "<!--BOOK_INFORMATION-->\n",
    "<img align=\"left\" style=\"padding-right:10px;\" src=\"figures/MLPG-Book-Cover-Small.png\"><br>\n",
    "\n",
    "This notebook contains an excerpt from the **`Machine Learning Project Guidelines - For Beginners`** book written by *Balasubramanian Chandran*; the content is available [on GitHub](https://github.com/BalaChandranGH/Books/ML-Project-Guidelines)."
   ]
  },
  {
   "cell_type": "markdown",
   "id": "5e0d4ac7-2918-479a-a9a3-0d2038977bd5",
   "metadata": {},
   "source": [
    "<br>\n",
    "<!--NAVIGATION-->\n",
    "\n",
    "<[ [Introduction to Machine Learning](01.00-mlpg-Introduction-to-Machine-Learning.ipynb) | [Contents and Acronyms](00.00-mlpg-Contents-and-Acronyms.ipynb) | [Pros and Cons of ML Algorithms](03.00-mlpg-Pros-and-Cons-of-ML-Algorithms.ipynb) ]>"
   ]
  },
  {
   "cell_type": "markdown",
   "id": "a3d2c0b8-cc8e-4eb7-9e3f-96f789da7f1f",
   "metadata": {},
   "source": [
    "# 2. Grouping of ML Algorithms"
   ]
  },
  {
   "cell_type": "markdown",
   "id": "3d47ec62-12dc-43f1-82d3-a955268bb763",
   "metadata": {},
   "source": [
    "![](figures/MLPG-Groups.png)"
   ]
  },
  {
   "cell_type": "markdown",
   "id": "1e19e445-ac66-433e-8513-8320e6b70cff",
   "metadata": {},
   "source": [
    "<!--NAVIGATION-->\n",
    "<br>\n",
    "\n",
    "<[ [Introduction to Machine Learning](01.00-mlpg-Introduction-to-Machine-Learning.ipynb) | [Contents and Acronyms](00.00-mlpg-Contents-and-Acronyms.ipynb) | [Pros and Cons of ML Algorithms](03.00-mlpg-Pros-and-Cons-of-ML-Algorithms.ipynb) ]>"
   ]
  }
 ],
 "metadata": {
  "kernelspec": {
   "display_name": "Python 3",
   "language": "python",
   "name": "python3"
  },
  "language_info": {
   "codemirror_mode": {
    "name": "ipython",
    "version": 3
   },
   "file_extension": ".py",
   "mimetype": "text/x-python",
   "name": "python",
   "nbconvert_exporter": "python",
   "pygments_lexer": "ipython3",
   "version": "3.8.8"
  }
 },
 "nbformat": 4,
 "nbformat_minor": 5
}
