{
 "cells": [
  {
   "cell_type": "markdown",
   "id": "dec59611-ce19-459a-b55a-61b0557e8f3a",
   "metadata": {},
   "source": [
    "<!--BOOK_INFORMATION-->\n",
    "<img align=\"left\" style=\"padding-right:10px;\" src=\"figures/MLPG-Book-Cover-Small.png\"><br>\n",
    "\n",
    "This notebook contains an excerpt from the **`Machine Learning Project Guidelines - For Beginners`** book written by *Balasubramanian Chandran*; the content is available [on GitHub](https://github.com/BalaChandranGH/Books/ML-Project-Guidelines)."
   ]
  },
  {
   "cell_type": "markdown",
   "id": "02d32411-5745-499e-81aa-958795792573",
   "metadata": {},
   "source": [
    "<br>\n",
    "<!--NAVIGATION-->\n",
    "\n",
    "<[ [Types of ML Algorithms](04.00-mlpg-Types-of-ML-Algorithms.ipynb) | [Contents and Acronyms](00.00-mlpg-Contents-and-Acronyms.ipynb) | [Machine Learning Project – Process Definition](06.00-mlpg-Machine-Learning-Project–Process-Definition.ipynb) ]>"
   ]
  },
  {
   "cell_type": "markdown",
   "id": "76840306-21ac-4193-8135-a60e80f376e9",
   "metadata": {},
   "source": [
    "# 5. Machine Learning Project – Stages"
   ]
  },
  {
   "cell_type": "markdown",
   "id": "00f1e84c-81c5-4e93-a28c-53909ebc6405",
   "metadata": {},
   "source": [
    "![](figures/MLPG-Stages.png)"
   ]
  },
  {
   "cell_type": "markdown",
   "id": "45a5906a-e2eb-42fd-a973-da29ce2f85b2",
   "metadata": {},
   "source": [
    "<!--NAVIGATION-->\n",
    "<br>\n",
    "\n",
    "<[ [Types of ML Algorithms](04.00-mlpg-Types-of-ML-Algorithms.ipynb) | [Contents and Acronyms](00.00-mlpg-Contents-and-Acronyms.ipynb) | [Machine Learning Project – Process Definition](06.00-mlpg-Machine-Learning-Project–Process-Definition.ipynb) ]>"
   ]
  }
 ],
 "metadata": {
  "kernelspec": {
   "display_name": "Python 3",
   "language": "python",
   "name": "python3"
  },
  "language_info": {
   "codemirror_mode": {
    "name": "ipython",
    "version": 3
   },
   "file_extension": ".py",
   "mimetype": "text/x-python",
   "name": "python",
   "nbconvert_exporter": "python",
   "pygments_lexer": "ipython3",
   "version": "3.8.8"
  }
 },
 "nbformat": 4,
 "nbformat_minor": 5
}
