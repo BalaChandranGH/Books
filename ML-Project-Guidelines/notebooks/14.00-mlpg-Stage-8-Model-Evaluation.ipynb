{
 "cells": [
  {
   "cell_type": "markdown",
   "id": "2adbdb40-e957-41ee-878b-31e23445f2d2",
   "metadata": {},
   "source": [
    "<!--BOOK_INFORMATION-->\n",
    "<img align=\"left\" style=\"padding-right:10px;\" src=\"figures/MLPG-Book-Cover-Small.png\"><br>\n",
    "\n",
    "This notebook contains an excerpt from the **`Machine Learning Project Guidelines - For Beginners`** book written by *Balasubramanian Chandran*; the content is available [on GitHub](https://github.com/BalaChandranGH/Books/ML-Project-Guidelines)."
   ]
  },
  {
   "cell_type": "markdown",
   "id": "f55782d3-b7f8-4854-9631-da0d8e621dc3",
   "metadata": {},
   "source": [
    "<br>\n",
    "<!--NAVIGATION-->\n",
    "\n",
    "<[ [Stage-7: Model Refinement](13.00-mlpg-Stage-7-Model-Refinement.ipynb) | [Contents and Acronyms](00.00-mlpg-Contents-and-Acronyms.ipynb) | [Stage-9: Final Model Selection](15.00-mlpg-Stage-9-Final-Model-Selection.ipynb) ]>"
   ]
  },
  {
   "cell_type": "markdown",
   "id": "4549b9ac-3e31-455b-b2a2-051d3e7f752a",
   "metadata": {},
   "source": [
    "# 14. Stage-8: Model Evaluation"
   ]
  },
  {
   "cell_type": "markdown",
   "id": "389a2c12-190d-41ca-8770-c34c634f35dc",
   "metadata": {},
   "source": [
    "ML team owns full responsibility for this stage. During this stage, the models trained using _`Test datasets`_ are evaluated by comparing the Evaluation metrics generated for each model (eg., Accuracy score).\n",
    "\n",
    "**NOTE:**\n",
    "* The _`Evaluation Metrics`_ should be the same across all stages so that the comparisons can be made and models can be selected\n",
    "* One way to compare the models is to generate bar charts with Accuracy/ROC-AUC/CV scores"
   ]
  },
  {
   "cell_type": "markdown",
   "id": "6d548c64-af5e-423a-b103-a3314dcf11a5",
   "metadata": {},
   "source": [
    "## 14.1. Deliverables from Stage-8\n",
    "* Evaluated models ready for final selection\n",
    "* Evaluation Metrics"
   ]
  },
  {
   "cell_type": "markdown",
   "id": "fd304271-ac23-4d95-b34a-114579735675",
   "metadata": {},
   "source": [
    "## 14.2. Notebook development tips"
   ]
  },
  {
   "cell_type": "raw",
   "id": "f1fb4656-81b9-4813-b995-13493f33f386",
   "metadata": {},
   "source": [
    "###   MODEL EVALUATION   ###\n",
    "\n",
    "# Evaluate the selected models with the test datasets & evaluation metrics"
   ]
  },
  {
   "cell_type": "markdown",
   "id": "ff925158-71ef-432c-962a-fdd9efa12c3b",
   "metadata": {},
   "source": [
    "<!--NAVIGATION-->\n",
    "<br>\n",
    "\n",
    "<[ [Stage-7: Model Refinement](13.00-mlpg-Stage-7-Model-Refinement.ipynb) | [Contents and Acronyms](00.00-mlpg-Contents-and-Acronyms.ipynb) | [Stage-9: Final Model Selection](15.00-mlpg-Stage-9-Final-Model-Selection.ipynb) ]>"
   ]
  }
 ],
 "metadata": {
  "kernelspec": {
   "display_name": "Python 3",
   "language": "python",
   "name": "python3"
  },
  "language_info": {
   "codemirror_mode": {
    "name": "ipython",
    "version": 3
   },
   "file_extension": ".py",
   "mimetype": "text/x-python",
   "name": "python",
   "nbconvert_exporter": "python",
   "pygments_lexer": "ipython3",
   "version": "3.8.8"
  }
 },
 "nbformat": 4,
 "nbformat_minor": 5
}
