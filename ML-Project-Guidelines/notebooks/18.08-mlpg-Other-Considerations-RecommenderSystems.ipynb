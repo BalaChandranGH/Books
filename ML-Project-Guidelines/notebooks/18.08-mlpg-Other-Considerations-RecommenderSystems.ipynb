{
 "cells": [
  {
   "cell_type": "markdown",
   "id": "ea37f1e9-0964-4664-8baa-9ea769293046",
   "metadata": {},
   "source": [
    "<!--BOOK_INFORMATION-->\n",
    "<img align=\"left\" style=\"padding-right:10px;\" src=\"figures/MLPG-Book-Cover-Small.png\"><br>\n",
    "\n",
    "This notebook contains an excerpt from the **`Machine Learning Project Guidelines - For Beginners`** book written by *Balasubramanian Chandran*; the content is available [on GitHub](https://github.com/BalaChandranGH/Books/ML-Project-Guidelines)."
   ]
  },
  {
   "cell_type": "markdown",
   "id": "85bf890f-47ac-4b5d-9860-f79b6c1812fc",
   "metadata": {},
   "source": [
    "<br>\n",
    "<!--NAVIGATION-->\n",
    "\n",
    "<[ [Other Considerations - Anomaly Detection](18.07-mlpg-Other-Considerations-Anomaly-Detection.ipynb) | [Contents and Acronyms](00.00-mlpg-Contents-and-Acronyms.ipynb) | [Other Considerations - Neural Networks](18.09-mlpg-Other-Considerations-Neural-Networks.ipynb) ]>"
   ]
  },
  {
   "cell_type": "markdown",
   "id": "8c68152e-edd3-498d-b47a-3e7c07815d5f",
   "metadata": {},
   "source": [
    "# 18. Other Considerations"
   ]
  },
  {
   "cell_type": "markdown",
   "id": "20ab4728-7118-46b8-ac24-12a47cd11038",
   "metadata": {},
   "source": [
    "## 18.8. Recommender Systems"
   ]
  },
  {
   "cell_type": "markdown",
   "id": "19710fdb-49c9-4326-a41c-5ca7125f2c5d",
   "metadata": {},
   "source": [
    "### 18.8.1. Recommender Systems: Types, Pros & Cons, and Evaluation Metrics\n",
    "**Recommender System:**\n",
    "* A Recommender System is a process that seeks to predict user preferences\n",
    "* A recommendation system is a subclass of information filtering systems that seeks to predict the rating or the preference a user might give to an item\n",
    "* Simply, it is an algorithm that suggests relevant items to users\n",
    "* A recommendation engine filters the data using different algorithms and recommends the most relevant items to users. It first captures the past behavior of a customer and based on that, recommends products that the users might be likely to buy\n",
    "* The most common type of predictive modeling\n",
    "* Recommendation systems are so powerful because they can propel revenue and profits for a company in which its users have to make **choices** and there are **a lot of options to choose from**\n",
    "* They provide the basis for recommendations on services such as Amazon, Spotify, YouTube, etc.\n",
    "* One can develop an effective recommender system using [matrix factorization](https://machinelearningmastery.com/introduction-to-matrix-decompositions-for-machine-learning/) methods ([SVD](https://machinelearningmastery.com/singular-value-decomposition-for-machine-learning/)) or even a straightforward k-nearest neighbors model by items or by users\n",
    "* Finding people with similar interests, analyze their behavior, and recommend to the new user the same items, or we can look at the items similar to ones which the user bought earlier, and recommend products that are like them\n",
    "* Recommendation problems can be `supervised` (classification) or `unsupervised` (clustering)\n",
    "* Some of the available algorithms: Collaborative Filtering (CF), clustering, and deep learning approaches \n",
    "* Evaluation metrics for recommendation engines are Recall, Precision, RMSE, MRR (Mean Reciprocal Rank), MAP at K (Mean Average Precision at cutoff k), NDCG (Normalized Discounted Cumulative Gain)"
   ]
  },
  {
   "cell_type": "markdown",
   "id": "80b64487-13e9-48b6-a101-2ce34376c699",
   "metadata": {},
   "source": [
    "**Use-cases of a Recommender System:**\n",
    "* Some common use-cases are:\n",
    "  - **Personalized Content**: Helps to Improve the on-site experience by creating dynamic recommendations for different kinds of audiences like Netflix does\n",
    "  - **Better Product search experience**: Helps to categorize the product based on their features. Eg: Material, Season, etc."
   ]
  },
  {
   "cell_type": "markdown",
   "id": "4811bb21-3dae-40bb-91fe-cea57b916a21",
   "metadata": {},
   "source": [
    "**Types of Recommender System:**\n",
    "* There are 2 types of recommender systems and they are:\n",
    "  - Content-based filtering\n",
    "  - Collaborative filtering\n",
    "    - User-based Collaborative filtering\n",
    "    - Item-based Collaborative filtering"
   ]
  },
  {
   "cell_type": "markdown",
   "id": "330119ff-98ef-4cbd-a9a0-0c4252fa5026",
   "metadata": {},
   "source": [
    "**1) Content-based filtering**\n",
    "* Relevant items are shown using the content of the previously searched items by the users\n",
    "* Here content refers to the attribute/tag of the product that the user likes\n",
    "* The products are tagged using certain keywords \n",
    "* Examples of tags:\n",
    "  - Genre (action, romance, anime, etc.)\n",
    "  - Rating (1, 2, 3, 4, 5)"
   ]
  },
  {
   "cell_type": "markdown",
   "id": "0078eb02-7412-41f3-93cf-d5ea0c01fad4",
   "metadata": {},
   "source": [
    "**2) Collaborative filtering**\n",
    "* Recommending the new items to users based on the interest and preference of other similar users\n",
    "* This overcomes the disadvantage of content-based filtering as it uses the user interactions instead of content from the items used by the users\n",
    "* For this, it only needs the historical performance of the users, based on the historical data, with the assumption that user who has agreed in the past tends to also agree in future\n",
    "* Examples:<br>\n",
    "![](figures/MLPG-OC-CollaborativeFiltering1.png)"
   ]
  },
  {
   "cell_type": "markdown",
   "id": "0f234057-594b-4c70-b0d3-d58ab3b3c04b",
   "metadata": {},
   "source": [
    "**2.1) User-based Collaborative filtering**\n",
    "* The rating of the item is predicted using the rating of neighboring users, in simple words, it is based on the notion of the `users’ similarity`\n",
    "* Example: \n",
    "  - A purchased all 4 fruits, B purchased only Strawberry, and C purchased Strawberry and Watermelon\n",
    "  - Here A & C are similar kinds of users, hence C will be recommended Grapes and Orange as shown in the dotted line"
   ]
  },
  {
   "cell_type": "markdown",
   "id": "dee2d416-74d7-42b0-a2bd-c3a5b27d95ad",
   "metadata": {},
   "source": [
    "**2.2) Item-based Collaborative filtering**\n",
    "* The rating of the item is predicted using the user’s own rating on neighboring items, in simple words, it is based on the notion of the `item’s similarity`\n",
    "* Here the only difference is that we see similar items, not similar users\n",
    "* Example: \n",
    "  - Watermelon is purchased by all 3 of them but Grapes are purchased by A & B, hence C is recommended Grapes as shown in the dotted line"
   ]
  },
  {
   "cell_type": "markdown",
   "id": "8b0d465e-bcf8-4f29-964a-f29ace169949",
   "metadata": {},
   "source": [
    "![](figures/MLPG-OC-CollaborativeFiltering2.png) <br>\n",
    "![](figures/MLPG-OC-CollaborativeFiltering3.png) ![](figures/MLPG-OC-CollaborativeFiltering4.png)<br>\n",
    "&emsp;&emsp;&emsp;&emsp;&emsp;&emsp;&emsp;&emsp;&emsp;&emsp;&emsp;&emsp;&emsp;&emsp;&emsp; Images credit: [ (Source) ](https://www.analyticsvidhya.com/blog/2021/07/recommendation-system-understanding-the-basic-concepts/)"
   ]
  },
  {
   "cell_type": "markdown",
   "id": "8d0d64aa-e0e6-45cb-b56d-47304d0d4553",
   "metadata": {},
   "source": [
    "**Pros and Cons of Recommender Systems:**\n",
    "![](figures/MLPG-OC-ProsConsRecSystems.png)"
   ]
  },
  {
   "cell_type": "markdown",
   "id": "b053b606-03ca-477a-8163-aeab24364253",
   "metadata": {},
   "source": [
    "**Evaluation Metrics for Recommender Systems:**\n",
    "There are several metrics available and the common ones are:\n",
    "* `Mean Average Precision at` **`K`**\n",
    "  - It gives how much relevant is the list of recommended items\n",
    "  - Here precision at **K** means the recommended items in top **K** sets that are relevant\n",
    "* `Coverage `\n",
    "  - It is the percentage of items in the training data that the model can predict in test sets\n",
    "* `Personalization`\n",
    "  - It is basically how many same items the model recommends to different users, which means, the dissimilarity between user's lists and recommendations\n",
    "* `Intralist Similarity`\n",
    "  - It is an average cosine similarity of all items in a list of recommendations"
   ]
  },
  {
   "cell_type": "markdown",
   "id": "434f52be-8e8e-4c34-9f96-6946adbfba7b",
   "metadata": {},
   "source": [
    "<!--NAVIGATION-->\n",
    "<br>\n",
    "\n",
    "<[ [Other Considerations - Anomaly Detection](18.07-mlpg-Other-Considerations-Anomaly-Detection.ipynb) | [Contents and Acronyms](00.00-mlpg-Contents-and-Acronyms.ipynb) | [Other Considerations - Neural Networks](18.09-mlpg-Other-Considerations-Neural-Networks.ipynb) ]>"
   ]
  }
 ],
 "metadata": {
  "kernelspec": {
   "display_name": "Python 3",
   "language": "python",
   "name": "python3"
  },
  "language_info": {
   "codemirror_mode": {
    "name": "ipython",
    "version": 3
   },
   "file_extension": ".py",
   "mimetype": "text/x-python",
   "name": "python",
   "nbconvert_exporter": "python",
   "pygments_lexer": "ipython3",
   "version": "3.8.8"
  }
 },
 "nbformat": 4,
 "nbformat_minor": 5
}
