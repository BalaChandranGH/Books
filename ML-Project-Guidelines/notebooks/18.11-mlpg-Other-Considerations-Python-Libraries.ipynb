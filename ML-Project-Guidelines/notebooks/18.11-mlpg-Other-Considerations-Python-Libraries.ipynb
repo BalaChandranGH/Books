{
 "cells": [
  {
   "cell_type": "markdown",
   "id": "33f47d74-17a1-415a-80c6-d0fe6293b419",
   "metadata": {},
   "source": [
    "<!--BOOK_INFORMATION-->\n",
    "<img align=\"left\" style=\"padding-right:10px;\" src=\"figures/MLPG-Book-Cover-Small.png\"><br>\n",
    "\n",
    "This notebook contains an excerpt from the **`Machine Learning Project Guidelines - For Beginners`** book written by *Balasubramanian Chandran*; the content is available [on GitHub](https://github.com/BalaChandranGH/Books/ML-Project-Guidelines)."
   ]
  },
  {
   "cell_type": "markdown",
   "id": "242b9481-460e-4efd-8ec2-e8f0c9a70e50",
   "metadata": {},
   "source": [
    "<br>\n",
    "<!--NAVIGATION-->\n",
    "\n",
    "<[ [Other Considerations - Databases](18.10-mlpg-Other-Considerations-Databases.ipynb) | [Contents and Acronyms](00.00-mlpg-Contents-and-Acronyms.ipynb) | [Other Considerations - Testing](18.12-mlpg-Other-Considerations-Testing.ipynb) ]>"
   ]
  },
  {
   "cell_type": "markdown",
   "id": "4de9cf15-7dac-4dbf-b33e-cdfb78cb84f6",
   "metadata": {},
   "source": [
    "# 18. Other Considerations"
   ]
  },
  {
   "cell_type": "markdown",
   "id": "26985db7-13d9-48e9-a232-bd2052420226",
   "metadata": {},
   "source": [
    "## 18.11. Python Libraries"
   ]
  },
  {
   "cell_type": "markdown",
   "id": "fe11626d-4654-4f54-b646-fe0daff754de",
   "metadata": {},
   "source": [
    "### 18.11.1. PyCaret library\n",
    "* PyCaret is a Python version of the popular and widely used caret machine learning package in R\n",
    "* The goal of the caret package is to automate the major steps for evaluating and comparing machine learning algorithms for classification and regression. The main benefit of the library is that a lot can be achieved with very few lines of code and little manual configuration. The PyCaret library brings these capabilities to Python\n",
    "* It is well suited for seasoned data scientists who want to increase the productivity of their ML experiments by using PyCaret in their workflows or for citizen data scientists and those new to data science with little or no background in coding"
   ]
  },
  {
   "cell_type": "markdown",
   "id": "ab3db051-3fea-4463-994a-5abb40c2d34b",
   "metadata": {},
   "source": [
    "**PyCaret for Comparing Machine Learning Models (Example given below):**\n",
    "![](figures/MLPG-OC-PyCaret1.png)"
   ]
  },
  {
   "cell_type": "markdown",
   "id": "6ac94e4f-6908-4aa3-9f71-9ab250036940",
   "metadata": {},
   "source": [
    "**Tuning Machine Learning Models (Example given below):**\n",
    "![](figures/MLPG-OC-PyCaret2.png)<br>\n",
    "&emsp;&emsp;&emsp;&emsp;&emsp;&emsp;&emsp;&emsp;&emsp;&emsp;&emsp;&emsp;&emsp;&emsp;&emsp;&emsp;&emsp;&emsp;&emsp; Images credit [ (Source) ](https://machinelearningmastery.com/pycaret-for-machine-learning/)"
   ]
  },
  {
   "cell_type": "markdown",
   "id": "9cb43b57-41bc-405e-b0ce-95704c499507",
   "metadata": {},
   "source": [
    "### 18.11.2. Python packages for ML & Data Science – A must-know\n",
    "Top 24 Python packages that are most commonly used in Data Science, Data Engineering, and ML projects."
   ]
  },
  {
   "cell_type": "markdown",
   "id": "3b4601a5-f0ef-4440-9563-a9186aaa541f",
   "metadata": {},
   "source": [
    "#### `18.11.2.1. Data processing, analysis, and manipulation packages`\n",
    "#### 18.11.2.1.1. **`Numpy`**\n",
    "* Fundamental package for scientific computing\n",
    "* Powerful N-dimensional arrays\n",
    "  - Fast, versatile, vectorization, indexing, broadcasting, etc.\n",
    "* Numerical computing tools\n",
    "  - Offers comprehensive mathematical functions, random number generators, linear algebra routines, basic linear algebra, basic statistical operations, selecting, sorting, I/O, data transforms, data manipulation, and more\n",
    "* Interoperable \n",
    "  - Supports a wide range of hardware and computing platforms, and plays well with distributed, GPU, and sparse array libraries\n",
    "* Performance \n",
    "  - The core of NumPy is well-optimized C code that runs very fast\n",
    "* Easy to use\n",
    "  - The high-level syntax makes it accessible and productive for programmers from any background or experience level\n",
    "* Open-source\n",
    "  - Developed and maintained [publicly on GitHub](https://github.com/numpy/numpy) by a vibrant, responsive, and diverse [community](https://numpy.org/community)"
   ]
  },
  {
   "cell_type": "markdown",
   "id": "1aa67f35-fd0b-4108-86cd-cf08523d4fba",
   "metadata": {},
   "source": [
    "#### 18.11.2.1.2. **`Pandas`**\n",
    "* An open-source, fast, powerful, flexible, and easy to use data analysis and manipulation tool,\n",
    "built on top of the Python programming language\n",
    "* It offers data structures and operations for manipulating numerical tables and time-series data\n",
    "* It provides some of the most useful set of tools to explore, clean, and analyze data\n",
    "* With Pandas, you can load, prepare, manipulate, and analyze all kinds of structured data\n",
    "* ML libraries also revolve around Pandas DataFrames as an input"
   ]
  },
  {
   "cell_type": "markdown",
   "id": "7005872f-7b98-4961-a7f2-51e53879375d",
   "metadata": {},
   "source": [
    "#### 18.11.2.1.3. **`SciPy`**\n",
    "* An open-source library and is one of the core packages that make up the SciPy stack/eco-system\n",
    "* It provides many user-friendly and efficient numerical routines, such as routines for numerical integration, interpolation, optimization, linear algebra, and statistics\n",
    "* SciPy is mainly used for its scientific functions and mathematical functions derived from NumPy\n",
    "* Some useful functions that this library provides are stats functions, optimization functions, and signal processing functions"
   ]
  },
  {
   "cell_type": "markdown",
   "id": "eb8352e8-1c32-4807-af27-225f264abc9b",
   "metadata": {},
   "source": [
    "#### 18.11.2.1.4. **`Statesmodels`** module\n",
    "* A Python module that provides classes and functions for the estimation of many different statistical models, as well as for conducting statistical tests, and statistical data exploration\n",
    "* It is a great library for doing hardcore statistics\n",
    "* This multifunctional library is a blend of different Python libraries, taking its graphical features and functions from Matplotlib, for data handling, it uses Pandas, for handling R-like formulas, it uses Pasty, and is built on NumPy and SciPy\n",
    "* Specifically, it’s useful for creating stats models, like OLS, and also for performing statistical tests"
   ]
  },
  {
   "cell_type": "markdown",
   "id": "e0b2183a-51fc-4f15-8456-48af57e43693",
   "metadata": {},
   "source": [
    "#### 18.11.2.1.5. **`Python-dateutil`** module\n",
    "* A module that provides powerful extensions to the standard datetime module, available in Python\n",
    "* Most importantly it handles the time zone issues "
   ]
  },
  {
   "cell_type": "markdown",
   "id": "ea845515-4b33-4f91-b60a-10e503ef6f0d",
   "metadata": {},
   "source": [
    "#### `18.11.2.2. Visualization packages`"
   ]
  },
  {
   "cell_type": "markdown",
   "id": "c4f1f802-b1d1-4ae0-8eb8-7d9c34813db4",
   "metadata": {},
   "source": [
    "#### 18.11.2.2.1. **`Matplotlib`**\n",
    "* An open-source comprehensive library for creating static, animated, and interactive visualizations "
   ]
  },
  {
   "cell_type": "markdown",
   "id": "a97dcc1e-e9b8-4c13-bc04-338ab141f7f0",
   "metadata": {},
   "source": [
    "#### 18.11.2.2.2. **`Seaborn`**\n",
    "* An open-source Python data visualization library, for making statistical graphics in Python, built on top of matplotlib and integrates closely with Pandas data structures\n",
    "* One of the most important features of Seaborn is the creation of amplified data visuals. Some of the correlations that are not obvious initially can be displayed in a visual context, allowing Data Scientists to understand the models more properly"
   ]
  },
  {
   "cell_type": "markdown",
   "id": "ad7e1d44-8752-47b3-8753-30e2df6c7bea",
   "metadata": {},
   "source": [
    "#### 18.11.2.2.3. **`Plotly`**\n",
    "* An open-Source Python Graphing Library makes interactive, publication-quality graphs\n",
    "* Supports over 40 unique chart types covering a wide range of statistical, financial, geographic, scientific, and 3-dimensional use-cases\n",
    "* A must-know tool for building visualizations since it is extremely powerful, easy to use, and has a big benefit of being able to interact with the visualizations"
   ]
  },
  {
   "cell_type": "markdown",
   "id": "edae2c42-67ab-4869-af8a-719ae1b13bf4",
   "metadata": {},
   "source": [
    "#### `18.11.2.3. Machine Learning packages`"
   ]
  },
  {
   "cell_type": "markdown",
   "id": "60ee35b3-f1a6-45f6-af5d-7e40103b4746",
   "metadata": {},
   "source": [
    "#### 18.11.2.3.1. **`Scikit-Learn`**\n",
    "* An open-source ML library for Python and arguably the most important library for ML\n",
    "* Simple and efficient tools for predictive data analysis\n",
    "* Built on NumPy, SciPy, and Matplotlib\n",
    "* Used to build ML models as it has lots of tools for predictive modeling and analysis"
   ]
  },
  {
   "cell_type": "markdown",
   "id": "36498b76-c3b3-44be-afe0-63f3c46416f7",
   "metadata": {},
   "source": [
    "#### 18.11.2.3.2. **`XGBoost`**\n",
    "* An open-source optimized distributed gradient boosting library designed to be highly efficient, flexible, and portable\n",
    "* Implements ML algorithms under the Gradient Boosting framework\n",
    "* Provides a parallel tree boosting (also known as GBDT, GBM) that solves many data science problems in a fast and accurate way\n",
    "* The same code runs on the major distributed environment (Hadoop, SGE, MPI) and can solve problems beyond billions of examples\n",
    "* One of the most popular ML algorithms for any type of prediction task at hand; regression or classification\n",
    "* It is a well-known to provide better solutions than other ML algorithms and it has become the \"state-of-the-art” ML algorithm to deal with structured data"
   ]
  },
  {
   "cell_type": "markdown",
   "id": "72bc8db6-31d1-4f03-9a5e-3f57a2d8813b",
   "metadata": {},
   "source": [
    "#### `18.11.2.4. Text processing/Natural Language Processing packages`"
   ]
  },
  {
   "cell_type": "markdown",
   "id": "45c064b4-9c22-42e7-8699-f6a933959e86",
   "metadata": {},
   "source": [
    "#### 18.11.2.4.1. **`NLTK`** (Natural Language Toolkit)\n",
    "* An open-source Python package for Natural Language Processing (NLP)\n",
    "* A leading platform for building Python programs to work with human language data\n",
    "* It provides easy-to-use interfaces to over 50 corpora and lexical resources such as WordNet, along with a suite of text processing libraries for classification, tokenization, stemming, tagging, parsing, and semantic reasoning"
   ]
  },
  {
   "cell_type": "markdown",
   "id": "debfb5a3-b8f0-4418-b7e3-781ecbe3538e",
   "metadata": {},
   "source": [
    "#### `18.11.2.5. Networks & Graphs packages`"
   ]
  },
  {
   "cell_type": "markdown",
   "id": "e49f2ceb-abeb-4a9f-babe-84b6b8e9ea34",
   "metadata": {},
   "source": [
    "#### 18.11.2.5.1. **`NetworkX`**\n",
    "* An open-source Python package for the creation, manipulation, and study of the structure, dynamics, and functions of complex networks. It provides,\n",
    "  - Data structures for graphs, digraphs, and multigraphs \n",
    "  - Many standard graph algorithms \n",
    "  - Network structure and analysis measures \n",
    "  - Generators for classic graphs, random graphs, and synthetic networks \n",
    "  - Nodes can be \"anything\" (e.g., text, images, XML records) \n",
    "  - Edges can hold arbitrary data (e.g., weights, time series) "
   ]
  },
  {
   "cell_type": "markdown",
   "id": "6c482441-0db3-4358-980a-b2a60ff2462a",
   "metadata": {},
   "source": [
    "#### `18.11.2.6. Geographic Processing (Maps) packages`"
   ]
  },
  {
   "cell_type": "markdown",
   "id": "5ab2145d-4b7e-4937-8162-35697386fea6",
   "metadata": {},
   "source": [
    "#### 18.11.2.6.1. **`Leaflet`**\n",
    "* Leaflet is the leading open-source JavaScript library for mobile-friendly interactive maps, weighing just about 39 KB of JS, it has all the mapping features most developers ever need\n",
    "* Leaflet is designed with simplicity, performance, and usability in mind\n",
    "* It works efficiently across all major desktop and mobile platforms, can be extended with lots of plugins, has a beautiful, easy to use, and well-documented API "
   ]
  },
  {
   "cell_type": "markdown",
   "id": "6dc55252-1590-46d0-b286-ab6a35af53dc",
   "metadata": {},
   "source": [
    "#### 18.11.2.6.2. **`Folium`**\n",
    "* An open-source Python library used for visualizing geospatial data\n",
    "* A Python wrapper for `Leaflet.js` which is a leading open-source JavaScript library for plotting interactive maps\n",
    "* Folium builds on the data wrangling strengths of the Python ecosystem and the mapping strengths of the `Leaflet.js` library\n",
    "* Makes it easy to visualize data that’s been manipulated in Python on an interactive `Leaflet` map\n",
    "* The library has several built-in tilesets from OpenStreetMap, MapQuest Open, MapQuest Open Aerial, Mapbox, and Stamen, and supports custom tilesets with Mapbox or Cloudmade API keys\n",
    "* Folium supports both GeoJSON and TopoJSON overlays, as well as the binding of data to those overlays to create choropleth maps with color-brewer color schemes."
   ]
  },
  {
   "cell_type": "markdown",
   "id": "6bf8868d-e7a6-41d4-b27e-e707dff9a356",
   "metadata": {},
   "source": [
    "#### `18.11.2.7. Image and video processing packages`"
   ]
  },
  {
   "cell_type": "markdown",
   "id": "449e9c29-194d-422f-b6eb-452991b3eab4",
   "metadata": {},
   "source": [
    "#### 18.11.2.7.1. **`OpenCV`** (Open-Source Computer Vision Library)\n",
    "* An open-source computer vision and ML library (basically a library or image and video processing)\n",
    "* The library has more than 2500 optimized algorithms, which includes a comprehensive set of both classic and state-of-the-art computer vision and ML algorithms. These algorithms can be used to detect and recognize faces, identify objects, classify human actions in videos, track camera movements, track moving objects, extract 3D models of objects, produce 3D point clouds from stereo cameras, stitch images together to produce a high-resolution image of an entire scene, find similar images from an image database, remove red eyes from images taken using flash, follow eye movements, recognize scenery and establish markers to overlay it with augmented reality, etc. \n",
    "* Cross-platform support: It has C++, Python, and Java interfaces and supports Linux, macOS, Windows, iOS, and Android"
   ]
  },
  {
   "cell_type": "markdown",
   "id": "7d92d031-0c08-4e5f-a04a-73e17a697d3c",
   "metadata": {},
   "source": [
    "#### `18.11.2.8. Deep Learning packages`"
   ]
  },
  {
   "cell_type": "markdown",
   "id": "7630bfe0-9814-4670-8c61-02a6bba33ade",
   "metadata": {},
   "source": [
    "#### 18.11.2.8.1. **`TensorFlow`**\n",
    "* An end-to-end open-source platform for ML\n",
    "* It has a comprehensive, flexible ecosystem of tools, libraries, and community resources that lets researchers push the state-of-the-art in ML, and developers easily build and deploy ML applications\n",
    "* It helps to easily train and deploy models in the cloud, on-premises, in the browser, or on-device no matter what language you use\n",
    "* Because it is highly parallel, it can train multiple neural networks and GPUs for highly efficient and scalable models\n",
    "* Multi-dimensional arrays are called `tensors`"
   ]
  },
  {
   "cell_type": "markdown",
   "id": "06029c7a-be2d-45d4-a35c-aa1f42669ac8",
   "metadata": {},
   "source": [
    "#### 18.11.2.8.2. **`Keras`**\n",
    "* Keras is a powerful and easy-to-use free open-source Python library for developing and evaluating deep learning models\n",
    "* It wraps the efficient numerical computation libraries `Theano` and `TensorFlow` and allows you to define and train neural network models in just a few lines of code\n",
    "* Keras is a deep learning API written in Python, running on top of the ML platform TensorFlow\n",
    "* It was developed with a focus on enabling fast experimentation: _`Being able to go from idea to result as fast as possible`_\n",
    "* It’s is simple, flexible, and powerful\n",
    "* TensorFlow 2 is an end-to-end, open-source ML platform\n",
    "* _`Keras is the high-level API of TensorFlow 2`_: an approachable, highly-productive interface for solving ML problems, with a focus on modern deep learning. It provides essential abstractions and building blocks for developing and shipping ML solutions with high iteration velocity\n",
    "* _`Keras empowers engineers and researchers to take full advantage of the scalability and cross-platform capabilities of TensorFlow 2`_: you can run Keras on TPU or large clusters of GPUs, or CPUs, and you can export your Keras models to run in browsers or on mobile devices or servers"
   ]
  },
  {
   "cell_type": "markdown",
   "id": "ca8e2df1-5c93-423a-88a8-b5984cb934b3",
   "metadata": {},
   "source": [
    "#### 18.11.2.8.3. **`PyTorch`**\n",
    "* An open-source ML framework that accelerates the path from research prototyping to production deployment\n",
    "* A Python ML package based on Torch, based on the programming language Lua developed by FB\n",
    "* An optimized tensor library primarily used for Deep Learning applications using GPUs and CPUs\n",
    "* It is one of the widely used ML libraries, the others being TensorFlow and Keras\n",
    "* The popularity of the PyTorch library is relatively higher compared to TensorFlow and Keras\n",
    "* Features:\n",
    "  - Tensor computation (like NumPy) with strong GPU acceleration\n",
    "  - Automatic differentiation for building and training neural networks"
   ]
  },
  {
   "cell_type": "markdown",
   "id": "e6d3e60d-d75c-4870-b599-fe456d055f6f",
   "metadata": {},
   "source": [
    "#### `18.11.2.9. Deployment packages`"
   ]
  },
  {
   "cell_type": "markdown",
   "id": "0b860a6c-ca17-4ca2-8f7a-b0f91c68577b",
   "metadata": {},
   "source": [
    "#### 18.11.2.9.1. **`Gradio`**\n",
    "* Gradio is an open-source python library to rapidly make simple, adjustable UI parts for ML models, any API, or any subjective capacity in only a couple of lines of code\n",
    "* It makes it easier to play with models in web browsers by just drooping and dragging images, text, or recording of your voice, etc and seeing live the output in an interactive way\n",
    "* Gradio works with a wide range of media-text, pictures, video, and sound\n",
    "* `Uses of Gradio:`\n",
    "  - Used to generate an easy-to-use demo for ML models or functions with only a few lines of code\n",
    "  - Allows to quickly create customizable UI components around TensorFlow or PyTorch models, or even arbitrary Python functions - Mix and match components to support any combination of inputs and outputs\n",
    "  - Fast, easy setup\n",
    "    - Gradio can be installed directly through pip. Creating a Gradio interface only requires adding a couple of lines of code to the project\n",
    "  - Present and share\n",
    "    - Gradio can be embedded in Python notebooks or presented as a webpage\n",
    "    - A Gradio interface can automatically generate a public link you can share with colleagues that lets them interact with the model on your computer remotely from their own devices\n",
    "  - Permanent hosting\n",
    "    - Once you've created an interface, you can point Gradio towards the GitHub repository where it is contained\n",
    "    - Gradio will host the interface on its servers and provide you with a link you can share"
   ]
  },
  {
   "cell_type": "markdown",
   "id": "65f3de24-8489-4b92-928c-55a2c599e006",
   "metadata": {},
   "source": [
    "#### `18.11.2.10. Web Scrapping packages`"
   ]
  },
  {
   "cell_type": "markdown",
   "id": "bdceccca-5277-4a78-8100-a95bfad083fe",
   "metadata": {},
   "source": [
    "#### 18.11.2.10.1. **`Scrapy`**\n",
    "* An open-source and collaborative framework for extracting the data from websites, in a fast, simple, yet extensible way\n",
    "* Scrapy is a Python framework for large scale web scraping, maintained by Zyte\n",
    "* It gives you all the tools to efficiently **extract** data from websites, **process** them as you want, and **store** them in your preferred structure and format\n",
    "* Features: \n",
    "  - Fast and powerful - write the rules to extract the data and let Scrapy do the rest\n",
    "  - Easily extensible - extensible by design, plug new functionality easily without touching the core\n",
    "  - Portable, Python - written in Python and runs on Linux, Windows, Mac"
   ]
  },
  {
   "cell_type": "markdown",
   "id": "8f4de11a-8bc2-4bef-b59e-d92a1645c50b",
   "metadata": {},
   "source": [
    "#### 18.11.2.10.2. **`Beautiful Soup`**\n",
    "* A Python library for pulling data out of HTML and XML files\n",
    "* It creates a parse tree for parsed pages that can be used to extract data from HTML, which is useful for web scraping"
   ]
  },
  {
   "cell_type": "markdown",
   "id": "da93c333-a075-499e-bb29-646d1d38b9f4",
   "metadata": {},
   "source": [
    "#### `18.11.2.11. Distributed Environment packages`"
   ]
  },
  {
   "cell_type": "markdown",
   "id": "cce9ef24-c11b-44a1-885c-00a210be42f9",
   "metadata": {},
   "source": [
    "#### 18.11.2.11.1. **`PySpark`**\n",
    "* A Python API for Spark and it helps to interface with Resilient Distributed Datasets (RDDs) in Apache Spark and Python programming language\n",
    "* PySpark is an interface for Apache Spark in Python\n",
    "* It not only allows you to write Spark applications using Python APIs but also provides the PySpark shell for interactively analyzing your data in a distributed environment\n",
    "* PySpark supports most of Spark’s features such as Spark SQL, DataFrame, Streaming, MLlib (Machine Learning), and Spark Core"
   ]
  },
  {
   "cell_type": "markdown",
   "id": "1b680f78-eec6-4cd0-87ec-b7042c09a092",
   "metadata": {},
   "source": [
    "#### `18.11.2.12. HTTP client packages`"
   ]
  },
  {
   "cell_type": "markdown",
   "id": "691d1c1d-9422-4ac8-8eff-bf8721a6802f",
   "metadata": {},
   "source": [
    "#### 18.11.2.12.1. **`Urllib3`**\n",
    "* urllib3 is a powerful, user-friendly HTTP client for Python\n",
    "* Much of the Python ecosystem already uses urllib3\n",
    "* urllib3 brings many critical features that are missing from the Python standard libraries:\n",
    "  - Thread safety\n",
    "  - Connection pooling\n",
    "  - Client-side TLS/SSL verification\n",
    "  - File uploads with multipart encoding\n",
    "  - Helpers for retrying requests and dealing with HTTP redirects\n",
    "  - Support for gzip, deflate, and brotli encoding\n",
    "  - Proxy support for HTTP and SOCKS\n",
    "  - 100% test coverage"
   ]
  },
  {
   "cell_type": "markdown",
   "id": "12f3258c-e891-4983-b63a-3ce74bfa06dc",
   "metadata": {},
   "source": [
    "#### `18.11.2.13. Package Manager package`"
   ]
  },
  {
   "cell_type": "markdown",
   "id": "8a4e0c78-e2d0-4e59-a01e-2e6bc49883ca",
   "metadata": {},
   "source": [
    "#### 18.11.2.13.1. **`Pip`**\n",
    "* PIP is a package manager for Python packages/libraries or modules\n",
    "  - A package contains all the files you need for a module\n",
    "  - Modules are Python code libraries you can include in your project\n",
    "* PIP is the standard package manager for Python that allows you to install and manage additional packages that are not part of the Python standard library\n",
    "* PIP is written in Python"
   ]
  },
  {
   "cell_type": "markdown",
   "id": "fdbd7949-bb83-42ac-88e8-073a92aa12ae",
   "metadata": {},
   "source": [
    "<!--NAVIGATION-->\n",
    "<br>\n",
    "\n",
    "<[ [Other Considerations - Databases](18.10-mlpg-Other-Considerations-Databases.ipynb) | [Contents and Acronyms](00.00-mlpg-Contents-and-Acronyms.ipynb) | [Other Considerations - Testing](18.12-mlpg-Other-Considerations-Testing.ipynb) ]>"
   ]
  }
 ],
 "metadata": {
  "kernelspec": {
   "display_name": "Python 3",
   "language": "python",
   "name": "python3"
  },
  "language_info": {
   "codemirror_mode": {
    "name": "ipython",
    "version": 3
   },
   "file_extension": ".py",
   "mimetype": "text/x-python",
   "name": "python",
   "nbconvert_exporter": "python",
   "pygments_lexer": "ipython3",
   "version": "3.8.8"
  }
 },
 "nbformat": 4,
 "nbformat_minor": 5
}
