{
 "cells": [
  {
   "cell_type": "markdown",
   "id": "8268d4b2-360c-4625-b326-3abcf80970a3",
   "metadata": {},
   "source": [
    "<!--BOOK_INFORMATION-->\n",
    "<img align=\"left\" style=\"padding-right:10px;\" src=\"figures/MLPG-Book-Cover-Small.png\"><br>\n",
    "\n",
    "This notebook contains an excerpt from the **`Machine Learning Project Guidelines - For Beginners`** book written by *Balasubramanian Chandran*; the content is available [on GitHub](https://github.com/BalaChandranGH/Books/ML-Project-Guidelines)."
   ]
  },
  {
   "cell_type": "markdown",
   "id": "226e9b18-d66b-4f68-a63e-b7a9529efa61",
   "metadata": {},
   "source": [
    "<br>\n",
    "<!--NAVIGATION-->\n",
    "\n",
    "<[ [Other Considerations - Neural-Networks](18.09-mlpg-Other-Considerations-Neural-Networks.ipynb) | [Contents and Acronyms](00.00-mlpg-Contents-and-Acronyms.ipynb) | [Other Considerations - Python Libraries](18.11-mlpg-Other-Considerations-Python-Libraries.ipynb) ]>"
   ]
  },
  {
   "cell_type": "markdown",
   "id": "1338c854-0c6f-46bd-948a-ac8fc40a22bc",
   "metadata": {},
   "source": [
    "# 18. Other Considerations"
   ]
  },
  {
   "cell_type": "markdown",
   "id": "c8535102-a0b5-4271-82ca-cd1bda312355",
   "metadata": {},
   "source": [
    "## 18.10. Databases"
   ]
  },
  {
   "cell_type": "markdown",
   "id": "016d6532-f302-4343-ac7e-1c15d332e646",
   "metadata": {},
   "source": [
    "### 18.10.1. NoSQL database\n",
    "* NoSQL - a non-relational database\n",
    "* NoSQL database types/data models:\n",
    "  - Key-value\n",
    "  - Document\n",
    "  - Column-Oriented/Column-Family/Big Table\n",
    "  - Graph\n",
    "  \n",
    "  _**Note**: There are overlaps and the definitions are not always clear_"
   ]
  },
  {
   "cell_type": "markdown",
   "id": "64011cd3-255c-4fb3-bb1b-8c491f0face7",
   "metadata": {},
   "source": [
    "* NoSQL commonalities\n",
    "  - Based on open-source technologies\n",
    "  - Global database key 🠊 easier to partition/shard the data across \n",
    "  - Nodes/servers (or) horizontal Scalability\n",
    "  - More use case-specific and developer-friendly than RDBMS\n",
    "  - Flexible schema\n",
    "* Companies offer the commercial version of the NoSQL database, e.g.,\n",
    "  - Datastax 🠊 Apache Cassandra\n",
    "  - IBM Cloudant\n",
    "  - MongoDB 🠊 Own version of Mongo DB\n",
    "* Benefits of NoSQL?\n",
    "  - Scalability\n",
    "  - Performance\n",
    "  - Availability\n",
    "  - Cloud Architecture compatibility\n",
    "  - Cost\n",
    "  - Flexible schema\n",
    "  - Intuitive Data Structures\n",
    "  - Specialized capabilities\n",
    "  \n",
    "  _**Note**: Not all NoSQL databases will exhibit all these benefits_"
   ]
  },
  {
   "cell_type": "markdown",
   "id": "0dafdf6b-cb2b-4faa-a628-ebd823582e06",
   "metadata": {},
   "source": [
    "### 18.10.2. Types of NoSQL data stores\n",
    "![](figures/MLPG-OC-NoSQLTypes.png)"
   ]
  },
  {
   "cell_type": "markdown",
   "id": "23ef9a39-5a4b-4694-b814-d8b4c96c944a",
   "metadata": {},
   "source": [
    "### 18.10.3. When to use different NoSQL data stores?\n",
    "![](figures/MLPG-OC-NoSQLUCs.png)"
   ]
  },
  {
   "cell_type": "markdown",
   "id": "eb27c982-5cfd-4eaa-bd60-1ec4dd0941aa",
   "metadata": {},
   "source": [
    "### 18.10.4. Types of databases\n",
    "* Types of databases are Flat file, Relational, Columnar, NoSQL, Graph, etc."
   ]
  },
  {
   "cell_type": "markdown",
   "id": "3550d00d-cb0f-4d70-ae8b-35b398c81e8e",
   "metadata": {},
   "source": [
    "* **Flat files**\n",
    "  - Aka text database is a type of database that stores data in a plain text format\n",
    "  - A file having no internal hierarchy\n",
    "  - Examples:\n",
    "    - CSVs (Comma Separated Values)\n",
    "    - TSVs (Tab Separated Values), etc."
   ]
  },
  {
   "cell_type": "markdown",
   "id": "7d9b53b8-7ee2-4048-92e1-99b58e5bdd52",
   "metadata": {},
   "source": [
    "* **Relational databases**\n",
    "  - Tabular representation of data \n",
    "  - Type of database that stores and provides access to data points that are related to one another \n",
    "  - Examples:\n",
    "    - ORACLE\n",
    "    - SQL Server\n",
    "    - MySQL\n",
    "    - IBM DB2, etc."
   ]
  },
  {
   "cell_type": "markdown",
   "id": "6aa29aa8-3d4c-414b-b99b-1690494b7701",
   "metadata": {},
   "source": [
    "* **Columnar databases**\n",
    "  - Stores data by columns rather than by rows\n",
    "  - Examples: \n",
    "    - Amazon Redshift (part of AWS and a data warehouse for big data)\n",
    "    - MariaDB (fork of MySQL - offers a combination of a columnar and relational database with ColumnStore)\n",
    "    - IBM BigQuery, etc."
   ]
  },
  {
   "cell_type": "markdown",
   "id": "5f107205-449a-4b98-99ee-34b1e7bdfda7",
   "metadata": {},
   "source": [
    "* **NoSQL**\n",
    "  - A non-relational database\n",
    "  - Aka \"not only SQL\", are non-tabular databases and store data differently than relational tables\n",
    "  - NoSQL databases come in a variety of types based on their data model and they provide flexible schemas and scale easily with large amounts of data and high user loads\n",
    "  - The main types are: \n",
    "    - `Key-value`: e.g., Riak, Redis, Oracle Berkeley DB, Amazon Dynamo DB\n",
    "    - `Document`: e.g., IBM Cloudant, mongoDB, CouchDB, Couchbase, RAVENDB\n",
    "    - `Column-Oriented/Column-family/Big Table`: e.g., Casandra, HBase, Amazon Webservices\n",
    "    - `Graph`: e.g., Neo4j, InfiniteGraph, OrientDB, Twitter/FlockDB\n",
    "  - NoSQL commonalities:\n",
    "    - Based on open-source technologies\n",
    "    - Easy to partition/shard the data across (global database key)\n",
    "    - Horizontal scalability (across nodes/servers)\n",
    "    - More use case-specific and developer-friendly than RDBMS\n",
    "    - Flexible schema\n",
    "  - NoSQ benefits:\n",
    "    - Scalability\n",
    "    - Performance\n",
    "    - Availability\n",
    "    - Cloud architecture compatibility\n",
    "    - Cost (low due to commodity h/ws)\n",
    "    - Flexible schema\n",
    "    - Intuitive data structures\n",
    "    - Specialized capabilities<br>\n",
    "    _**Note**: Not all NoSQL databases will exhibit all these benefits._\n",
    "  - Companies that offer commercial versions (eg.):\n",
    "    - Datastax 🠊 Apache Cassandra\n",
    "    - IBM 🠊 IBM Cloudant\n",
    "    - Mongo DB 🠊 mongoDB\n",
    "    - Oracle 🠊 Oracle Berkeley DB\n",
    "    - Amazon 🠊 Dynamo DB, Simple DB, Webservices"
   ]
  },
  {
   "cell_type": "markdown",
   "id": "2b8acebe-e639-40a9-9816-7ede31d44b71",
   "metadata": {},
   "source": [
    "* **Graph**\n",
    "  - A database that uses graph structures for semantic queries with nodes, edges, and properties to represent and store data\n",
    "  - Very simply, a graph database is a database designed to treat the relationships between data as equally important to the data itself\n",
    "    - Dgraph \n",
    "    - OrientDB\n",
    "    - Amazon Neptune\n",
    "    - Twitter/FlockDB\n",
    "    - DataStax, etc."
   ]
  },
  {
   "cell_type": "markdown",
   "id": "46a7bdb1-dc10-4df8-a92c-75f30e28ebab",
   "metadata": {},
   "source": [
    "<!--NAVIGATION-->\n",
    "<br>\n",
    "\n",
    "<[ [Other Considerations - Neural-Networks](18.09-mlpg-Other-Considerations-Neural-Networks.ipynb) | [Contents and Acronyms](00.00-mlpg-Contents-and-Acronyms.ipynb) | [Other Considerations - Python Libraries](18.11-mlpg-Other-Considerations-Python-Libraries.ipynb) ]>"
   ]
  }
 ],
 "metadata": {
  "kernelspec": {
   "display_name": "Python 3",
   "language": "python",
   "name": "python3"
  },
  "language_info": {
   "codemirror_mode": {
    "name": "ipython",
    "version": 3
   },
   "file_extension": ".py",
   "mimetype": "text/x-python",
   "name": "python",
   "nbconvert_exporter": "python",
   "pygments_lexer": "ipython3",
   "version": "3.8.8"
  }
 },
 "nbformat": 4,
 "nbformat_minor": 5
}
