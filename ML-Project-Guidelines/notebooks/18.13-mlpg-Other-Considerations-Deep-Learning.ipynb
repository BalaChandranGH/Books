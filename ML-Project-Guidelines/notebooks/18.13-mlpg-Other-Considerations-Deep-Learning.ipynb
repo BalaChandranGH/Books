{
 "cells": [
  {
   "cell_type": "markdown",
   "id": "a6e1ed92-2462-49ec-8ffd-a221b6c2c6cd",
   "metadata": {},
   "source": [
    "<!--BOOK_INFORMATION-->\n",
    "<img align=\"left\" style=\"padding-right:10px;\" src=\"figures/MLPG-Book-Cover-Small.png\"><br>\n",
    "\n",
    "This notebook contains an excerpt from the **`Machine Learning Project Guidelines - For Beginners`** book written by *Balasubramanian Chandran*; the content is available [on GitHub](https://github.com/BalaChandranGH/Books/ML-Project-Guidelines)."
   ]
  },
  {
   "cell_type": "markdown",
   "id": "72c28713-2d0a-4804-8e01-f251b8555082",
   "metadata": {},
   "source": [
    "<br>\n",
    "<!--NAVIGATION-->\n",
    "\n",
    "<[ [Other Considerations - Testing](18.12-mlpg-Other-Considerations-Testing.ipynb) | [Contents and Acronyms](00.00-mlpg-Contents-and-Acronyms.ipynb) | [Other Considerations - Definitions](18.14-mlpg-Other-Considerations-Definitions.ipynb) ]>"
   ]
  },
  {
   "cell_type": "markdown",
   "id": "b1b292fa-ca24-4b13-80cb-40d4d8603a8f",
   "metadata": {},
   "source": [
    "# 18. Other Considerations"
   ]
  },
  {
   "cell_type": "markdown",
   "id": "c1e1f1fc-4cb2-4909-8e1c-ca461d6a5475",
   "metadata": {},
   "source": [
    "## 18.13. Deep Learning"
   ]
  },
  {
   "cell_type": "markdown",
   "id": "ec6a6edf-974e-42c4-9dc7-2c7d12999b19",
   "metadata": {},
   "source": [
    "### 18.13.1. What is Deep Learning (DL)?\n",
    "* DL is a subfield of ML concerned with algorithms inspired by Artificial Neural Networks (ANN).\n",
    "* DL is a subset of ML where ANN (algorithms based on the structure and functioning of the human brain) learn from large amounts of data to create patterns for decision-making\n",
    "* Neural networks with various (deep) layers enable learning through performing tasks repeatedly and tweaking them a little to improve the outcome\n",
    "* Over the last few years, the availability of computing power and the amount of data being generated have led to an increase in deep learning capabilities<br>\n",
    "![](figures/MLPG-OC-DL.png)"
   ]
  },
  {
   "cell_type": "markdown",
   "id": "a032c151-6c63-4e12-8d8a-f19aaec94226",
   "metadata": {},
   "source": [
    "### 18.13.2. Features/Characteristics of DL\n",
    "* Supervised, Semi-Supervised or Unsupervised\n",
    "* Huge Amount of Resources\n",
    "* A large Number of Layers in the Model\n",
    "* Optimizing Hyper-parameters"
   ]
  },
  {
   "cell_type": "markdown",
   "id": "b22095c3-eb30-4cdf-9457-c93bb233e263",
   "metadata": {},
   "source": [
    "### 18.13.3. Demonstrated values of DL\n",
    "* Deep learning using enormous neural networks is teaching machines to automate the tasks performed by human visual systems\n",
    "* DL has delivered super-human accuracy for image classification, object detection, image restoration, and image segmentation - even handwritten digits can be recognized"
   ]
  },
  {
   "cell_type": "markdown",
   "id": "0e9abd83-c52e-41be-8c05-7b42aa1c8251",
   "metadata": {},
   "source": [
    "### 18.13.4. Pros and Cons of DL\n",
    "* `Pros:`\n",
    "  - No need for feature engineering\n",
    "  - Best results with unstructured data\n",
    "  - No need to label data\n",
    "  - Efficient at delivering high-quality results\n",
    "* `Cons:`\n",
    "  - It requires a very large amount of data to perform better than other techniques\n",
    "  - It requires expensive GPUs and lots of machines to perform better than other techniques"
   ]
  },
  {
   "cell_type": "markdown",
   "id": "fa755682-7dea-4ed2-83d2-5b31c6c1bdb2",
   "metadata": {},
   "source": [
    "<!--NAVIGATION-->\n",
    "<br>\n",
    "\n",
    "<[ [Other Considerations - Testing](18.12-mlpg-Other-Considerations-Testing.ipynb) | [Contents and Acronyms](00.00-mlpg-Contents-and-Acronyms.ipynb) | [Other Considerations - Definitions](18.14-mlpg-Other-Considerations-Definitions.ipynb) ]>"
   ]
  }
 ],
 "metadata": {
  "kernelspec": {
   "display_name": "Python 3",
   "language": "python",
   "name": "python3"
  },
  "language_info": {
   "codemirror_mode": {
    "name": "ipython",
    "version": 3
   },
   "file_extension": ".py",
   "mimetype": "text/x-python",
   "name": "python",
   "nbconvert_exporter": "python",
   "pygments_lexer": "ipython3",
   "version": "3.8.8"
  }
 },
 "nbformat": 4,
 "nbformat_minor": 5
}
