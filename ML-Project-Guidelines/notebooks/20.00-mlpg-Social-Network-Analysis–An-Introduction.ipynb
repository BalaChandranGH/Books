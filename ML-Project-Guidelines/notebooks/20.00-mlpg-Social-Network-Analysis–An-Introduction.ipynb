{
 "cells": [
  {
   "cell_type": "markdown",
   "id": "d865a7f4-3fe4-42fa-a1f0-bc616a55921b",
   "metadata": {},
   "source": [
    "<!--BOOK_INFORMATION-->\n",
    "<img align=\"left\" style=\"padding-right:10px;\" src=\"figures/MLPG-Book-Cover-Small.png\"><br>\n",
    "\n",
    "This notebook contains an excerpt from the **`Machine Learning Project Guidelines - For Beginners`** book written by *Balasubramanian Chandran*; the content is available [on GitHub](https://github.com/BalaChandranGH/Books/ML-Project-Guidelines)."
   ]
  },
  {
   "cell_type": "markdown",
   "id": "cc4f74d1-cbad-4113-bf11-e4b15149a9d0",
   "metadata": {},
   "source": [
    "<br>\n",
    "<!--NAVIGATION-->\n",
    "\n",
    "<[ [Text Analytics – An Introduction](19.00-mlpg-Text-Analytics–An-Introduction.ipynb) | [Contents and Acronyms](00.00-mlpg-Contents-and-Acronyms.ipynb) | [Case Study 1: ML system design for email Spam detection](21.01-mlpg-CS1-ML-system-design-for-email-Spam-detection.ipynb) ]>"
   ]
  },
  {
   "cell_type": "markdown",
   "id": "23e47b86-177b-4fdc-be68-a0e4223de796",
   "metadata": {},
   "source": [
    "# 20. Social Network Analysis – An Introduction"
   ]
  },
  {
   "cell_type": "markdown",
   "id": "4e1f7cb3-d7df-4c5e-9b6d-30cd3e897ec3",
   "metadata": {},
   "source": [
    "## 20.1. Use-cases for Networks\n",
    "* **Networks** (aka **Graph**): \n",
    "  - A set of objects (nodes) with interconnections (edges)\n",
    "  - A representation of _`connections among a set of items`_\n",
    "    - _**`Items`**_ are called _**`Nodes`**_ (or _**`Vertices`**_)\n",
    "    - _**`Connections`**_ are called _**`Edges`**_ (or _**`Link`**_ or _**`Ties`**_)\n",
    "* **Why do we study them?** Because they are everywhere!\n",
    "  - Social networks:\n",
    "    - Friendship networks, Family networks, E-mail communication networks, etc.\n",
    "  - Transportation and Mobility networks:\n",
    "    - Bus/Rail transportation networks, Direct flight networks, Human mobility networks, etc.\n",
    "  - Information networks:\n",
    "    - Internet connectivity networks, Network of Wikipedia articles on climate change, etc.\n",
    "  - Biological networks:\n",
    "    - Chesapeake Bay Waterbird Food Web, Protein-protein interactions, etc.\n",
    "  - And much more:\n",
    "    - Financial networks, Co-authorship networks, Trade networks, Citation networks, etc.\n",
    "* **Network use-cases:**\n",
    "  - E-mail communication network among employees:\n",
    "    - Is a rumor likely to spread in this network?\n",
    "    - Who are the most influential people in this organization?\n",
    "  - Friendship network in a karate club:\n",
    "    - Is this club likely to split into 2 groups?\n",
    "    - If so, which nodes will go to which groups?\n",
    "  - The network of direct flights around the world:\n",
    "    - Which airports are at the highest risk for virus spreading?\n",
    "    - Are some parts of the world more difficult to reach?"
   ]
  },
  {
   "cell_type": "markdown",
   "id": "9bb61acc-af15-48d9-bea7-de4a47be94b4",
   "metadata": {},
   "source": [
    "## 20.2. Types of networks\n",
    "![](figures/MLPG-OC-TypesofNetworks.png)<br>\n",
    "&emsp;&emsp;&emsp;&emsp;&emsp;&emsp;&emsp;&emsp;&emsp;&emsp;&emsp;&emsp;&emsp;&emsp;&emsp;&emsp;&emsp;&emsp; Image credit [ (Source) ](https://www.coursera.org/in)"
   ]
  },
  {
   "cell_type": "markdown",
   "id": "369a54a1-707a-4e40-84b9-2921557770ec",
   "metadata": {},
   "source": [
    "<!--NAVIGATION-->\n",
    "<br>\n",
    "\n",
    "<[ [Text Analytics – An Introduction](19.00-mlpg-Text-Analytics–An-Introduction.ipynb) | [Contents and Acronyms](00.00-mlpg-Contents-and-Acronyms.ipynb) | [Case Study 1: ML system design for email Spam detection](21.01-mlpg-CS1-ML-system-design-for-email-Spam-detection.ipynb) ]>"
   ]
  }
 ],
 "metadata": {
  "kernelspec": {
   "display_name": "Python 3",
   "language": "python",
   "name": "python3"
  },
  "language_info": {
   "codemirror_mode": {
    "name": "ipython",
    "version": 3
   },
   "file_extension": ".py",
   "mimetype": "text/x-python",
   "name": "python",
   "nbconvert_exporter": "python",
   "pygments_lexer": "ipython3",
   "version": "3.8.8"
  }
 },
 "nbformat": 4,
 "nbformat_minor": 5
}
