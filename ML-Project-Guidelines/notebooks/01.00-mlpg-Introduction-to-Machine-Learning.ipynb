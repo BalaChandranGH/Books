{
 "cells": [
  {
   "cell_type": "markdown",
   "id": "7fedb2bc-2175-4b28-9cc9-66905de9e10b",
   "metadata": {},
   "source": [
    "<!--BOOK_INFORMATION-->\n",
    "<img align=\"left\" style=\"padding-right:10px;\" src=\"figures/MLPG-Book-Cover-Small.png\"><br>\n",
    "\n",
    "This notebook contains an excerpt from the **`Machine Learning Project Guidelines - For Beginners`** book written by *Balasubramanian Chandran*; the content is available [on GitHub](https://github.com/BalaChandranGH/Books/ML-Project-Guidelines)."
   ]
  },
  {
   "cell_type": "markdown",
   "id": "09cd1ef0-94b6-4853-bd49-c65d7ad8b450",
   "metadata": {},
   "source": [
    "<br>\n",
    "<!--NAVIGATION-->\n",
    "\n",
    "<[ [Contents and Acronyms](00.00-mlpg-Contents-and-Acronyms.ipynb) | [Grouping of ML Algorithms](02.00-mlpg-Grouping-of-ML-Algorithms.ipynb) ]>"
   ]
  },
  {
   "cell_type": "markdown",
   "id": "bb0ee6ca-78b9-4d42-ba1a-e7db76a25001",
   "metadata": {},
   "source": [
    "# 1. Introduction to Machine Learning"
   ]
  },
  {
   "cell_type": "markdown",
   "id": "ab95baaf-bdc2-4f80-993d-58d2eac59555",
   "metadata": {},
   "source": [
    "## 1.1. What is Machine Learning?\n",
    "* Machine Learning is the science of teaching machines how to learn by themselves\n",
    "* Machines can do high-frequency repetitive tasks with high accuracy without getting bored\n",
    "* Machines need a way to think and this is precisely where machine learning models help\n",
    "* The machines capture data from the environment and feed it to the machine learning models"
   ]
  },
  {
   "cell_type": "markdown",
   "id": "a575d50b-f27b-4461-8570-be1c496e7fdc",
   "metadata": {},
   "source": [
    "## 1.2. Automation vs Machine Learning vs Statistical modeling\n",
    "* **Automation**: Rule-driven and _`does not evolve`_\n",
    "* **Machine Learning**: An algorithm that _`does evolve`_ by learning from past data, without relying on rules-based programming, and changing its decisions/performance\n",
    "* **Statistical modeling**: Formalization of relationships between variables in the form of mathematical equations<br>\n",
    "_`The only relation between Automation and ML is that ML enables better automation.`_"
   ]
  },
  {
   "cell_type": "markdown",
   "id": "af45a0e6-a715-4461-8745-a35b1cf1aeb2",
   "metadata": {},
   "source": [
    "## 1.3. Differences between Machine Learning and Statistical modeling\n",
    "![](figures/MLPG-DifferencesMLSM.png)"
   ]
  },
  {
   "cell_type": "markdown",
   "id": "6d755fbe-2938-4543-b56b-9604cc8e0767",
   "metadata": {},
   "source": [
    "## 1.4. Types of Machine Learning\n",
    "**Supervised Learning:**\n",
    "* This algorithm consists of a target/outcome variable (dependent variable) which is to be predicted from a given set of predictors (independent variables)\n",
    "* Using this set of variables, we generate a function that maps inputs to desired outputs. The training process continues until the model achieves a desired level of accuracy on the training data\n",
    "* Examples: Linear Regression, Decision Tree, Random Forest, KNN, Logistic Regression, etc.\n",
    "\n",
    "**Semi-Supervised Learning:**\n",
    "* It refers to a learning problem (and algorithms designed for the learning problem) that involves a small portion of labeled examples and a large number of unlabeled examples from which a model must learn and make predictions on new examples\n",
    "\n",
    "**Unsupervised Learning:**\n",
    "* In this algorithm, we do not have any target or outcome variable to predict/estimate\n",
    "* It is used for clustering populations in different groups, which is widely used for segmenting customers in different groups for specific interventions\n",
    "* Examples: Apriori algorithm, K-means\n",
    "\n",
    "**Reinforcement Learning:**\n",
    "* Using this algorithm, the machine is trained to make specific decisions\n",
    "* It works this way: the machine is exposed to an environment where it trains itself continually using trial and error\n",
    "* This machine learns from experience and tries to capture the best possible knowledge to make accurate business decisions\n",
    "* Examples: Markov Decision Process\n",
    "* Reinforcement Learning is said to be the hope of true artificial intelligence and it is a slightly complex topic as compared to traditional ML but an equally crucial one for the future"
   ]
  },
  {
   "cell_type": "markdown",
   "id": "157eda08-a667-40ca-bfdc-2d5b056002a1",
   "metadata": {},
   "source": [
    "## 1.5. Differences between Supervised & Unsupervised Learnings\n",
    "![](figures/MLPG-DifferencesSLUSL.png)"
   ]
  },
  {
   "cell_type": "markdown",
   "id": "0a001896-bd53-4108-9aac-a9f8f140d083",
   "metadata": {},
   "source": [
    "## 1.6. Difference between ML Algorithms and ML Models\n",
    "**ML Algorithms:**\n",
    "* Procedures that are implemented in code and are run on data\n",
    "* Learn from data or fit on a dataset\n",
    "* Can be described by pseudocodes\n",
    "* Can be implemented by programming languages (Python, R, etc.)\n",
    "\n",
    "**ML Models:**\n",
    "* Outputs generated by algorithms and are comprised of model data and algorithms, i.e., <br>\n",
    "_`Models = Algorithms + data`_\n",
    "* The output of ML algorithms that run on data\n",
    "* Represents what was learned by an ML algorithm\n",
    "* An ML model is a set of programs that is saved after running an ML algorithm on training data. For eg.,\n",
    "  - An LR algorithm results in a model comprised of a vector of coefficients with specific values\n",
    "  - A DT algorithm results in a model comprised of a tree of if-then statements with specific values\n",
    "  - The NN/backpropagation/gradient descent algorithms together result in a model comprised of a graph structure with vectors or matrices of weights with specific values"
   ]
  },
  {
   "cell_type": "markdown",
   "id": "b731f10a-a204-4a18-ae50-a3ec286e8297",
   "metadata": {},
   "source": [
    "## 1.7. Is Machine Learning a complete black box?\n",
    "* No – it is not. There are methods/algorithms within ML which can be interpreted well. These methods can help us understand what are the significant relationships and why has the m/c taken a particular decision\n",
    "* On the other hand, certain algorithms are difficult to interpret. With these methods, even if we achieve very high accuracy, we may struggle with explanations\n",
    "* The good thing is that depending on the application or the problem we are trying to solve – we can choose the right method. This is also a very active field of research and development"
   ]
  },
  {
   "cell_type": "markdown",
   "id": "9d70a6f3-e19a-4858-a812-874516869779",
   "metadata": {},
   "source": [
    "## 1.8. Challenges in the adoption of Machine Learning\n",
    "* While ML has made tremendous progress in the last few years, some big challenges still need to be solved\n",
    "* It is an area of active research and you can expect a lot of effort to solve these problems in the coming time. The challenges are:\n",
    "  - _**Huge data requirement**_: It takes a huge amount of data to train a model today. For example – if you want to classify Cats vs. Dogs based on images (and you don’t use an existing model) – you would need the model to be trained on thousands of images. Compare that to a human – we typically explain the difference between Cat and Dog to a child by using 2 or 3 photos\n",
    "  - _**High computing requirement**_: As of now, machine learning and deep learning models require huge computations to achieve simple tasks (simple according to humans). This is why the use of special hardware including GPUs and TPUs is required. The cost of computations needs to come down for machine learning to make a next-level impact\n",
    "  - _**Interpretation of models is difficult at times**_: Some modeling techniques can give us high accuracy but are difficult to explain. This can leave the business owners frustrated. Imagine being a bank, but you cannot tell why you declined a loan for a customer!\n",
    "  - _**New and better algorithms requirement**_: Researchers are consistently looking out for new and better algorithms to address some of the problems mentioned above\n",
    "  - _**Need for more Data Scientists**_: Further, since the domain has grown so quickly – there aren’t many people with the skill sets required to solve the vast variety of problems. This is expected to remain so for the next few years. So, if you are thinking about building a career in machine learning – you are in good stead!"
   ]
  },
  {
   "cell_type": "markdown",
   "id": "95d7c462-963b-4c1b-969d-d19b7daa9139",
   "metadata": {},
   "source": [
    "## 1.9. Applications of ML in day-to-day life (most common UCs)\n",
    "* Applications in Smartphones\n",
    "  - Voice Assistants (e.g., Apple's Siri, Google Assistant, Amazon's Alexa, Microsoft's Cortana, etc.)\n",
    "  - Cameras (e.g., Object detection and filling missing parts in a picture, etc.)\n",
    "  - App Store and Play store recommendations (e.g., Google Play Store)\n",
    "  - Face Unlock\n",
    "* Transportation Optimization\n",
    "  - Dynamic pricing in travel (e.g., Depending on location, Time of day, Weather, Demand, etc.)\n",
    "  - Google maps (e.g., Routes, Estimated time of travel, Traffic details, Explore Nearby feature, etc.)\n",
    "* Popular Web Services\n",
    "  - Email filtering (e.g., Spam detection)\n",
    "  - Google Search\n",
    "  - Google Translate\n",
    "  - LinkedIn and Facebook recommendations and Ads\n",
    "* Sales and Marketing\n",
    "  - Recommendation Engines\n",
    "    - E-commerce sites like Amazon and Flipkart\n",
    "    - Movie services like IMDb and Netflix\n",
    "    - Hospitality sites like MakeMyTrip, Booking.com, etc.\n",
    "    - Food aggregators like Zomato and Uber Eats\n",
    "  - Personalized Marketing\n",
    "  - Customer Support Queries (and Chatbots)\n",
    "* Security\n",
    "  - Video Surveillance\n",
    "  - Cyber Security (Captchas - Completely Automated Public Turing test - I am not a robot)\n",
    "* Financial Domain\n",
    "  - Fraud Detection in banking transactions, and Personalized Banking\n",
    "* Other Popular Use Cases (e.g., Self-driving cars)"
   ]
  },
  {
   "cell_type": "markdown",
   "id": "fade6ee2-01d8-4616-988d-e53cada9dadc",
   "metadata": {},
   "source": [
    "## 1.10. Why is Machine Learning getting so much attention recently?\n",
    "This development is driven by a few underlying forces (Asimov’s Three Laws of robotics):<br>\n",
    "**Force 1**: The amount of data generation is increasing significantly with a reduction in the cost of sensors<br>\n",
    "**Force 2**: The cost of storing this data has been reduced significantly<br>\n",
    "**Force 3**: The cost of computing has come down significantly<br>\n",
    "**Force 4**: Cloud has democratized Compute for the masses"
   ]
  },
  {
   "cell_type": "markdown",
   "id": "f0656a89-5354-48b8-a9ff-20fdffc524bb",
   "metadata": {},
   "source": [
    "## 1.11. A must know 7 regression techniques\n",
    "![](figures/MLPG-7RegTechs1.png)\n",
    "![](figures/MLPG-7RegTechs2.png)"
   ]
  },
  {
   "cell_type": "markdown",
   "id": "3c2c0c5d-bd4a-4b60-9ba6-4b54d636cc8e",
   "metadata": {},
   "source": [
    "## 1.12. How to select the right regression technique?\n",
    "* There are various kinds of regression techniques available to make predictions, however, these techniques are mostly driven by three metrics:\n",
    "  - Number of independent variables\n",
    "    - Can range from 10s to 100s of 1000s\n",
    "  - The type of the dependent variable(s)\n",
    "    - If continuous, use Linear Regression. If categorical, use Logistic Regression\n",
    "  - The shape of the regression line\n",
    "    - Can be a straight line or Gaussian bell shape or any non-linear shape"
   ]
  },
  {
   "cell_type": "markdown",
   "id": "531f7f43-f334-446d-83b6-27a593d05b7c",
   "metadata": {},
   "source": [
    "<!--NAVIGATION-->\n",
    "<br>\n",
    "\n",
    "<[ [Contents and Acronyms](00.00-mlpg-Contents-and-Acronyms.ipynb) | [Grouping of ML Algorithms](02.00-mlpg-Grouping-of-ML-Algorithms.ipynb) ]>"
   ]
  }
 ],
 "metadata": {
  "kernelspec": {
   "display_name": "Python 3",
   "language": "python",
   "name": "python3"
  },
  "language_info": {
   "codemirror_mode": {
    "name": "ipython",
    "version": 3
   },
   "file_extension": ".py",
   "mimetype": "text/x-python",
   "name": "python",
   "nbconvert_exporter": "python",
   "pygments_lexer": "ipython3",
   "version": "3.8.8"
  }
 },
 "nbformat": 4,
 "nbformat_minor": 5
}
