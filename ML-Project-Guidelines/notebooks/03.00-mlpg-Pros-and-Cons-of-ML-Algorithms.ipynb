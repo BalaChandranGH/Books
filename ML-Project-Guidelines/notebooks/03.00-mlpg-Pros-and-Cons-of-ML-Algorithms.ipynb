{
 "cells": [
  {
   "cell_type": "markdown",
   "id": "c387e624-bae0-4d78-9155-9ecf1d87070e",
   "metadata": {},
   "source": [
    "<!--BOOK_INFORMATION-->\n",
    "<img align=\"left\" style=\"padding-right:10px;\" src=\"figures/MLPG-Book-Cover-Small.png\"><br>\n",
    "\n",
    "This notebook contains an excerpt from the **`Machine Learning Project Guidelines - For Beginners`** book written by *Balasubramanian Chandran*; the content is available [on GitHub](https://github.com/BalaChandranGH/Books/ML-Project-Guidelines)."
   ]
  },
  {
   "cell_type": "markdown",
   "id": "7510de5e-53e1-424f-b656-6f22158ddb2e",
   "metadata": {},
   "source": [
    "<br>\n",
    "<!--NAVIGATION-->\n",
    "\n",
    "<[ [Grouping of ML Algorithms](02.00-mlpg-Grouping-of-ML-Algorithms.ipynb) | [Contents and Acronyms](00.00-mlpg-Contents-and-Acronyms.ipynb) | [Types of ML Algorithms](04.00-mlpg-Types-of-ML-Algorithms.ipynb) ]>"
   ]
  },
  {
   "cell_type": "markdown",
   "id": "07390ea1-8108-49b3-960f-1906fb201598",
   "metadata": {},
   "source": [
    "# 3. Pros and Cons of ML Algorithms"
   ]
  },
  {
   "cell_type": "markdown",
   "id": "212abd54-69aa-4671-839f-8b8614d380cd",
   "metadata": {},
   "source": [
    "![](figures/MLPG-ProsCons1.png)\n",
    "![](figures/MLPG-ProsCons2.png)"
   ]
  },
  {
   "cell_type": "markdown",
   "id": "57252683-0856-4413-9767-33d9ead571ea",
   "metadata": {},
   "source": [
    "<!--NAVIGATION-->\n",
    "<br>\n",
    "\n",
    "<[ [Grouping of ML Algorithms](02.00-mlpg-Grouping-of-ML-Algorithms.ipynb) | [Contents and Acronyms](00.00-mlpg-Contents-and-Acronyms.ipynb) | [Types of ML Algorithms](04.00-mlpg-Types-of-ML-Algorithms.ipynb) ]>"
   ]
  }
 ],
 "metadata": {
  "kernelspec": {
   "display_name": "Python 3",
   "language": "python",
   "name": "python3"
  },
  "language_info": {
   "codemirror_mode": {
    "name": "ipython",
    "version": 3
   },
   "file_extension": ".py",
   "mimetype": "text/x-python",
   "name": "python",
   "nbconvert_exporter": "python",
   "pygments_lexer": "ipython3",
   "version": "3.8.8"
  }
 },
 "nbformat": 4,
 "nbformat_minor": 5
}
