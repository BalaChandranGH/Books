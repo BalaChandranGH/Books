{
 "cells": [
  {
   "cell_type": "markdown",
   "id": "84349bd8-0a2f-496a-9455-dcee172eeb03",
   "metadata": {},
   "source": [
    "<!--BOOK_INFORMATION-->\n",
    "<img align=\"left\" style=\"padding-right:10px;\" src=\"figures/MLPG-Book-Cover-Small.png\"><br>\n",
    "\n",
    "This notebook contains an excerpt from the **`Machine Learning Project Guidelines - For Beginners`** book written by *Balasubramanian Chandran*; the content is available [on GitHub](https://github.com/BalaChandranGH/Books/ML-Project-Guidelines)."
   ]
  },
  {
   "cell_type": "markdown",
   "id": "a4bfafa5-07e1-4ebc-9f87-8218ab3f112f",
   "metadata": {},
   "source": [
    "<br>\n",
    "<!--NAVIGATION-->\n",
    "\n",
    "<[ [Case Study 1: ML system design for email Spam detection](21.01-mlpg-CS1-ML-system-design-for-email-Spam-detection.ipynb) | [Contents and Acronyms](00.00-mlpg-Contents-and-Acronyms.ipynb) | [Case Study 3: Normalize & sort dates using Regular Expressions](21.03-mlpg-CS3-Normalize-and-sort-dates-using-Regular-Expressions.ipynb) ]>"
   ]
  },
  {
   "cell_type": "markdown",
   "id": "7ddfc89d-7b31-4e45-90f5-f7fc741bd62b",
   "metadata": {},
   "source": [
    "# 21.2. Case Study 2: Develop and evaluate an Anomaly Detection system"
   ]
  },
  {
   "cell_type": "markdown",
   "id": "13b77987-5e52-441b-bac9-b768f83de986",
   "metadata": {},
   "source": [
    "**System Design for Anomaly Detection:**\n",
    "* **Step 1**: _Data collection_\n",
    "  - Collect labelled data categorized into anomalous and non-anomalous<br>\n",
    "    (y = 1 if anomalous, y = 0 if non-anomalous)\n",
    "* **Step 2**: _Split dataset in train-CV-test datasets_\n",
    "  - Split the non-anomalous portion of the data into a 60/20/20 ratio for train/CV/test sets\n",
    "  - Split the anomalous portion of the data into a 50/50 ratio for CV/test sets\n",
    "  - So, the train set will have only 60% of non-anomalous data\n",
    "  - An example illustration: \n",
    "    - We have an input dataset where 0.2% is anomalous and 98% is non-anomalous\n",
    "    - Split for `train set`: Take 60% of the 98% non-anomalous data \n",
    "    - Split for `CV set`: Take 20% of the 98% non-anomalous data, and 50% of the 0.2% anomalous data (i.e., 0.1%)\n",
    "    - Split for `test set`: Take 20% of the 98% non-anomalous data, and 50% of the 0.2% anomalous data (i.e., 0.1%)\n",
    "* **Step3**: _Develop the model_\n",
    "  - Define a model p(x) that tells us the probability of a given example is non-anomalous/normal\n",
    "  - Define a threshold ∈ for the probability of non-anomalous data (use CV set to choose ∈)\n",
    "* **Step 4**: _Evaluate the model_\n",
    "  - Fit the model on the train set\n",
    "  - Predict the examples on the CV and test sets\n",
    "  - If  p(x)< ∈, then y=1 (**anomaly**)\n",
    "  - If  p(x)≥ ∈, then y=0 (**normal**)\n",
    "* **Step 5**: _Evaluation metrics_\n",
    "  - True Positive, True Negative, False Positive, False Negative \n",
    "  - Precision/Recall\n",
    "  - F1-Score"
   ]
  },
  {
   "cell_type": "markdown",
   "id": "0664587f-eb02-4b94-b7d7-4a3cc0d661f2",
   "metadata": {},
   "source": [
    "* **Anomaly Detection algorithms:**<br>\n",
    "Among many available anomaly detection algorithms, the following are the popular ones.\n",
    "  - Any Automatic Outlier Detection algorithm, such as:\n",
    "    - Isolation Forest\n",
    "    - Minimum Covariance Determinant\n",
    "    - Local Outlier Factor (LOF)\n",
    "    - One-Class SVM\n",
    "  - K-Nearest Neighbor (K-NN)\n",
    "  - K-Means Clustering"
   ]
  },
  {
   "cell_type": "markdown",
   "id": "a816f41e-58ee-4406-8d80-60fd896d74ef",
   "metadata": {},
   "source": [
    "<!--NAVIGATION-->\n",
    "<br>\n",
    "\n",
    "<[ [Case Study 1: ML system design for email Spam detection](21.01-mlpg-CS1-ML-system-design-for-email-Spam-detection.ipynb) | [Contents and Acronyms](00.00-mlpg-Contents-and-Acronyms.ipynb) | [Case Study 3: Normalize & sort dates using Regular Expressions](21.03-mlpg-CS3-Normalize-and-sort-dates-using-Regular-Expressions.ipynb) ]>"
   ]
  }
 ],
 "metadata": {
  "kernelspec": {
   "display_name": "Python 3",
   "language": "python",
   "name": "python3"
  },
  "language_info": {
   "codemirror_mode": {
    "name": "ipython",
    "version": 3
   },
   "file_extension": ".py",
   "mimetype": "text/x-python",
   "name": "python",
   "nbconvert_exporter": "python",
   "pygments_lexer": "ipython3",
   "version": "3.8.8"
  },
  "toc-autonumbering": false,
  "toc-showcode": true
 },
 "nbformat": 4,
 "nbformat_minor": 5
}
