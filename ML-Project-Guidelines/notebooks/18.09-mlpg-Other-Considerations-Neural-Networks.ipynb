{
 "cells": [
  {
   "cell_type": "markdown",
   "id": "3a2119ad-457e-4ba4-9889-606813952541",
   "metadata": {},
   "source": [
    "<!--BOOK_INFORMATION-->\n",
    "<img align=\"left\" style=\"padding-right:10px;\" src=\"figures/MLPG-Book-Cover-Small.png\"><br>\n",
    "\n",
    "This notebook contains an excerpt from the **`Machine Learning Project Guidelines - For Beginners`** book written by *Balasubramanian Chandran*; the content is available [on GitHub](https://github.com/BalaChandranGH/Books/ML-Project-Guidelines)."
   ]
  },
  {
   "cell_type": "markdown",
   "id": "283b5e39-ba84-4137-8dc5-c8dd87e3861b",
   "metadata": {},
   "source": [
    "<br>\n",
    "<!--NAVIGATION-->\n",
    "\n",
    "<[ [Other Considerations - Recommender Systems](18.08-mlpg-Other-Considerations-RecommenderSystems.ipynb) | [Contents and Acronyms](00.00-mlpg-Contents-and-Acronyms.ipynb) | [Other Considerations - Databases](18.10-mlpg-Other-Considerations-Databases.ipynb) ]>"
   ]
  },
  {
   "cell_type": "markdown",
   "id": "b84e8252-05a2-428e-a78a-dc500e119d56",
   "metadata": {},
   "source": [
    "# 18. Other Considerations"
   ]
  },
  {
   "cell_type": "markdown",
   "id": "695aee82-1981-47a8-b11a-f59017f6c495",
   "metadata": {},
   "source": [
    "## 18.9. Neural Networks"
   ]
  },
  {
   "cell_type": "markdown",
   "id": "fc544a96-2eba-42f2-8483-24edf4ac4642",
   "metadata": {},
   "source": [
    "* Neural networks (NNs) reflect the behavior of the human brain, allowing computer programs to recognize patterns and solve common problems in the fields of AI, machine learning, and deep learning\n",
    "* Their name and structure are inspired by the human brain, mimicking the way that biological neurons signal to one another\n",
    "* Other names are Artificial Neural Networks (ANNs) or Simulated Neural Networks (SNNs)\n",
    "* A **subset of machine learning** and are at the **heart of deep learning algorithms**\n",
    "* ANNs are comprised of node layers, containing an input layer, one or more hidden layers, and an output layer\n",
    "* Each node, or artificial neuron, connects to another and has an associated weight and threshold\n",
    "* If the output of any individual node is above the specified threshold value, that node is activated, sending data to the next layer of the network, otherwise, no data is passed along to the next layer of the network\n",
    "* ANNs rely on training data to learn and improve their accuracy over time, however, once these learning algorithms are fine-tuned for accuracy, they are powerful tools in computer science and artificial intelligence, allowing us to classify and cluster data at a high velocity\n",
    "* Tasks in speech recognition or image recognition can take minutes versus hours when compared to manual identification by human experts\n",
    "* One of the most well-known neural networks is Google’s search algorithm\n",
    "* Also known as Multi-Layer Perceptrons (MLP) or artificial neural networks (ANNs) or simulated neural networks (SNNs), are a subset of machine learning and are at the heart of deep learning algorithms \n",
    "* Their name and structure are inspired by the human brain, mimicking the way that biological neurons signal to one another\n",
    "* A series of algorithms that mimic the operations of a human brain to recognize relationships between vast amounts of data\n",
    "* A neural network (NN) is a multi-layered model inspired by the human brain like the neurons in our brain, each circle in the network represents a node\n",
    "* The first layer of circles (blue) represents the **input layer**, the last layer of circles (green) represents the **output layer**, and all the layers of circles in between (black) represent the **hidden layers**. \n",
    "* In other words, ANN consists of 3 layers – Input, Hidden, and Output; the input layer accepts the inputs, the hidden layer processes the inputs, and the output layer produces the result\n",
    "* Each node in the hidden layers represents a function that the inputs go through, leading to an output in the green circles, and the formal term for these functions is called the **sigmoid activation function**"
   ]
  },
  {
   "cell_type": "markdown",
   "id": "318fe957-c4cd-4a42-b31a-b0bb3e0036d1",
   "metadata": {},
   "source": [
    "![](figures/MLPG-OC-NN.png)"
   ]
  },
  {
   "cell_type": "markdown",
   "id": "339d91d3-a671-4454-aec9-9d1c65514346",
   "metadata": {},
   "source": [
    "### 18.9.1. Types of Neural Networks\n",
    "* Neural networks (NNs) require lots of computing power that traditional ML algorithms don’t, however, they are the core of the deep learning revolution powering applications like Unmanned Aerial Vehicles (AUVs), self-driving cars, speech recognition, image recognition, etc.\n",
    "* There are 3 types of NNs and they are:\n",
    "  - Multi-layer Perceptrons (MLP)\n",
    "    - A group of multiple perceptrons/neurons at each layer\n",
    "    - ANN is also known as a Feed-Forward Neural network because inputs are processed only in the forward direction\n",
    "    - These are FeedForward NNs that are comprised of an input layer, one or more hidden layers, and an output layer\n",
    "    - These types are the foundation for computer vision and Natural Language Processing\n",
    "  - Recurrent Neural Networks (RNN)\n",
    "    - Has a recurrent connection on the hidden state, and this looping constraint ensures that sequential information is captured in the input data\n",
    "    - RNNs are identified by their feedback loops. These learning algorithms are primarily leveraged when using time-series data to make predictions about future outcomes, such as stock market predictions or sales forecasting\n",
    "  - Convolutional Neural Networks (CNN)\n",
    "    - The building blocks of CNNs are **filters** a.k.a. **kernels** that are used to extract the relevant features from the input using the convolution operation\n",
    "    - CNNs are similar to feedforward networks, but they’re usually utilized for image recognition, pattern recognition, and/or computer vision\n",
    "    - These networks harness principles from linear algebra, particularly matrix multiplication, to identify patterns within an image"
   ]
  },
  {
   "cell_type": "markdown",
   "id": "fbcd2661-6b12-43b1-8415-f4e3864d4891",
   "metadata": {},
   "source": [
    "![](figures/MLPG-OC-NNTypes1.png)<br>\n",
    "![](figures/MLPG-OC-NNTypes2.png)<br>\n",
    "&emsp;&emsp;&emsp;&emsp;&emsp;&emsp;&emsp;&emsp;&emsp;&emsp;&emsp;&emsp;&emsp; **`Output of convolution`**<br><br>\n",
    "![](figures/MLPG-OC-NNTypes3.png)"
   ]
  },
  {
   "cell_type": "markdown",
   "id": "f83e8997-3d3c-49f8-a0c5-db8bd985a676",
   "metadata": {},
   "source": [
    "<!--NAVIGATION-->\n",
    "<br>\n",
    "\n",
    "<[ [Other Considerations - Recommender Systems](18.08-mlpg-Other-Considerations-RecommenderSystems.ipynb) | [Contents and Acronyms](00.00-mlpg-Contents-and-Acronyms.ipynb) | [Other Considerations - Databases](18.10-mlpg-Other-Considerations-Databases.ipynb) ]>"
   ]
  }
 ],
 "metadata": {
  "kernelspec": {
   "display_name": "Python 3",
   "language": "python",
   "name": "python3"
  },
  "language_info": {
   "codemirror_mode": {
    "name": "ipython",
    "version": 3
   },
   "file_extension": ".py",
   "mimetype": "text/x-python",
   "name": "python",
   "nbconvert_exporter": "python",
   "pygments_lexer": "ipython3",
   "version": "3.8.8"
  }
 },
 "nbformat": 4,
 "nbformat_minor": 5
}
