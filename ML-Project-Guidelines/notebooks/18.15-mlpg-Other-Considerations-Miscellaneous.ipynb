{
 "cells": [
  {
   "cell_type": "markdown",
   "id": "157ef75f-3b9c-45e8-9a18-7846f6fef70e",
   "metadata": {},
   "source": [
    "<!--BOOK_INFORMATION-->\n",
    "<img align=\"left\" style=\"padding-right:10px;\" src=\"figures/MLPG-Book-Cover-Small.png\"><br>\n",
    "\n",
    "This notebook contains an excerpt from the **`Machine Learning Project Guidelines - For Beginners`** book written by *Balasubramanian Chandran*; the content is available [on GitHub](https://github.com/BalaChandranGH/Books/ML-Project-Guidelines)."
   ]
  },
  {
   "cell_type": "markdown",
   "id": "4722a182-79f3-42cb-ad36-b66ee6dfa1ea",
   "metadata": {},
   "source": [
    "<br>\n",
    "<!--NAVIGATION-->\n",
    "\n",
    "<[ [Other Considerations - Definitions](18.14-mlpg-Other-Considerations-Definitions.ipynb) | [Contents and Acronyms](00.00-mlpg-Contents-and-Acronyms.ipynb) | [Text Analytics – An Introduction](19.00-mlpg-Text-Analytics–An-Introduction.ipynb) ]>"
   ]
  },
  {
   "cell_type": "markdown",
   "id": "f7d68056-bfad-47bb-bf18-b542f4cb466a",
   "metadata": {},
   "source": [
    "# 18. Other Considerations"
   ]
  },
  {
   "cell_type": "markdown",
   "id": "9df61e0b-6b87-4d7f-8ece-7754ed7a0965",
   "metadata": {},
   "source": [
    "## 18.15. Miscellaneous"
   ]
  },
  {
   "cell_type": "markdown",
   "id": "d6c6ea75-ea34-4e0e-92d6-900ce1ec8b74",
   "metadata": {},
   "source": [
    "### 18.15.1. Pipeline\n",
    "* A linear sequence of data preparation and modeling steps that can be treated as an atomic unit"
   ]
  },
  {
   "cell_type": "markdown",
   "id": "4aeda505-5b4e-44d3-9d89-e921631df909",
   "metadata": {},
   "source": [
    "### 18.15.2. Kernel and Kernel trick"
   ]
  },
  {
   "cell_type": "markdown",
   "id": "d9526427-edf1-4925-9bbf-97b39c6c4fbf",
   "metadata": {},
   "source": [
    "**Kernel:**\n",
    "* Kernels allow us to make complex, non-linear classifiers using SVM\n",
    "* A kernel is a shortcut that helps us do certain calculations faster which otherwise would involve computations in higher-dimensional space\n",
    "* A **kernel is a weighing factor** between two sequences of data. This weighting factor can assign more weight to one \"data point\" at one \"time point\" than the other \"data point\", or assign an equal weight or assign more weight to the other \"data point\" and so on\n",
    "* A kernel is a way of computing the dot product of two vectors **X** and **Y** in some (possibly very high dimensional) feature space, which is why kernel functions are sometimes called \"generalized dot product\""
   ]
  },
  {
   "cell_type": "markdown",
   "id": "22af8f7d-11db-4e20-ace7-a80a7e49aa0b",
   "metadata": {},
   "source": [
    "**Kernel Trick:**\n",
    "* A simple method where non-Linear data is projected onto a higher dimension space to make it easier to classify the data where it could be linearly divided by a plane, e.g., project 2D data into 3D space; the trick is just to project data points without actually transforming them to a new dimension space<br>\n",
    "<img align=\"left\" style=\"padding-right:10px;\" src=\"figures/MLPG-OC-KernelTrick.png\"><br>\n",
    "<br><br><br>\n",
    "Image credit [ (Source) ](https://www.analyticsvidhya.com/)"
   ]
  },
  {
   "cell_type": "markdown",
   "id": "5e2cfc56-68c4-4d91-8ff7-600004d2d071",
   "metadata": {},
   "source": [
    "* **Mathematical definition of Kernel:**<br>\n",
    "  `K(x, y) = <f(x), f(y)>` where `K` is the kernel function, `x`, `y` are n dimensional inputs, `f` is a map from n-dimension to m-dimension space, `<x, y>` denotes the dot product, usually `m > n`\n",
    "* **Example:**<br>\n",
    "  ```\n",
    "  x = (x1, x2, x3); y = (y1, y2, y3), then,\n",
    "  Function f(x) = (x1x1, x1x2, x1x3, x2x1, x2x2, x2x3, x3x1, x3x2, x3x3)\n",
    "  Function f(y) = (y1y1, y1y2, y1y3, y2y1, y2y2, y2y3, y3y1, y3y2, y3y3)\n",
    "  The kernel K(x, y ) = (<x, y>)^2\n",
    "\n",
    "  Suppose x = (1, 2, 3); y = (4, 5, 6), then,\n",
    "  f(x) = (1, 2, 3, 2, 4, 6, 3, 6, 9)\n",
    "  f(y) = (16, 20, 24, 20, 25, 30, 24, 30, 36)\n",
    "  <f(x), f(y)> = 16 + 40 + 72 + 40 + 100+ 180 + 72 + 180 + 324 = 1024\n",
    "  ```\n",
    "  <br>A lot of algebra. Mainly because f is a mapping from 3D to 9D space. Now let us use the kernel instead:\n",
    "  ```\n",
    "  K(x, y) = (4 + 10 + 18 ) ^2 = 32^2 = 1024\n",
    "  ```\n",
    "  Same result, but this calculation is so much easier."
   ]
  },
  {
   "cell_type": "markdown",
   "id": "a589a608-8b34-4615-964e-17f3249bbddc",
   "metadata": {},
   "source": [
    "* **An additional beauty of Kernel**: kernels allow us to do stuff in infinite dimensions! Sometimes going to a higher dimension is not just computationally expensive, but also impossible. f(x) can be a mapping from n dimension to an infinite dimension which we may have little idea of how to deal with. Then kernel gives us a wonderful shortcut"
   ]
  },
  {
   "cell_type": "markdown",
   "id": "3b5f22b9-8742-4fba-a96d-a9d4adfff06c",
   "metadata": {},
   "source": [
    "### 18.15.3. A Dimensionality Reduction problem description\n",
    "* Designing a model with too many and too many observations (rows) and variables (columns) will be taxed too much on computation\n",
    "* For efficiency, we need to group the observations and variables and keep the numbers to minimal\n",
    "* **Too many observations:**\n",
    "  - Interested to see how observations hand together\n",
    "    - Market segmentation\n",
    "    - Types of observation\n",
    "    - Grouping observations together\n",
    "    - **Solution**: To reduce the dimensions of the population (i.e., observations), use **Cluster Analysis**\n",
    "* **Too many variables:**\n",
    "  - Interested to see how variables hand together\n",
    "    - Variables may describe similar things\n",
    "    - What is the underlying similarity\n",
    "    - Grouping variables\n",
    "    - Don't want to enter all the variables in the model - inefficient, computationally expensive, potentially high correlations among variables\n",
    "    - **Solution**: To reduce the dimensions of the construct (i.e., variables), use **PCA** and **EFA**"
   ]
  },
  {
   "cell_type": "markdown",
   "id": "e849b3cf-25aa-488d-8dca-a566c8411f39",
   "metadata": {},
   "source": [
    "### 18.15.4. Big data and its characteristics?\n",
    "* Big data is a term for datasets that are so large or complex that traditional data processing application software is inadequate to deal with them\n",
    "* Big Data is about deriving new insight from previously untouched data and integrating that insight into the business operations — data warehouses, business processes, and applications\n",
    "* Big data is about the application of new tools to do MORE analytics on MORE data for MORE people\n",
    "* The characteristics of big data are as follows:<br>"
   ]
  },
  {
   "cell_type": "markdown",
   "id": "c004e0f4-0502-454c-ae70-2d6c6f9f634a",
   "metadata": {},
   "source": [
    "<img align=\"left\" style=\"padding-right:10px;\" src=\"figures/MLPG-OC-BigDataChar1.png\"><br>\n",
    "<br><br><br><br><br>\n",
    "Image credit [ (Source) ](https://bigdatapath.wordpress.com/2019/11/13/understanding-the-7-vs-of-big-data/)"
   ]
  },
  {
   "cell_type": "markdown",
   "id": "52b88d65-e071-4946-8a1f-388560e85ec6",
   "metadata": {},
   "source": [
    "<img align=\"left\" style=\"padding-right:10px;\" src=\"figures/MLPG-OC-BigDataChar2.png\"><br>\n",
    "<br><br><br><br><br><br><br><br><br>\n",
    "Image credit [ (Source) ](https://www.researchgate.net/figure/The-7Vs-of-Big-Data-Volume-Velocity-Variety-Variability-Veracity-Value-and_fig1_341622174)"
   ]
  },
  {
   "cell_type": "markdown",
   "id": "421323ae-0051-4131-ad38-57382aa21380",
   "metadata": {},
   "source": [
    "### 18.15.5. Web scraping and its use-cases\n",
    "* **Web scraping** is also known as **Web Data Extraction** or **Data scraping** or **Web harvesting**\n",
    "* It’s the process of collecting structured web data in an automated fashion from any public website\n",
    "* It uses intelligent automation to retrieve 100s, millions, or billions of data points from the internet\n",
    "* In general, it’s used by people and businesses who want to make use of the vast amount of publicly available web data to make smarter decisions\n",
    "* Some of the use-cases of web scraping:\n",
    "  - E-commerce\n",
    "    - Competitor price monitoring\n",
    "  - Manufacturing - MAP (Minimum advertised price) monitoring\n",
    "    - MAP monitoring ensures retailers are compliant with pricing guidelines for their products\n",
    "    - MAP monitoring is the standard practice to make sure a brand’s online prices are aligned with its pricing policy\n",
    "    - With tons of resellers and distributors, it’s impossible to monitor the prices manually\n",
    "  - Market research \n",
    "    - Organizations and analysts depend on web scraping to gauge consumer sentiments by keeping track of online product reviews, news articles, and feedback\n",
    "  - Finance \n",
    "    - Web scraping tools are used to extract insight from news stories which is used to guide investment strategies\n",
    "  - Insurance \n",
    "    - Companies mine a rich seam of alternative data scraped from the web to design new products and policies for their customers\n",
    "  - Price intelligence\n",
    "    - Dynamic pricing\n",
    "    - Revenue optimization\n",
    "    - Competitor monitoring\n",
    "    - Product trend monitoring\n",
    "    - Brand and MAP compliance\n",
    "  - Market research\n",
    "    - Market trend analysis\n",
    "    - Market pricing\n",
    "    - Optimizing point of entry\n",
    "    - Research & development\n",
    "    - Competitor monitoring\n",
    "  - Alternative data for finance\n",
    "    - Extracting Insights from SEC Filings\n",
    "    - Estimating Company Fundamentals\n",
    "    - Public Sentiment Integrations\n",
    "    - News Monitoring\n",
    "  - Real estate\n",
    "    - Appraising Property Value\n",
    "    - Monitoring Vacancy Rates\n",
    "    - Estimating Rental Yields\n",
    "    - Understanding Market Direction\n",
    "  - News & content monitoring\n",
    "    - Investment Decision Making\n",
    "    - Online Public Sentiment Analysis\n",
    "    - Competitor Monitoring\n",
    "    - Political Campaigns\n",
    "  - Lead generation, Brand monitoring, Business automation, Journalism, Academic research, and more"
   ]
  },
  {
   "cell_type": "markdown",
   "id": "8e45da73-2765-428c-8c99-6e6b2fe8dba2",
   "metadata": {},
   "source": [
    "### 18.15.6. Resilient Distributed Dataset (RDD)\n",
    "* An RDD is a collection of elements portioned across the nodes of a cluster that can be operated on in parallel, in other words, an RDD is made up of multiple partitions\n",
    "* Spark normally determines the number of partitions based on the number of CPUs in your cluster\n",
    "* Each partition has a sequence of records on which tasks will execute on\n",
    "* The partitioning is what enables the parallel execution of Spark jobs"
   ]
  },
  {
   "cell_type": "markdown",
   "id": "86c94ae3-4560-4388-9374-56a8f3ab9a75",
   "metadata": {},
   "source": [
    "### 18.15.7. How to choose a data layer for an application?\n",
    "* It depends on the types of questions to ask and how long one can wait for the answers\n",
    "* One needs to find answers to some of the questions, if not all, mentioned below, before choosing:"
   ]
  },
  {
   "cell_type": "markdown",
   "id": "4a67663f-9c61-4198-9971-1eb48e99d977",
   "metadata": {},
   "source": [
    "* **Database functionality and performance**: **`Choice - NoSQL or RDBMS`**\n",
    "  - If you have a web or mobile application that requires `interactive responses`, then you will want to use a database that aims to be an operational data store; `NoSQL databases` may be a good choice\n",
    "  - If your application requires data warehousing for `batch analytics`, then often a `relational database or Hadoop-based technology` would be a better fit"
   ]
  },
  {
   "cell_type": "markdown",
   "id": "84d662f6-b89e-49b0-9b47-3758bcce4e7f",
   "metadata": {},
   "source": [
    "* **Database Size and Number of Connections: `Choice - NoSQL`**\n",
    "  - How big your data will get and how many `concurrent connections` do you expect? \n",
    "  - Will you need a `scalable solution horizontally`, don’t completely know your capacity requirements upfront, or need something that scales as your application grows?\n",
    "  - Then a `NoSQL database` might be a good choice"
   ]
  },
  {
   "cell_type": "markdown",
   "id": "09ff9348-0c4d-47a1-947c-1a75b3ef2476",
   "metadata": {},
   "source": [
    "* **Data Durability: `Choice – RDBMS`**\n",
    "  - Some databases offer the ability to store your data in memory for faster access, however, with this approach, there is an increased risk of losing the data when a server crashes\n",
    "  - If data `durability` is paramount, then choose a `database that writes the data immediately to the disk`"
   ]
  },
  {
   "cell_type": "markdown",
   "id": "1571b5fa-9e15-4580-919b-58e192952d07",
   "metadata": {},
   "source": [
    "* **Database Consistency and Transaction Requirements: `Choice - RDBMS`**\n",
    "  - Relational databases provide strong consistency and transactional rollback capabilities and would be a good choice if you have a use case that requires these traits"
   ]
  },
  {
   "cell_type": "markdown",
   "id": "54b38d52-684a-49a5-a1f9-d42ddf5a8032",
   "metadata": {},
   "source": [
    "* **Database Availability, Replication, and Geography: `Choice – NoSQL (few not all types)`**\n",
    "  - Many `NoSQL databases` operate inherently in a cluster and therefore can meet stringent `high availability requirements`\n",
    "  - Data `replication` is an important feature to achieve disaster recovery objectives by storing the data in additional data centers and allowing for syncing to application clients for offline access\n",
    "  - A few, but not all, `NoSQL databases` are built to handle these complex replication scenarios while avoiding data corruption"
   ]
  },
  {
   "cell_type": "markdown",
   "id": "8453a621-6cd7-448c-b138-47a9779be37b",
   "metadata": {},
   "source": [
    "* **Data Structure Changes: `Choice - NoSQL`**\n",
    "  - Will I need a `flexible schema` for rapid development? Will the data model change over time?\n",
    "  - Flexible schemas are a common trait amongst many `NoSQL databases`\n",
    "  - If you require a flexible schema for rapid development where your data model may change over time, then you will often want to go with a NoSQL database for your application. \n",
    "  - Many of them require no database downtime while making schema changes, making development easier and faster"
   ]
  },
  {
   "cell_type": "markdown",
   "id": "2cf0d6a1-8bda-4dd5-9956-e650b38768fa",
   "metadata": {},
   "source": [
    "* **Database Developer and Administrator Skills: `Choice – Based on the skillsets of the existing resources`**\n",
    "  - It is important to assess the skill sets of those developing the application, and administering the database and servers?\n",
    "  - Make sure you `choose a technology that fits with your existing resources` before bringing it on-premise in your environment"
   ]
  },
  {
   "cell_type": "markdown",
   "id": "502008f1-daff-4b15-8e3f-85819b6d8dd8",
   "metadata": {},
   "source": [
    "* **Database Integration: `Choice – NoSQL or RDBMS`**\n",
    "  - Think about whether or not your database layer can integrate easily with your application layer\n",
    "  - For `web and mobile applications that use JSON`, use a `NoSQL` DB that also uses JSON\n",
    "  - However, if the business intelligence tools (or reporting dashboard) are expecting to `consume rows/columns`, then a `relational datastore` might work better for you"
   ]
  },
  {
   "cell_type": "markdown",
   "id": "412b6bdf-4450-48e9-9a86-31e5475fa519",
   "metadata": {},
   "source": [
    "* **Database System Hosting: `Choice - DIY or Hosted or DBaaS`**\n",
    "  - Do I want to host it myself or use cloud infrastructure or a fully managed service?"
   ]
  },
  {
   "cell_type": "markdown",
   "id": "d9ed9335-77c0-4a2f-a7cb-16028cef5b83",
   "metadata": {},
   "source": [
    "<img align=\"left\" style=\"padding-right:10px;\" src=\"figures/MLPG-OC-DBHosting.png\"><br>\n",
    "<br><br><br><br><br>\n",
    "Image credit [ (Source) ](https://cognitiveclass.ai/)"
   ]
  },
  {
   "cell_type": "markdown",
   "id": "a2f3f140-749e-4ee2-a91c-269ea068e391",
   "metadata": {},
   "source": [
    "<!--NAVIGATION-->\n",
    "<br>\n",
    "\n",
    "<[ [Other Considerations - Definitions](18.14-mlpg-Other-Considerations-Definitions.ipynb) | [Contents and Acronyms](00.00-mlpg-Contents-and-Acronyms.ipynb) | [Text Analytics – An Introduction](19.00-mlpg-Text-Analytics–An-Introduction.ipynb) ]>"
   ]
  }
 ],
 "metadata": {
  "kernelspec": {
   "display_name": "Python 3",
   "language": "python",
   "name": "python3"
  },
  "language_info": {
   "codemirror_mode": {
    "name": "ipython",
    "version": 3
   },
   "file_extension": ".py",
   "mimetype": "text/x-python",
   "name": "python",
   "nbconvert_exporter": "python",
   "pygments_lexer": "ipython3",
   "version": "3.8.8"
  }
 },
 "nbformat": 4,
 "nbformat_minor": 5
}
