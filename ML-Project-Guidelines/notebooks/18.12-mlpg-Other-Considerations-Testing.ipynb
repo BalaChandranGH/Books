{
 "cells": [
  {
   "cell_type": "markdown",
   "id": "bbd7099a-9a9b-4ca1-b9f2-b64a83f3efd4",
   "metadata": {},
   "source": [
    "<!--BOOK_INFORMATION-->\n",
    "<img align=\"left\" style=\"padding-right:10px;\" src=\"figures/MLPG-Book-Cover-Small.png\"><br>\n",
    "\n",
    "This notebook contains an excerpt from the **`Machine Learning Project Guidelines - For Beginners`** book written by *Balasubramanian Chandran*; the content is available [on GitHub](https://github.com/BalaChandranGH/Books/ML-Project-Guidelines)."
   ]
  },
  {
   "cell_type": "markdown",
   "id": "c0e7b465-8e24-4d80-917e-f63e1bbd1c41",
   "metadata": {},
   "source": [
    "<br>\n",
    "<!--NAVIGATION-->\n",
    "\n",
    "<[ [Other Considerations - Python Libraries](18.11-mlpg-Other-Considerations-Python-Libraries.ipynb) | [Contents and Acronyms](00.00-mlpg-Contents-and-Acronyms.ipynb) | [Other Considerations - Deep Learning](18.13-mlpg-Other-Considerations-Deep-Learning.ipynb) ]>"
   ]
  },
  {
   "cell_type": "markdown",
   "id": "9a6eb7c7-ab58-4366-9eee-d564d10ecd79",
   "metadata": {},
   "source": [
    "# 18. Other Considerations"
   ]
  },
  {
   "cell_type": "markdown",
   "id": "def64c2a-77b3-4439-936e-d0cc4a7337e0",
   "metadata": {},
   "source": [
    "## 18.12. Testing"
   ]
  },
  {
   "cell_type": "markdown",
   "id": "236a960a-cd1a-4acc-beab-c7a12a02cfa2",
   "metadata": {},
   "source": [
    "### 18.12.1. A/B testing (aka Split Testing)\n",
    "* A user experience research methodology\n",
    "* A/B tests consist of a randomized experiment with two variants, A and B where you compare two different groups to see which performs better based on a given metric\n",
    "* A/B testing eliminates all the guesswork out of website optimization and enables experience optimizers to make data-backed decisions\n",
    "* The version that moves your business metric(s) in the positive direction is known as the ‘winner.’ Implementing the changes of this winning variation on your tested page(s) / element(s) can help optimize your website and increase business ROI"
   ]
  },
  {
   "cell_type": "markdown",
   "id": "19b8f78b-8dcf-493b-8393-662dd3a7f5b6",
   "metadata": {},
   "source": [
    "### 18.12.2. Hypothesis Testing"
   ]
  },
  {
   "cell_type": "markdown",
   "id": "bd9be24d-ed50-4a0d-98b2-527b6f713fa7",
   "metadata": {},
   "source": [
    "* **Introduction**\n",
    "  - A hypothesis is an assumption that we make about the population parameter\n",
    "  - A Hypothesis testing is a statistical tool where we test the above assumption on the population parameter\n",
    "  - Hypothesis testing is used to infer the result of a hypothesis performed on sample data from a larger population"
   ]
  },
  {
   "cell_type": "markdown",
   "id": "23e8eb61-d1ca-40f3-a191-1c5b309b7421",
   "metadata": {},
   "source": [
    "* **Types of Hypothesis**\n",
    "  - Null hypothesis (**Ho**)\n",
    "    - Assumes that the difference in observations is due to a random factor\n",
    "  - Alternate hypothesis (**H1**)\n",
    "    - Assumes that differences in observations are the result of a real effect (opposite of **Ho**)"
   ]
  },
  {
   "cell_type": "markdown",
   "id": "ce69a731-612e-488c-879a-3f66a29c4dd1",
   "metadata": {},
   "source": [
    "* **P-value** (Probability value)\n",
    "  - The p-value is the probability that a given result would occur under the null hypothesis\n",
    "  - It is the probability of finding the observed results when the null hypothesis (Ho) is true\n",
    "  - The p-value does not provide the probability that either hypothesis is correct\n",
    "  - A p-value is used to help you support or reject the null hypothesis\n",
    "  - The p-value is the evidence against a null hypothesis\n",
    "  - The smaller the p-value, the stronger the evidence that you should reject the null hypothesis\n",
    "  - In a hypothesis test, we compare the p-value from the test to the alpha level\n",
    "  - p-values are calculated using p-value tables"
   ]
  },
  {
   "cell_type": "markdown",
   "id": "10d39b5b-8804-445b-a1b7-f326ab7ff17a",
   "metadata": {},
   "source": [
    "* **Significance Level**\n",
    "  - The significance level is the probability of rejecting the null hypothesis (Ho) when it is true\n",
    "  - The most practical value of significance level, accepted across all business cases is 5%. Other values of significance level could be 1% or 0.5%.\n",
    "  - This 5% is called the Significance level and is also known as the alpha level (symbolized as **α**)."
   ]
  },
  {
   "cell_type": "markdown",
   "id": "a9cd778e-f4cf-4a4e-a67c-3553dbbb9cda",
   "metadata": {},
   "source": [
    "* **Confidence Interval**\n",
    "  - A confidence interval is a range of values within which our true value may lie\n",
    "  - The confidence level is designated before examining the data. Most commonly the 95% confidence level is used. However, other confidence levels like 90% and 99% can also be used\n",
    "  - Various factors that affect the width of the confidence interval are the size of the sample, the confidence level, and the variability in the sample\n",
    "  - A larger sample will tend to produce a better estimate of the population parameter when all other factors are equal\n",
    "  - A higher confidence level will tend to produce a higher confidence interval"
   ]
  },
  {
   "cell_type": "markdown",
   "id": "06ab1d12-c8a3-40f4-b94c-8c21ada46789",
   "metadata": {},
   "source": [
    "* **Type I and Type II errors**\n",
    "  - Type I error describes the error that occurs when we reject the true null hypothesis (**false negative**)\n",
    "  - Type II error describes the error that occurs when we reject a false null hypothesis (**false positive**)\n",
    "![](figures/MLPG-OC-TypeITypeIIErrors.png)"
   ]
  },
  {
   "cell_type": "markdown",
   "id": "56799575-c9ef-401a-8b37-e43abe0f7d73",
   "metadata": {},
   "source": [
    "* **Decision Criteria**\n",
    "  - We have carried out a hypothesis test. Now, it is time for decision-making\n",
    "  - The decision-making means deciding whether to reject or do not reject the null hypothesis (Ho) \n",
    "  - There are two ways to decide whether we should reject or do not reject the null hypothesis (Ho)\n",
    "    - Using significance level\n",
    "    - Using P-value"
   ]
  },
  {
   "cell_type": "markdown",
   "id": "0de40517-dba7-4006-8ac9-9fc4d7d2dffb",
   "metadata": {},
   "source": [
    "<!--NAVIGATION-->\n",
    "<br>\n",
    "\n",
    "<[ [Other Considerations - Python Libraries](18.11-mlpg-Other-Considerations-Python-Libraries.ipynb) | [Contents and Acronyms](00.00-mlpg-Contents-and-Acronyms.ipynb) | [Other Considerations - Deep Learning](18.13-mlpg-Other-Considerations-Deep-Learning.ipynb) ]>"
   ]
  }
 ],
 "metadata": {
  "kernelspec": {
   "display_name": "Python 3",
   "language": "python",
   "name": "python3"
  },
  "language_info": {
   "codemirror_mode": {
    "name": "ipython",
    "version": 3
   },
   "file_extension": ".py",
   "mimetype": "text/x-python",
   "name": "python",
   "nbconvert_exporter": "python",
   "pygments_lexer": "ipython3",
   "version": "3.8.8"
  }
 },
 "nbformat": 4,
 "nbformat_minor": 5
}
