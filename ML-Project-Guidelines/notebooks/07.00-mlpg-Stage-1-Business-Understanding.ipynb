{
 "cells": [
  {
   "cell_type": "markdown",
   "id": "1cb3f245-e4ce-4ac2-8780-8ad159f322d7",
   "metadata": {},
   "source": [
    "<!--BOOK_INFORMATION-->\n",
    "<img align=\"left\" style=\"padding-right:10px;\" src=\"figures/MLPG-Book-Cover-Small.png\"><br>\n",
    "\n",
    "This notebook contains an excerpt from the **`Machine Learning Project Guidelines - For Beginners`** book written by *Balasubramanian Chandran*; the content is available [on GitHub](https://github.com/BalaChandranGH/Books/ML-Project-Guidelines)."
   ]
  },
  {
   "cell_type": "markdown",
   "id": "4795b636-364b-4161-a9ea-20ecc6eb15a7",
   "metadata": {},
   "source": [
    "<br>\n",
    "<!--NAVIGATION-->\n",
    "\n",
    "<[ [Machine Learning Project – Process-Definition](06.00-mlpg-Machine-Learning-Project–Process-Definition.ipynb) | [Contents and Acronyms](00.00-mlpg-Contents-and-Acronyms.ipynb) | [Stage-2: Data Understanding](08.00-mlpg-Stage-2-Data-Understanding.ipynb) ]>"
   ]
  },
  {
   "cell_type": "markdown",
   "id": "e1ac1907-fcea-4c07-8c9a-fbffe95971a0",
   "metadata": {},
   "source": [
    "# 7. Stage-1: Business Understanding"
   ]
  },
  {
   "cell_type": "markdown",
   "id": "b5f08a36-9fa1-4fda-8002-21549692f9c1",
   "metadata": {},
   "source": [
    "During this stage, the ML Problem to be solved is clearly understood and documented here. It would be a good idea to describe the problem in both terms:\n",
    "* Problem statement in business terms (Business problem)\n",
    "* Problem statement in analytical terms (Converted analytics problem)"
   ]
  },
  {
   "cell_type": "markdown",
   "id": "aeb5e8ee-bdc5-4127-9b56-7be2ae597254",
   "metadata": {},
   "source": [
    "## 7.1. Deliverables from Stage-1\n",
    "* A clear understanding of the problem to be solved by the ML model\n",
    "  - Business problem\n",
    "  - Converted analytical problem"
   ]
  },
  {
   "cell_type": "markdown",
   "id": "d9f52cdd-b243-4179-b3c7-1379aab51950",
   "metadata": {},
   "source": [
    "## 7.2. Notebook development tips"
   ]
  },
  {
   "cell_type": "code",
   "execution_count": null,
   "id": "6a1588eb-294e-4b4f-9b34-26ed9a8106f4",
   "metadata": {},
   "outputs": [],
   "source": [
    "###   (1.1) PROJECT DESCRIPTION   ###\n",
    "\n",
    "# Problem statement: <Brief description of the problem in both business and analytical terms>\n",
    "# Type of the problem: <Supervised / Unsupervised /..., Regression / Classification /...>\n",
    "# Data source: <Mention the source(s) of data>\n",
    "# Author: <Name(s) of the developer(s)>"
   ]
  },
  {
   "cell_type": "markdown",
   "id": "42b370e6-02c5-4ba4-8dc6-1ad275f7923d",
   "metadata": {},
   "source": [
    "<!--NAVIGATION-->\n",
    "<br>\n",
    "\n",
    "<[ [Machine Learning Project – Process-Definition](06.00-mlpg-Machine-Learning-Project–Process-Definition.ipynb) | [Contents and Acronyms](00.00-mlpg-Contents-and-Acronyms.ipynb) | [Stage-2: Data Understanding](08.00-mlpg-Stage-2-Data-Understanding.ipynb) ]>"
   ]
  }
 ],
 "metadata": {
  "kernelspec": {
   "display_name": "Python 3",
   "language": "python",
   "name": "python3"
  },
  "language_info": {
   "codemirror_mode": {
    "name": "ipython",
    "version": 3
   },
   "file_extension": ".py",
   "mimetype": "text/x-python",
   "name": "python",
   "nbconvert_exporter": "python",
   "pygments_lexer": "ipython3",
   "version": "3.8.8"
  }
 },
 "nbformat": 4,
 "nbformat_minor": 5
}
