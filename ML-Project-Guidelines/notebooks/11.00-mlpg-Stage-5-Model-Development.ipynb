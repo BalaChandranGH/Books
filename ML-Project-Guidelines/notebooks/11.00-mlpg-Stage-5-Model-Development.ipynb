{
 "cells": [
  {
   "cell_type": "markdown",
   "id": "7d771ff6-a251-4057-85b7-e1a09a21a58f",
   "metadata": {},
   "source": [
    "<!--BOOK_INFORMATION-->\n",
    "<img align=\"left\" style=\"padding-right:10px;\" src=\"figures/MLPG-Book-Cover-Small.png\"><br>\n",
    "\n",
    "This notebook contains an excerpt from the **`Machine Learning Project Guidelines - For Beginners`** book written by *Balasubramanian Chandran*; the content is available [on GitHub](https://github.com/BalaChandranGH/Books/ML-Project-Guidelines)."
   ]
  },
  {
   "cell_type": "markdown",
   "id": "4f36aaf8-8849-4fa4-ac99-bcb2498b9620",
   "metadata": {},
   "source": [
    "<br>\n",
    "<!--NAVIGATION-->\n",
    "\n",
    "<[ [Stage-4: Data Preprocessing](10.00-mlpg-Stage-4-Data-Preprocessing.ipynb) | [Contents and Acronyms](00.00-mlpg-Contents-and-Acronyms.ipynb) | [Stage-6: Model Training](12.00-mlpg-Stage-6-Model-Training.ipynb) ]>"
   ]
  },
  {
   "cell_type": "markdown",
   "id": "9850a894-1111-4b8d-bbc8-a487aaabb9dd",
   "metadata": {},
   "source": [
    "# 11. Stage-5: Model Development"
   ]
  },
  {
   "cell_type": "markdown",
   "id": "295beb10-475b-4455-b1bc-f995c44bf238",
   "metadata": {},
   "source": [
    "ML team owns full responsibility for this stage. During this stage, the ML models are developed using the selected list of algorithms at Stage 3 and the pre-processed data at Stage 4. The model could be developed from scratch or fine-tune a pre-trained / available one."
   ]
  },
  {
   "cell_type": "markdown",
   "id": "62ce70ba-9004-458a-b774-2bcc0d22e469",
   "metadata": {},
   "source": [
    "## 11.1. Deliverables from Stage-5\n",
    "* Developed model ready for training\n",
    "* Optimized model for on-device usage (Model conversion if needed)"
   ]
  },
  {
   "cell_type": "markdown",
   "id": "61b8c8e4-f16f-4fc2-8462-5d84860e1352",
   "metadata": {},
   "source": [
    "## 11.2. Notebook development tips"
   ]
  },
  {
   "cell_type": "raw",
   "id": "9b60165b-7a8b-4adc-b49d-6eb942fae1ce",
   "metadata": {},
   "source": [
    "###   MODEL DEVELOPMENT   ###\n",
    "\n",
    "# Build models using the selected list of algorithms"
   ]
  },
  {
   "cell_type": "markdown",
   "id": "a9e74b23-41fc-4af7-9585-f536e73ab8da",
   "metadata": {},
   "source": [
    "<!--NAVIGATION-->\n",
    "<br>\n",
    "\n",
    "<[ [Stage-4: Data Preprocessing](10.00-mlpg-Stage-4-Data-Preprocessing.ipynb) | [Contents and Acronyms](00.00-mlpg-Contents-and-Acronyms.ipynb) | [Stage-6: Model Training](12.00-mlpg-Stage-6-Model-Training.ipynb) ]>"
   ]
  }
 ],
 "metadata": {
  "kernelspec": {
   "display_name": "Python 3",
   "language": "python",
   "name": "python3"
  },
  "language_info": {
   "codemirror_mode": {
    "name": "ipython",
    "version": 3
   },
   "file_extension": ".py",
   "mimetype": "text/x-python",
   "name": "python",
   "nbconvert_exporter": "python",
   "pygments_lexer": "ipython3",
   "version": "3.8.8"
  }
 },
 "nbformat": 4,
 "nbformat_minor": 5
}
