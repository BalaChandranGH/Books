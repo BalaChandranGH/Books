{
 "cells": [
  {
   "cell_type": "markdown",
   "id": "48e8a7fd-b897-4193-a412-1883e947ee7f",
   "metadata": {},
   "source": [
    "<!--BOOK_INFORMATION-->\n",
    "<img align=\"left\" style=\"padding-right:10px;\" src=\"figures/MLPG-Book-Cover-Small.png\"><br>\n",
    "\n",
    "This notebook contains an excerpt from the **`Machine Learning Project Guidelines - For Beginners`** book written by *Balasubramanian Chandran*; the content is available [on GitHub](https://github.com/BalaChandranGH/Books/ML-Project-Guidelines)."
   ]
  },
  {
   "cell_type": "markdown",
   "id": "7d3f0ee6-62ee-4372-8c6d-ed7e9a0a1310",
   "metadata": {},
   "source": [
    "<br>\n",
    "<!--NAVIGATION-->\n",
    "\n",
    "<[ [Case Study 2: Develop and evaluate an Anomaly Detection system](21.02-mlpg-CS2-Develop-and-evaluate-an-Anomaly-Detection-system.ipynb) | [Contents and Acronyms](00.00-mlpg-Contents-and-Acronyms.ipynb) | [References](22.00-mlpg-References.ipynb) ]>"
   ]
  },
  {
   "cell_type": "markdown",
   "id": "d3c017df-d6d8-4b93-ac25-0877ebc38a67",
   "metadata": {},
   "source": [
    "# 21.3. Case Study 3: Normalize & sort dates using Regular Expressions"
   ]
  },
  {
   "cell_type": "markdown",
   "id": "f4ad8452-8d10-47db-963a-19565c5dceea",
   "metadata": {},
   "source": [
    "* A _`regular expression`_ (aka _`regex`_ or _`regexp`_) is a sequence of characters that define a search pattern\n",
    "* Usually, such patterns are used by string searching algorithms for \"find\" or \"find and replace\" operations on strings, or for input validation\n",
    "* Regular Expression module in Python is **`re`** (`import re` before using it)"
   ]
  },
  {
   "cell_type": "markdown",
   "id": "a35a37a3-822d-4003-b200-9e01818d8004",
   "metadata": {},
   "source": [
    "* **Date sorter function:**\n",
    "  - Identify all of the different date variants encoded in a dataset (examples are given below):\n",
    "    ```\n",
    "    * 04/20/2009; 04/20/09; 4/20/09; 4/3/09\n",
    "    * Mar-20-2009; Mar 20, 2009; March 20, 2009; Mar. 20, 2009; Mar 20 2009;\n",
    "    * 20 Mar 2009; 20 March 2009; 20 Mar. 2009; 20 March, 2009\n",
    "    * Mar 20th, 2009; Mar 21st, 2009; Mar 22nd, 2009\n",
    "    * Feb 2009; Sep 2009; Oct 2010\n",
    "    * 6/2008; 12/2009\n",
    "    * 2009; 2010\n",
    "    ```\n",
    "  - Normalize and sort the dates using the following function:<br>\n",
    "* **def date_sorter():**<br>\n",
    "    \\# _RE to extract dates in '1999' or '2019' formats_<br>\n",
    "    `re1 = '([1|2]\\d{3})'`\n",
    "    \n",
    "    \\# _RE to extract dates in '1/2019' or '01/1999' or '01-2019' or in any combination of these formats_<br>\n",
    "    `re2 = '(\\d{1,2}[/-][1|2]\\d{3})'`\n",
    "\n",
    "    \\# _RE to extract dates in '1/1/19' or '01-01-19' or '01/01/2019' or in any combination of these_<br>\n",
    "    `re3 = '(\\d{1,2}[/-]\\d{1,2}[/-]\\d{2,4})'`\n",
    "\n",
    "    \\# _RE to extract dates in 'Jan 2019' formats_<br>\n",
    "    `re4 = '((?:Jan|Feb|Mar|Apr|May|Jun|Jul|Aug|Sep|Oct|Nov|Dec)[\\S]*[+\\s]\\d{4})'`\n",
    "\n",
    "    \\# _RE to extract dates in '1 Jan 2019' or '01 Jan 2019' formats_<br>\n",
    "    `re5 = '(\\d{1,2}[+\\s](?:Jan|Feb|Mar|Apr|May|Jun|Jul|Aug|Sep|Oct|Nov|Dec)[\\S]*[+\\s]\\d{4})'`\n",
    "\n",
    "    \\# _RE to extract dates in 'Jan 1, 2019' or 'Jan 01, 2019' formats_<br>\n",
    "    `re6 = '((?:Jan|Feb|Mar|Apr|May|Jun|Jul|Aug|Sep|Oct|Nov|Dec)[\\S]*[+\\s]\\d{1,2}[,]{0,1}[+\\s]\\d{4})'`\n",
    "\n",
    "    \\# _Build the full regular expression_<br>\n",
    "    `rex = '(%s|%s|%s|%s|%s|%s)' %(re1, re2, re3, re4, re5, re6)`\n",
    "\n",
    "    \\# _Create new columns from the first match of the extracted groups (re1 to re6)_<br>\n",
    "    `extdate = df.str.extract(rex)`\n",
    "\n",
    "    \\# _Correct the spellings of two instances (this is an optional step)_<br>\n",
    "    `extdate = extdate.iloc[:,0].str.replace('Janaury', 'January').str.replace('Decemeber', 'December')`\n",
    "\n",
    "    \\# _Stamdardize the date formats (yyyy-mm-dd) and create a series_<br>\n",
    "    `extdate = pd.Series(pd.to_datetime(extdate))`\n",
    "\n",
    "    \\# _Sort the dates in ascending order as required_<br>\n",
    "    `extdate = extdate.sort_values(ascending=True).index`\n",
    "\n",
    "    **return** `pd.Series(extdate.values)`"
   ]
  },
  {
   "cell_type": "markdown",
   "id": "975c490f-8591-4364-97a5-6033210dc2ae",
   "metadata": {},
   "source": [
    "<!--NAVIGATION-->\n",
    "<br>\n",
    "\n",
    "<[ [Case Study 2: Develop and evaluate an Anomaly Detection system](21.02-mlpg-CS2-Develop-and-evaluate-an-Anomaly-Detection-system.ipynb) | [Contents and Acronyms](00.00-mlpg-Contents-and-Acronyms.ipynb) | [References](22.00-mlpg-References.ipynb) ]>"
   ]
  }
 ],
 "metadata": {
  "kernelspec": {
   "display_name": "Python 3",
   "language": "python",
   "name": "python3"
  },
  "language_info": {
   "codemirror_mode": {
    "name": "ipython",
    "version": 3
   },
   "file_extension": ".py",
   "mimetype": "text/x-python",
   "name": "python",
   "nbconvert_exporter": "python",
   "pygments_lexer": "ipython3",
   "version": "3.8.8"
  },
  "toc-autonumbering": false
 },
 "nbformat": 4,
 "nbformat_minor": 5
}
