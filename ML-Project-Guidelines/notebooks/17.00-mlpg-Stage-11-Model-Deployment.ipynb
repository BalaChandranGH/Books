{
 "cells": [
  {
   "cell_type": "markdown",
   "id": "a6e73ee2-448d-4c66-854d-4cce3c426006",
   "metadata": {},
   "source": [
    "<!--BOOK_INFORMATION-->\n",
    "<img align=\"left\" style=\"padding-right:10px;\" src=\"figures/MLPG-Book-Cover-Small.png\"><br>\n",
    "\n",
    "This notebook contains an excerpt from the **`Machine Learning Project Guidelines - For Beginners`** book written by *Balasubramanian Chandran*; the content is available [on GitHub](https://github.com/BalaChandranGH/Books/ML-Project-Guidelines)."
   ]
  },
  {
   "cell_type": "markdown",
   "id": "819c5c7c-f0b8-4dba-a42b-71ac05dd699d",
   "metadata": {},
   "source": [
    "<br>\n",
    "<!--NAVIGATION-->\n",
    "\n",
    "<[ [Stage-10: Model Validation](16.00-mlpg-Stage-10-Model-Validation.ipynb) | [Contents and Acronyms](00.00-mlpg-Contents-and-Acronyms.ipynb) | [Other Considerations - Machine Learning](18.01-mlpg-Other-Considerations-Machine-Learning.ipynb) ]>"
   ]
  },
  {
   "cell_type": "markdown",
   "id": "ec2bf32e-31e6-453a-a0e8-082edac5af4c",
   "metadata": {},
   "source": [
    "# 17. Stage-11: Model Deployment"
   ]
  },
  {
   "cell_type": "markdown",
   "id": "4f2a4b05-134d-4b5c-9ac7-329a05184a33",
   "metadata": {},
   "source": [
    "The model deployment into the production environment is usually done by the DS team along with the ML team. "
   ]
  },
  {
   "cell_type": "markdown",
   "id": "5833f88a-42ff-4bfd-a520-1f0bedaa28a7",
   "metadata": {},
   "source": [
    "## 17.1. Deliverables from Stage-11\n",
    "* Final model deployed into production\n",
    "* Deployment plan\n",
    "* Training & monitoring plan\n",
    "* Performance Monitoring System"
   ]
  },
  {
   "cell_type": "markdown",
   "id": "b2327296-a707-47c4-b3f2-63f1ab5d35de",
   "metadata": {},
   "source": [
    "<!--NAVIGATION-->\n",
    "<br>\n",
    "\n",
    "<[ [Stage-10: Model Validation](16.00-mlpg-Stage-10-Model-Validation.ipynb) | [Contents and Acronyms](00.00-mlpg-Contents-and-Acronyms.ipynb) | [Other Considerations - Machine Learning](18.01-mlpg-Other-Considerations-Machine-Learning.ipynb) ]>"
   ]
  }
 ],
 "metadata": {
  "kernelspec": {
   "display_name": "Python 3",
   "language": "python",
   "name": "python3"
  },
  "language_info": {
   "codemirror_mode": {
    "name": "ipython",
    "version": 3
   },
   "file_extension": ".py",
   "mimetype": "text/x-python",
   "name": "python",
   "nbconvert_exporter": "python",
   "pygments_lexer": "ipython3",
   "version": "3.8.8"
  }
 },
 "nbformat": 4,
 "nbformat_minor": 5
}
