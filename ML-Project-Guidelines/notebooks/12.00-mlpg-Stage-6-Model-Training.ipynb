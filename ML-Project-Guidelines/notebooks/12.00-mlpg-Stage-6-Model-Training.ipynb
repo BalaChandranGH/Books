{
 "cells": [
  {
   "cell_type": "markdown",
   "id": "2f9ee4dc-fd8d-4fb2-9b1f-6de46c1cc96a",
   "metadata": {},
   "source": [
    "<!--BOOK_INFORMATION-->\n",
    "<img align=\"left\" style=\"padding-right:10px;\" src=\"figures/MLPG-Book-Cover-Small.png\"><br>\n",
    "\n",
    "This notebook contains an excerpt from the **`Machine Learning Project Guidelines - For Beginners`** book written by *Balasubramanian Chandran*; the content is available [on GitHub](https://github.com/BalaChandranGH/Books/ML-Project-Guidelines)."
   ]
  },
  {
   "cell_type": "markdown",
   "id": "bc6cf979-f354-4e2e-bafb-3b1657fa01b5",
   "metadata": {},
   "source": [
    "<br>\n",
    "<!--NAVIGATION-->\n",
    "\n",
    "<[ [Stage-5: Model Development](11.00-mlpg-Stage-5-Model-Development.ipynb) | [Contents and Acronyms](00.00-mlpg-Contents-and-Acronyms.ipynb) | [Stage-7: Model Refinement](13.00-mlpg-Stage-7-Model-Refinement.ipynb) ]>"
   ]
  },
  {
   "cell_type": "markdown",
   "id": "0be8d267-2589-48a1-a52e-719c5a0c3222",
   "metadata": {},
   "source": [
    "# 12. Stage-6: Model Training"
   ]
  },
  {
   "cell_type": "markdown",
   "id": "cfe336fa-2d51-4d16-a3e9-24deaac3f72e",
   "metadata": {},
   "source": [
    "ML team owns full responsibility for this stage. During this stage, the _`Evaluation metrics`_ are generated using the _`Training datasets`_. Based on their performance, only a few models are selected for improvement.\n",
    "\n",
    "There are many ways to split the datasets depending on the size of the dataset to improve model learning. All these methods are used to train, refine and evaluate the ML models.\n",
    "* _K-Fold cross-validation:_\n",
    "  - A resampling procedure to evaluate the performance of the models on a small dataset (high computational cost)\n",
    "  - This procedure should be used directly during the Model Training and initial model selection stage.\n",
    "  - Use _`KFold()`_ class from _sklearn.model_selection_\n",
    "  - Usually, k is set to 10 (k=10) for 10 splits (for testing 10 models, each time training with 9 sets & testing with 1 hold-out set)\n",
    "* _StratifiedKFold:_\n",
    "  - Each fold in the split has the same proportion of observations with a given categorical value such as class outcome\n",
    "  - Use _`StratifiedKFold()`_ class from _sklearn.model_selection_\n",
    "* _RepeatedKFold:_\n",
    "  - KFold cross-validation is repeated n times\n",
    "  - Use _`RepeatedKFold()`_ class from _sklearn.model_selection_\n",
    "  - Use this for **Regression** models\n",
    "* _RepeatedStratified KFold:_\n",
    "  - It's a combination of Stratified KFold and Repeated KFold procedures\n",
    "  - Use _`RepeatedStratifiedKFold()`_ class from _sklearn.model_selection_\n",
    "  - Use this for **Classification** models"
   ]
  },
  {
   "cell_type": "markdown",
   "id": "bf1677d2-cf8a-4094-a948-3678074e92b4",
   "metadata": {},
   "source": [
    "## 12.1. Deliverables from Stage-5\n",
    "* Trained models ready for refinement/improvement\n",
    "* Evaluation Metrics"
   ]
  },
  {
   "cell_type": "markdown",
   "id": "0aacd8b7-6400-491b-8974-18456983949a",
   "metadata": {},
   "source": [
    "## 12.2. Notebook development tips\n",
    "**NOTE**: The sklearn method _`score(X, y, sample_weight=None)`_ gives the following scores\n",
    "* For Regression: _`R^2 score` (Coefficient of Determination)_\n",
    "* For Classification: _`Mean Accuracy score`_"
   ]
  },
  {
   "cell_type": "raw",
   "id": "bd118fde-e4fc-43a2-9256-54bb7724e784",
   "metadata": {},
   "source": [
    "###   MODEL TRAINING   ###\n",
    "\n",
    "## For preparing the dataset for model evaluation, you can use\n",
    "# KFold class from sklearn.model_selection \n",
    "\n",
    "# Train the models with Training dataset (& k-fold cross-validation) and generate the evaluation metrics"
   ]
  },
  {
   "cell_type": "markdown",
   "id": "477d9e2b-6f03-4c28-b337-3a8ec9e555f7",
   "metadata": {},
   "source": [
    "<!--NAVIGATION-->\n",
    "<br>\n",
    "\n",
    "<[ [Stage-5: Model Development](11.00-mlpg-Stage-5-Model-Development.ipynb) | [Contents and Acronyms](00.00-mlpg-Contents-and-Acronyms.ipynb) | [Stage-7: Model Refinement](13.00-mlpg-Stage-7-Model-Refinement.ipynb) ]>"
   ]
  }
 ],
 "metadata": {
  "kernelspec": {
   "display_name": "Python 3",
   "language": "python",
   "name": "python3"
  },
  "language_info": {
   "codemirror_mode": {
    "name": "ipython",
    "version": 3
   },
   "file_extension": ".py",
   "mimetype": "text/x-python",
   "name": "python",
   "nbconvert_exporter": "python",
   "pygments_lexer": "ipython3",
   "version": "3.8.8"
  }
 },
 "nbformat": 4,
 "nbformat_minor": 5
}
