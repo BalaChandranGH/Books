{
 "cells": [
  {
   "cell_type": "markdown",
   "id": "d23cbaa5-b87a-46f7-b0e3-4ed65768aa86",
   "metadata": {},
   "source": [
    "<!--BOOK_INFORMATION-->\n",
    "<img align=\"left\" style=\"padding-right:10px;\" src=\"figures/MLPG-Book-Cover-Small.png\"><br>\n",
    "\n",
    "This notebook contains an excerpt from the **`Machine Learning Project Guidelines - For Beginners`** book written by *Balasubramanian Chandran*; the content is available [on GitHub](https://github.com/BalaChandranGH/Books/ML-Project-Guidelines)."
   ]
  },
  {
   "cell_type": "markdown",
   "id": "13a2ed0e-a7f7-4e73-ac71-96581924ca2f",
   "metadata": {},
   "source": [
    "<br>\n",
    "<!--NAVIGATION-->\n",
    "\n",
    "<[ [Stage-8: Model Evaluation](14.00-mlpg-Stage-8-Model-Evaluation.ipynb) | [Contents and Acronyms](00.00-mlpg-Contents-and-Acronyms.ipynb) | [Stage-10: Model Validation](16.00-mlpg-Stage-10-Model-Validation.ipynb) ]>"
   ]
  },
  {
   "cell_type": "markdown",
   "id": "9015a6b9-9e55-4500-a792-04481611fb62",
   "metadata": {},
   "source": [
    "# 15. Stage-9: Final Model Selection"
   ]
  },
  {
   "cell_type": "markdown",
   "id": "50392675-8d41-46cf-83df-4f04bfd41c3b",
   "metadata": {},
   "source": [
    "Based on the _`evaluation metrics`_ generated at Stage 7 (on training datasets) and Stage 8 (on test datasets), the final model is selected. The final model is trained on the entire dataset, saved, and deployed into the test infrastructure for business user testing (i.e., for Model Validation)."
   ]
  },
  {
   "cell_type": "markdown",
   "id": "3ba2589a-9784-4f82-acc2-230f6e445033",
   "metadata": {},
   "source": [
    "## 15.1. Deliverables from Stage-9\n",
    "* Final model ready for UAT & A/B test\n",
    "* Final Model report\n",
    "* Evaluation metrics\n",
    "* Test infrastructures (for UAT & A/B)"
   ]
  },
  {
   "cell_type": "markdown",
   "id": "cef851c5-254c-45bc-9116-1fab440203be",
   "metadata": {},
   "source": [
    "<!--NAVIGATION-->\n",
    "<br>\n",
    "\n",
    "<[ [Stage-8: Model Evaluation](14.00-mlpg-Stage-8-Model-Evaluation.ipynb) | [Contents and Acronyms](00.00-mlpg-Contents-and-Acronyms.ipynb) | [Stage-10: Model Validation](16.00-mlpg-Stage-10-Model-Validation.ipynb) ]>"
   ]
  }
 ],
 "metadata": {
  "kernelspec": {
   "display_name": "Python 3",
   "language": "python",
   "name": "python3"
  },
  "language_info": {
   "codemirror_mode": {
    "name": "ipython",
    "version": 3
   },
   "file_extension": ".py",
   "mimetype": "text/x-python",
   "name": "python",
   "nbconvert_exporter": "python",
   "pygments_lexer": "ipython3",
   "version": "3.8.8"
  }
 },
 "nbformat": 4,
 "nbformat_minor": 5
}
