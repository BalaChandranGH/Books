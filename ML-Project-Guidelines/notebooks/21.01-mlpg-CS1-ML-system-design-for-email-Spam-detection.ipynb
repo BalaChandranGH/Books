{
 "cells": [
  {
   "cell_type": "markdown",
   "id": "6c14db3f-0912-4f23-82d1-171dffa4dcf9",
   "metadata": {},
   "source": [
    "<!--BOOK_INFORMATION-->\n",
    "<img align=\"left\" style=\"padding-right:10px;\" src=\"figures/MLPG-Book-Cover-Small.png\"><br>\n",
    "\n",
    "This notebook contains an excerpt from the **`Machine Learning Project Guidelines - For Beginners`** book written by *Balasubramanian Chandran*; the content is available [on GitHub](https://github.com/BalaChandranGH/Books/ML-Project-Guidelines)."
   ]
  },
  {
   "cell_type": "markdown",
   "id": "e3a91e98-c46e-496b-9053-fe03c74892a4",
   "metadata": {},
   "source": [
    "<br>\n",
    "<!--NAVIGATION-->\n",
    "\n",
    "<[ [Social Network Analysis – An Introduction](20.00-mlpg-Social-Network-Analysis–An-Introduction.ipynb) | [Contents and Acronyms](00.00-mlpg-Contents-and-Acronyms.ipynb) | [Case Study 2: Develop and evaluate an Anomaly Detection system](21.02-mlpg-CS2-Develop-and-evaluate-an-Anomaly-Detection-system.ipynb) ]>"
   ]
  },
  {
   "cell_type": "markdown",
   "id": "0321086f-5030-465e-8e47-a03f8dd9b510",
   "metadata": {},
   "source": [
    "# 21.1. Case Study 1: ML system design for email Spam detection"
   ]
  },
  {
   "cell_type": "markdown",
   "id": "9986f134-0527-4a52-a1af-133ae130a0c8",
   "metadata": {},
   "source": [
    "## 21.1. Case Study 1: ML system design for email Spam detection\n",
    "**System design for building a Spam classifier:**\n",
    "* **Step 1**: _Construct a spam vector that normally contains 10,000 to 50,000 entries, and each entry in this vector represents a word that identifies a spam; `this is a manual effort`_. For example,<br>\n",
    "  ```\n",
    "  Spam vector = (buy, deal, discount, offer, early-bird, lucky, hurry, etc)\n",
    "  ```\n",
    "  \n",
    "* **Step 2**: _Construct a vector for each email_: If a word in an email is found in a spam vector, assign its respective entry a 1, else 0.<br>\n",
    "  _Build feature vectors X_: Choose all the words in an email indicative of spam or not spam. For example,<br>\n",
    "  ```\n",
    "  X = (0, 1, 1, 0, …, 1, …, 1, …) for words in an email (Bala, buy, deal, company, …, discount, …, offer, …)\n",
    "  ```\n",
    "          \n",
    "* **Step 3**: _Once we have all our “x” vectors ready (“x” is the total # of emails that are both spam and not spam categories), we train our algorithm and can be used to classify if an email is a spam or not_. For example,\n",
    "  ```\n",
    "  From: cheapdeals@buyonline.com\n",
    "  To: bala.chandran@gmail.com\n",
    "  Subject: Hurry, buy now!\n",
    "  Deal of the day! Now or never.\n",
    "  ```"
   ]
  },
  {
   "cell_type": "markdown",
   "id": "e27d5bb7-4a91-4162-b2b9-b4cdf6eddf89",
   "metadata": {},
   "source": [
    "**How to improve the accuracy of spam classifiers?**\n",
    "* Collect lots of data (doesn’t help always)\n",
    "* Develop sophisticated features (e.g., use email header data in spam emails)\n",
    "* Develop algorithms to process input data in different ways (recognizing misspellings in spam)\n",
    "* However, it’s difficult to tell which of the options will be most helpful"
   ]
  },
  {
   "cell_type": "markdown",
   "id": "8fcbad21-ef51-4b5c-b804-d89503346dac",
   "metadata": {},
   "source": [
    "**The importance of numerical evaluation:**\n",
    "* Should the words be treated as the same word?<br>\n",
    "  `discount`/`discount`s/`discount`ing/`discount`ed<br>\n",
    "  `fail`/`fail`ing/`fail`ed<br>\n",
    "  `univer`se/`univer`sal/`univer`sity\n",
    "* Error analysis may not help decide if this is likely to improve performance\n",
    "* The only solution is to try it and see if it works or not\n",
    "* We need a numerical evaluation (e.g., CV error) of algorithm’s performance with and without stemming, and upper case vs. lower case, for example, \n",
    "  ```\n",
    "  without Stemming: 5% error\n",
    "  with Stemming: 3% error\n",
    "  Distinguish upper vs. lower case (Dad/dad): 3.2% error\n",
    "  ```\n",
    "* It’s very important to get error results as a single numerical value to assess the model’s performance\n",
    "* From the example above, we should add stemming as a new feature into our model as we see a significant improvement, whereas, we should avoid using upper case vs. lower case as a new feature\n",
    "* Hence, try new things, get a numerical value for errors, and based on the result decide whether we want to keep the new feature or not"
   ]
  },
  {
   "cell_type": "markdown",
   "id": "31cc4113-ce3c-4e14-ac87-ea5b06437237",
   "metadata": {},
   "source": [
    "**Error Metrics for Skewed Classes:**\n",
    "* It’s sometimes difficult to tell whether a reduction in error is actually an improvement of the algorithm _for example, in predicting a cancer diagnosis where 0.5% of the examples have cancer, we find our learning algorithm has a 1% error, however, if we were to simply classify every single example as a 0, then the error would reduce to 0.5% even though we did not improve the algorithm_\n",
    "* This usually happens with skewed classes, i.e., when a class is very rare in the entire dataset, or, when we have a lot more examples from one class than from the other classes (**outliers**)\n",
    "\n",
    "* **Precision/Recall** are the metrics used for this purpose\n",
    "  - Actual: 1, Predicted: 1 🠊 True Positive\n",
    "  - Actual: 0, Predicted: 0 🠊 True Negative\n",
    "  - Actual: 0, Predicted: 1 🠊 False Positive\n",
    "  - Actual: 1, Predicted: 0 🠊 False Negative\n",
    "<br><br>\n",
    "* **Precision**: Of all patients, we predicted where y=1, what fraction actually has cancer?<br>\n",
    "  $Precision = \\frac{(True \\ Positives)}{(Total \\ \\#\\  of predicted \\ positives)} = \\frac{(True \\ Positives)}{(True Positives \\ + \\ False Positives)}$\n",
    "\n",
    "* **Recall**: Of all the patients that actually have cancer, what fraction did we correctly predict as having cancer?<br>\n",
    "  $Recall = \\frac{(True \\ Positives)}{(Total \\ \\#\\  of actual positives)} = \\frac{(True \\ Positives)}{(True \\ Psotives \\ + \\ False \\ Negatives)}$\n",
    "\n",
    "* **Accuracy**: If a model is performing well, then both Precision and Recall will be high, and hence the, :<br>\n",
    "  $Accuracy = \\frac{(True \\ Positives \\ + \\ True \\ Negatives)}{(Total Population)}$\n",
    "\n",
    "* If an algorithm predicts only negatives, then the precision and F1-score can not be defined (because anything divided by 0 is infinity)"
   ]
  },
  {
   "cell_type": "markdown",
   "id": "492fd4d0-630f-44e5-b958-f36525d76348",
   "metadata": {},
   "source": [
    "**Precision and Recall Trade-off:**\n",
    "* One way to increase the confidence of our prediction of 2 classes is to increase the threshold:\n",
    "  - Predict 1, if  h∅(x)≥0.7\n",
    "  - Predict 0, if h∅(x)< 0.7\n",
    "  This would mean that predict cancer if the patient has a 70% chance, and by doing this, we will have `higher precision` but `lower recall`\n",
    "* On the other hand, we can lower the threshold to do the opposite\n",
    "  - Predict 1, if  h∅(x)≥0.3\n",
    "  - Predict 0, if h∅(x)< 0.3\n",
    "  This way, we get a very **safe prediction** but will cause `higher recall` and `lower precision`\n",
    "* The impact of the threshold is as follows:\n",
    "  - The greater the threshold, the greater the precision, and the lower the recall\n",
    "  - The lower the threshold, the greater the recall, and the lower the precision\n",
    "* If both precision and recall are equally important, then use F-Value which will produce a single number\n",
    "* F-Value is also known as F-Score or F1-Score<br>\n",
    "  $F1-Score  =  2 \\ * \\ \\frac{(Precision \\ × \\ Recall)}{(Precision \\ + \\ Recall)}$\n",
    "* Both Precision and Recall must be large for F1-Score to be large\n",
    "* Always, train the Precision and Recall on the CV set so as not to bias the test set"
   ]
  },
  {
   "cell_type": "markdown",
   "id": "4b6ffd1a-ab18-4aea-844e-bd498d2ef00c",
   "metadata": {},
   "source": [
    "<!--NAVIGATION-->\n",
    "<br>\n",
    "\n",
    "<[ [Social Network Analysis – An Introduction](20.00-mlpg-Social-Network-Analysis–An-Introduction.ipynb) | [Contents and Acronyms](00.00-mlpg-Contents-and-Acronyms.ipynb) | [Case Study 2: Develop and evaluate an Anomaly Detection system](21.02-mlpg-CS2-Develop-and-evaluate-an-Anomaly-Detection-system.ipynb) ]>"
   ]
  },
  {
   "cell_type": "code",
   "execution_count": null,
   "id": "2715a1c9-b8a1-4744-8ff3-ae81f218cf21",
   "metadata": {},
   "outputs": [],
   "source": []
  }
 ],
 "metadata": {
  "kernelspec": {
   "display_name": "Python 3",
   "language": "python",
   "name": "python3"
  },
  "language_info": {
   "codemirror_mode": {
    "name": "ipython",
    "version": 3
   },
   "file_extension": ".py",
   "mimetype": "text/x-python",
   "name": "python",
   "nbconvert_exporter": "python",
   "pygments_lexer": "ipython3",
   "version": "3.8.8"
  }
 },
 "nbformat": 4,
 "nbformat_minor": 5
}
