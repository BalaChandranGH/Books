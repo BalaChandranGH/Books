{
 "cells": [
  {
   "cell_type": "markdown",
   "id": "077ae32e-c882-4469-8f2c-6488c25b3cfe",
   "metadata": {},
   "source": [
    "<!--BOOK_INFORMATION-->\n",
    "<img align=\"left\" style=\"padding-right:10px;\" src=\"figures/MLPG-Book-Cover-Small.png\"><br>\n",
    "\n",
    "This notebook contains an excerpt from the **`Machine Learning Project Guidelines - For Beginners`** book written by *Balasubramanian Chandran*; the content is available [on GitHub](https://github.com/BalaChandranGH/Books/ML-Project-Guidelines)."
   ]
  },
  {
   "cell_type": "markdown",
   "id": "3cdfe3ae-800c-4baf-9281-53f537ab5f0e",
   "metadata": {},
   "source": [
    "<br>\n",
    "<!--NAVIGATION-->\n",
    "\n",
    "<[ [Other Considerations - Model Performance Improvement](18.06-mlpg-Other-Considerations-Model-Performance-Improvement.ipynb) | [Contents and Acronyms](00.00-mlpg-Contents-and-Acronyms.ipynb) | [Other Considerations - Recommender Systems](18.08-mlpg-Other-Considerations-RecommenderSystems.ipynb) ]>"
   ]
  },
  {
   "cell_type": "markdown",
   "id": "628ac1ff-2890-4f19-8446-b89bcb5903a3",
   "metadata": {},
   "source": [
    "# 18. Other Considerations"
   ]
  },
  {
   "cell_type": "markdown",
   "id": "519b4579-c4e3-4035-b3df-1111324df6ba",
   "metadata": {},
   "source": [
    "## 18.7. Anomaly Detection"
   ]
  },
  {
   "cell_type": "markdown",
   "id": "3d754586-395d-4ead-ab87-3e0b818194f1",
   "metadata": {},
   "source": [
    "### 18.7.1. What is Anomaly detection?\n",
    "* **Anomaly detection** (aka **outlier analysis**): \n",
    "  - A step that identifies data points/events/observations that deviate from a dataset’s normal behavior\n",
    "* **Anomaly:** \n",
    "  - A deviation from business/behavior as usual\n",
    "  - Within a dataset are data patterns that represent business as usual. An unexpected change within these data patterns, or an event that does not conform to the expected data pattern, is considered an anomaly\n",
    "  - `Anomalies are not categorically good or bad, they’re just deviations from the expected value for a metric at a given point in time`\n",
    "* **Applications of Anomaly detection:**\n",
    "  - The most common use is fraud detection\n",
    "  - Operational performance of applications and infrastructure components\n",
    "  - Evaluation of Key Performance Indicators (KPIs) that evaluate the success of the organization"
   ]
  },
  {
   "cell_type": "markdown",
   "id": "0776ac50-dd0b-4097-a0b3-f159bce83d24",
   "metadata": {},
   "source": [
    "### 18.7.2. Anomaly Detection vs Supervised Learning\n",
    "![](figures/MLPG-OC-ADvsSL.png)"
   ]
  },
  {
   "cell_type": "markdown",
   "id": "be142720-6a6a-44ea-bbc3-93a6c312b30d",
   "metadata": {},
   "source": [
    "### 18.7.3. Time-series data anomaly detection\n",
    "**Time-series anomaly detection:**\n",
    "* `Time series` data is composed of a `sequence of values over time`, which means, each point is typically a pair of two items — a timestamp for when the metric was measured, and the value associated with that metric at that time\n",
    "* Time series data is a record that contains the information necessary for making educated guesses about what can be reasonably expected in the future, and anomaly detection systems use those expectations to identify actionable signals within the data, uncovering outliers\n",
    "* Depending on the business model and use case, time-series data anomaly detection can be used for valuable metrics such as:"
   ]
  },
  {
   "cell_type": "markdown",
   "id": "f389f842-1b14-4ffe-8cc1-9ace7b243243",
   "metadata": {},
   "source": [
    "|S.No.| Mobile Apps                            | ECommerce                 |\n",
    "|-----| :--------------------------------------| :-------------------------|\n",
    "|  1  | Webpage views                          | Churn rate                |\n",
    "|  2  | Daily active users                     | Shopping cart abandonment |\n",
    "|  3  | Mobile App installs                    | Conversion rate           |\n",
    "|  4  | Online sales went down by demographics | Refund/return rate        |\n",
    "|  5  | In-app purchases                       | Revenue per click         |\n",
    "|  6  | Sales by platform                      | New use rate              |\n",
    "|  7  | Sales by geo-location                  | Average order value       |"
   ]
  },
  {
   "cell_type": "markdown",
   "id": "27e36966-d5b4-4900-8c3e-882810ab193c",
   "metadata": {},
   "source": [
    "**Types of time-series anomalies:**<br>\n",
    "There are 3 types of anomalies in business data and they are:\n",
    "1. Global outliers\n",
    "2. Contextual outliers\n",
    "3. Collective outliers"
   ]
  },
  {
   "cell_type": "markdown",
   "id": "4fdb486b-526b-4fd1-8a04-f1e89ed8128b",
   "metadata": {},
   "source": [
    "* **Global outliers aka Point outliers:**\n",
    "  - These outliers/anomalies exist far outside the entirety of a data set\n",
    "![](figures/MLPG-OC-TSGlobalOutliers.png)"
   ]
  },
  {
   "cell_type": "markdown",
   "id": "cb46e992-45aa-41ba-a13a-eb157e6f7956",
   "metadata": {},
   "source": [
    "* **Contextual outliers aka Conditional outliers:**\n",
    "  - These outliers/anomalies have values that significantly deviate from the other data points that exist in the same context\n",
    "  - An anomaly in the context of one dataset may not be an anomaly in another\n",
    "  - These outliers are common in time-series data because those datasets are records of specific quantities in a given period; the value exists within global expectations but may appear anomalous within certain seasonal data patterns\n",
    "![](figures/MLPG-OC-TSContextualOutliers.png)"
   ]
  },
  {
   "cell_type": "markdown",
   "id": "e274aa03-7872-4446-8c6a-fe861d681530",
   "metadata": {},
   "source": [
    "* **Collective outliers:**\n",
    "  - When a subset of data points within a set is anomalous to the entire dataset, those values are called collective outliers\n",
    "  - In this category, individual values aren’t anomalous globally or contextually\n",
    "  - We start to see these types of outliers when examining distinct time-series together\n",
    "  - Individual behavior may not deviate from the normal range in a specific time series dataset, but when combined with another time series dataset, more significant anomalies become clear\n",
    "![](figures/MLPG-OC-TSCollectiveOutliers1.png)\n",
    "![](figures/MLPG-OC-TSCollectiveOutliers2.png)"
   ]
  },
  {
   "cell_type": "markdown",
   "id": "0768f3bf-8d2b-45b8-ad18-ba8b0ea8f8f9",
   "metadata": {},
   "source": [
    "<!--NAVIGATION-->\n",
    "<br>\n",
    "\n",
    "<[ [Other Considerations - Model Performance Improvement](18.06-mlpg-Other-Considerations-Model-Performance-Improvement.ipynb) | [Contents and Acronyms](00.00-mlpg-Contents-and-Acronyms.ipynb) | [Other Considerations - Recommender Systems](18.08-mlpg-Other-Considerations-RecommenderSystems.ipynb) ]>"
   ]
  }
 ],
 "metadata": {
  "kernelspec": {
   "display_name": "Python 3",
   "language": "python",
   "name": "python3"
  },
  "language_info": {
   "codemirror_mode": {
    "name": "ipython",
    "version": 3
   },
   "file_extension": ".py",
   "mimetype": "text/x-python",
   "name": "python",
   "nbconvert_exporter": "python",
   "pygments_lexer": "ipython3",
   "version": "3.8.8"
  }
 },
 "nbformat": 4,
 "nbformat_minor": 5
}
